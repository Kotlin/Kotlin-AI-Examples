{
 "cells": [
  {
   "cell_type": "code",
   "metadata": {
    "collapsed": true,
    "ExecuteTime": {
     "end_time": "2025-04-02T14:35:31.464365Z",
     "start_time": "2025-04-02T14:35:25.468308Z"
    }
   },
   "source": [
    "%useLatestDescriptors\n",
    "%use coroutines\n",
    "\n",
    "@file:DependsOn(\"dev.langchain4j:langchain4j:1.0.0-beta2\")\n",
    "@file:DependsOn(\"dev.langchain4j:langchain4j-anthropic:1.0.0-beta2\")"
   ],
   "outputs": [],
   "execution_count": 1
  },
  {
   "metadata": {},
   "cell_type": "markdown",
   "source": "![Prompt Chaining Workflow](image/prompt_chaining.svg)"
  },
  {
   "metadata": {
    "ExecuteTime": {
     "end_time": "2025-04-02T14:35:31.547264Z",
     "start_time": "2025-04-02T14:35:31.479935Z"
    }
   },
   "cell_type": "code",
   "source": "val apiKey = System.getenv(\"ANTHROPIC_API_KEY\")",
   "outputs": [],
   "execution_count": 2
  },
  {
   "metadata": {
    "ExecuteTime": {
     "end_time": "2025-04-02T14:35:32.076774Z",
     "start_time": "2025-04-02T14:35:31.552124Z"
    }
   },
   "cell_type": "code",
   "source": [
    "import dev.langchain4j.data.message.SystemMessage.systemMessage\n",
    "import dev.langchain4j.data.message.UserMessage.userMessage\n",
    "import dev.langchain4j.model.anthropic.AnthropicChatModel\n",
    "import dev.langchain4j.model.anthropic.AnthropicChatModelName\n",
    "import dev.langchain4j.model.chat.chat\n",
    "\n",
    "suspend fun llmCall(\n",
    "    prompt: String,\n",
    "    systemPrompt: String? = null,\n",
    "    model: AnthropicChatModelName = AnthropicChatModelName.CLAUDE_3_7_SONNET_20250219\n",
    "): String {\n",
    "    val client = AnthropicChatModel.builder()\n",
    "        .apiKey(apiKey)\n",
    "        .modelName(model)\n",
    "        .maxTokens(4096)\n",
    "        .temperature(0.1)\n",
    "        .build()\n",
    "\n",
    "    return withContext(Dispatchers.IO) {\n",
    "        val response = client.chat {\n",
    "            systemPrompt?.let { messages += systemMessage(it) }\n",
    "            messages += userMessage(prompt)\n",
    "        }\n",
    "        response.aiMessage().text()\n",
    "    }\n",
    "}"
   ],
   "outputs": [],
   "execution_count": 3
  },
  {
   "metadata": {},
   "cell_type": "code",
   "outputs": [],
   "execution_count": null,
   "source": [
    "suspend fun chain(input: String, prompts: List<String>): String {\n",
    "    var result = input\n",
    "    prompts.forEachIndexed { index, prompt ->\n",
    "        println(\"Step ${index + 1}\")\n",
    "        result = llmCall(\"$prompt\\nInput: $result\")\n",
    "        println(result)\n",
    "    }\n",
    "    return result\n",
    "}"
   ]
  },
  {
   "metadata": {
    "ExecuteTime": {
     "end_time": "2025-04-02T14:35:32.137710Z",
     "start_time": "2025-04-02T14:35:32.084374Z"
    }
   },
   "cell_type": "code",
   "source": [
    "val prompts = listOf(\n",
    "                                // Step 1\n",
    "    \"\"\"\n",
    "    Extract only the numerical values and their associated metrics from the text.\n",
    "    Format each as 'value: metric' on a new line.\n",
    "    Example format:\n",
    "    92: customer satisfaction\n",
    "    45%: revenue growth\n",
    "    \"\"\",\n",
    "                                // Step 2\n",
    "    \"\"\"\n",
    "    Convert all numerical values to percentages where possible.\n",
    "    If not a percentage or points, convert to decimal (e.g., 92 points -> 92%).\n",
    "    Keep one number per line.\n",
    "    Example format:\n",
    "    92%: customer satisfaction\n",
    "    45%: revenue growth\n",
    "    \"\"\",\n",
    "                                // Step 3\n",
    "    \"\"\"\n",
    "    Sort all lines in descending order by numerical value.\n",
    "    Keep the format 'value: metric' on each line.\n",
    "    Example:\n",
    "    92%: customer satisfaction\n",
    "    87%: employee satisfaction\n",
    "    \"\"\",\n",
    "                                // Step 4\n",
    "    \"\"\"\n",
    "    Format the sorted data as a markdown table with columns:\n",
    "    | Metric | Value |\n",
    "    |:--|--:|\n",
    "    | Customer Satisfaction | 92% |\n",
    "    \"\"\"\n",
    ")"
   ],
   "outputs": [],
   "execution_count": 4
  },
  {
   "metadata": {
    "ExecuteTime": {
     "end_time": "2025-04-02T14:35:32.263677Z",
     "start_time": "2025-04-02T14:35:32.145525Z"
    }
   },
   "cell_type": "code",
   "source": [
    "val report =\n",
    "    \"\"\"\n",
    "    Q3 Performance Summary:\n",
    "    Our customer satisfaction score rose to 92 points this quarter.\n",
    "    Revenue grew by 45% compared to last year.\n",
    "    Market share is now at 23% in our primary market.\n",
    "    Customer churn decreased to 5% from 8%.\n",
    "    New user acquisition cost is $43 per user.\n",
    "    Product adoption rate increased to 78%.\n",
    "    Employee satisfaction is at 87 points.\n",
    "    Operating margin improved to 34%.\n",
    "    \"\"\".trimIndent()"
   ],
   "outputs": [],
   "execution_count": 5
  },
  {
   "metadata": {
    "ExecuteTime": {
     "end_time": "2025-04-02T14:35:38.713829Z",
     "start_time": "2025-04-02T14:35:32.413854Z"
    }
   },
   "cell_type": "code",
   "source": [
    "runBlocking {\n",
    "    println(\"Input text:\")\n",
    "    println(report)\n",
    "    val formattedResult = chain(report, prompts)\n",
    "    println(formattedResult)\n",
    "}"
   ],
   "outputs": [
    {
     "name": "stdout",
     "output_type": "stream",
     "text": [
      "Input text:\n",
      "Q3 Performance Summary:\n",
      "Our customer satisfaction score rose to 92 points this quarter.\n",
      "Revenue grew by 45% compared to last year.\n",
      "Market share is now at 23% in our primary market.\n",
      "Customer churn decreased to 5% from 8%.\n",
      "New user acquisition cost is $43 per user.\n",
      "Product adoption rate increased to 78%.\n",
      "Employee satisfaction is at 87 points.\n",
      "Operating margin improved to 34%.\n",
      "Step 1\n",
      "92: customer satisfaction score\n",
      "45%: revenue growth\n",
      "23%: market share\n",
      "5%: customer churn\n",
      "$43: new user acquisition cost\n",
      "78%: product adoption rate\n",
      "87: employee satisfaction\n",
      "34%: operating margin\n",
      "Step 2\n",
      "92%: customer satisfaction score\n",
      "45%: revenue growth\n",
      "23%: market share\n",
      "5%: customer churn\n",
      "$43: new user acquisition cost\n",
      "78%: product adoption rate\n",
      "87%: employee satisfaction\n",
      "34%: operating margin\n",
      "Step 3\n",
      "92%: customer satisfaction score\n",
      "87%: employee satisfaction\n",
      "78%: product adoption rate\n",
      "45%: revenue growth\n",
      "34%: operating margin\n",
      "23%: market share\n",
      "$43: new user acquisition cost\n",
      "5%: customer churn\n",
      "Step 4\n",
      "| Metric | Value |\n",
      "|:--|--:|\n",
      "| Customer Satisfaction | 92% |\n",
      "| Employee Satisfaction | 87% |\n",
      "| Product Adoption Rate | 78% |\n",
      "| Revenue Growth | 45% |\n",
      "| Operating Margin | 34% |\n",
      "| Market Share | 23% |\n",
      "| Customer Churn | 5% |\n",
      "| New User Acquisition Cost | $43 |\n",
      "| Metric | Value |\n",
      "|:--|--:|\n",
      "| Customer Satisfaction | 92% |\n",
      "| Employee Satisfaction | 87% |\n",
      "| Product Adoption Rate | 78% |\n",
      "| Revenue Growth | 45% |\n",
      "| Operating Margin | 34% |\n",
      "| Market Share | 23% |\n",
      "| Customer Churn | 5% |\n",
      "| New User Acquisition Cost | $43 |\n"
     ]
    }
   ],
   "execution_count": 7
  }
 ],
 "metadata": {
  "kernelspec": {
   "display_name": "Kotlin",
   "language": "kotlin",
   "name": "kotlin"
  },
  "language_info": {
   "name": "kotlin",
   "version": "1.9.23",
   "mimetype": "text/x-kotlin",
   "file_extension": ".kt",
   "pygments_lexer": "kotlin",
   "codemirror_mode": "text/x-kotlin",
   "nbconvert_exporter": ""
  }
 },
 "nbformat": 4,
 "nbformat_minor": 0
}
