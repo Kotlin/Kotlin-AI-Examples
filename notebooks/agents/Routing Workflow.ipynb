{
 "cells": [
  {
   "metadata": {},
   "cell_type": "markdown",
   "source": [
    "# Routing Workflow\n",
    "\n",
    "In this notebook, we'll explore the routing workflow pattern for building AI agents.\n",
    "Using Kotlin and OpenAI's GPT models via the LangChain4j library,\n",
    "we'll implement a practical example that demonstrates how to intelligently route different types of requests to specialized handlers.\n",
    "\n",
    "## What is routing?\n",
    "\n",
    "Routing is a workflow pattern that first classifies an input and then directs it to the most appropriate specialized handler.\n",
    "Think of it as a smart dispatcher that ensures each request is handled by the right expert.\n",
    "\n",
    "![Routing Workflow Diagram](image/routing.svg)\n",
    "\n",
    "### Key benefits:\n",
    "\n",
    "- Each handler can be optimized for specific input types\n",
    "- Routing logic is isolated from processing logic\n",
    "- Specialized handlers perform better on their specific tasks\n",
    "- Adding new handlers is straightforward\n",
    "\n",
    "### When to use routing\n",
    "\n",
    "Common use cases include:\n",
    "- Customer support ticket classification\n",
    "- Content moderation with different policies\n",
    "- Optimizing cost/performance by routing between different model sizes\n",
    "\n",
    "## Setting up environment\n",
    "\n",
    "First, let's set up our Kotlin notebook with the necessary dependencies:"
   ]
  },
  {
   "metadata": {
    "ExecuteTime": {
     "end_time": "2025-05-11T21:49:56.626451Z",
     "start_time": "2025-05-11T21:49:55.686026Z"
    }
   },
   "cell_type": "code",
   "source": [
    "%useLatestDescriptors\n",
    "%use langchain4j(1.0.0-beta3)"
   ],
   "outputs": [],
   "execution_count": 1
  },
  {
   "metadata": {},
   "cell_type": "markdown",
   "source": "Need an API key for accessing OpenAI models:"
  },
  {
   "metadata": {
    "ExecuteTime": {
     "end_time": "2025-05-11T21:49:56.656261Z",
     "start_time": "2025-05-11T21:49:56.630928Z"
    }
   },
   "cell_type": "code",
   "source": "val apiKey = System.getenv(\"OPENAI_API_KEY\")",
   "outputs": [],
   "execution_count": 2
  },
  {
   "metadata": {},
   "cell_type": "markdown",
   "source": [
    "## Creating the model builder\n",
    "\n",
    "Next, set up a model builder with some default configurations:"
   ]
  },
  {
   "metadata": {
    "ExecuteTime": {
     "end_time": "2025-05-11T21:49:57.504579Z",
     "start_time": "2025-05-11T21:49:57.461393Z"
    }
   },
   "cell_type": "code",
   "source": [
    "val clientBuilder = OpenAiChatModel.builder()\n",
    "    .apiKey(apiKey)\n",
    "    .modelName(OpenAiChatModelName.GPT_4_O_MINI)\n",
    "    .maxTokens(4096)\n",
    "    .temperature(0.1)"
   ],
   "outputs": [],
   "execution_count": 3
  },
  {
   "metadata": {},
   "cell_type": "markdown",
   "source": [
    "## Defining the routing response structure\n",
    "\n",
    "Create a data class to represent the structured routing decisions:"
   ]
  },
  {
   "metadata": {
    "ExecuteTime": {
     "end_time": "2025-05-11T21:50:00.508006Z",
     "start_time": "2025-05-11T21:50:00.322466Z"
    }
   },
   "cell_type": "code",
   "source": [
    "import kotlinx.serialization.Serializable\n",
    "\n",
    "/**\n",
    " * Class representing the response from the routing classification process.\n",
    " *\n",
    " * @property reasoning The reasoning behind the route selection, explaining why this particular\n",
    " * route was chosen based on the input analysis.\n",
    " * @property selection The selected route name that will handle the input based on the\n",
    " * classification analysis.\n",
    " */\n",
    "@Serializable\n",
    "data class RoutingResponse(val reasoning: String, val selection: String)"
   ],
   "outputs": [],
   "execution_count": 4
  },
  {
   "metadata": {},
   "cell_type": "markdown",
   "source": [
    "## Implementing the routing logic\n",
    "\n",
    "Now we'll implement the core routing functionality as extension functions"
   ]
  },
  {
   "metadata": {
    "ExecuteTime": {
     "end_time": "2025-05-11T21:51:04.273220Z",
     "start_time": "2025-05-11T21:51:04.170776Z"
    }
   },
   "cell_type": "code",
   "source": [
    "import dev.langchain4j.data.message.UserMessage\n",
    "import dev.langchain4j.model.chat.request.ChatRequest\n",
    "import dev.langchain4j.model.chat.request.ResponseFormat\n",
    "import dev.langchain4j.model.chat.request.ResponseFormatType\n",
    "import dev.langchain4j.model.chat.request.json.JsonObjectSchema\n",
    "import dev.langchain4j.model.chat.request.json.JsonSchema\n",
    "import kotlinx.serialization.json.Json\n",
    "\n",
    "fun OpenAiChatModel.OpenAiChatModelBuilder.route(input: String, routes: Map<String, String>): String {\n",
    "    val routeKey = determineRoute(input, routes)\n",
    "\n",
    "    val client = this.build()\n",
    "    val selectedPrompt = routes[routeKey]\n",
    "    return client.chat(\"$selectedPrompt\\n\\nInput: $input\")\n",
    "}\n",
    "\n",
    "fun OpenAiChatModel.OpenAiChatModelBuilder.determineRoute(input: String, routes: Map<String, String>): String {\n",
    "    println(\"Available routes: ${routes.keys}\")\n",
    "    val selectorPrompt =\n",
    "        \"\"\"\n",
    "        Analyze the input and select the most appropriate support team from these options: ${routes.keys}\n",
    "        First explain your reasoning, then provide your selection in this JSON format:\n",
    "\n",
    "        ```json\n",
    "        {\n",
    "            \"reasoning\": \"Brief explanation of why this ticket should be routed to a specific team.\n",
    "        Consider key terms, user intent, and urgency level.\",\n",
    "            \"selection\": \"The chosen team name\"\n",
    "        }\n",
    "        ```\n",
    "\n",
    "        Input: $input\n",
    "        \"\"\".trimIndent()\n",
    "\n",
    "\n",
    "    val chatRequest = ChatRequest.builder()\n",
    "        .messages(UserMessage(selectorPrompt))\n",
    "        .responseFormat(\n",
    "            ResponseFormat.builder()\n",
    "                .type(ResponseFormatType.JSON)\n",
    "                .jsonSchema(\n",
    "                    JsonSchema.builder()\n",
    "                        .name(\"RoutingResponse\")\n",
    "                        .rootElement(\n",
    "                            JsonObjectSchema.builder()\n",
    "                                .addStringProperty(\"reasoning\")\n",
    "                                .addStringProperty(\"selection\")\n",
    "                                .build()\n",
    "                        )\n",
    "                        .build()\n",
    "                )\n",
    "                .build()\n",
    "        )\n",
    "        .build()\n",
    "\n",
    "    val client = this\n",
    "        .supportedCapabilities(Capability.RESPONSE_FORMAT_JSON_SCHEMA)\n",
    "        .strictJsonSchema(true)\n",
    "        .build()\n",
    "\n",
    "    val routingResponse = Json.decodeFromString<RoutingResponse>(client.chat(chatRequest).aiMessage().text())\n",
    "    val (reasoning, routeKey) = routingResponse\n",
    "\n",
    "    println(\"Routing Analysis:\")\n",
    "    println(reasoning)\n",
    "    println(\"Selected route: $routeKey\")\n",
    "\n",
    "    return routeKey\n",
    "}"
   ],
   "outputs": [],
   "execution_count": 6
  },
  {
   "metadata": {},
   "cell_type": "markdown",
   "source": [
    "## Defining routes\n",
    "\n",
    "Let's define the specialized handlers for different types of support tickets:"
   ]
  },
  {
   "metadata": {
    "ExecuteTime": {
     "end_time": "2025-05-11T21:51:05.865926Z",
     "start_time": "2025-05-11T21:51:05.829507Z"
    }
   },
   "cell_type": "code",
   "source": [
    "val supportRoutes = mapOf(\n",
    "    \"billing\" to \"\"\"You are a billing support specialist. Follow these guidelines:\n",
    "    1. Always start with \"Billing Support Response:\"\n",
    "    2. First acknowledge the specific billing issue\n",
    "    3. Explain any charges or discrepancies clearly\n",
    "    4. List concrete next steps with timeline\n",
    "    5. End with payment options if relevant\n",
    "\n",
    "    Keep responses professional but friendly.\n",
    "\n",
    "    Input: \"\"\",\n",
    "\n",
    "    \"technical\" to \"\"\"You are a technical support engineer. Follow these guidelines:\n",
    "    1. Always start with \"Technical Support Response:\"\n",
    "    2. List exact steps to resolve the issue\n",
    "    3. Include system requirements if relevant\n",
    "    4. Provide workarounds for common problems\n",
    "    5. End with escalation path if needed\n",
    "\n",
    "    Use clear, numbered steps and technical details.\n",
    "\n",
    "    Input: \"\"\",\n",
    "\n",
    "    \"account\" to \"\"\"You are an account security specialist. Follow these guidelines:\n",
    "    1. Always start with \"Account Support Response:\"\n",
    "    2. Prioritize account security and verification\n",
    "    3. Provide clear steps for account recovery/changes\n",
    "    4. Include security tips and warnings\n",
    "    5. Set clear expectations for resolution time\n",
    "\n",
    "    Maintain a serious, security-focused tone.\n",
    "\n",
    "    Input: \"\"\",\n",
    "\n",
    "    \"product\" to \"\"\"You are a product specialist. Follow these guidelines:\n",
    "    1. Always start with \"Product Support Response:\"\n",
    "    2. Focus on feature education and best practices\n",
    "    3. Include specific examples of usage\n",
    "    4. Link to relevant documentation sections\n",
    "    5. Suggest related features that might help\n",
    "\n",
    "    Be educational and encouraging in tone.\n",
    "\n",
    "    Input: \"\"\"\n",
    ")"
   ],
   "outputs": [],
   "execution_count": 7
  },
  {
   "metadata": {},
   "cell_type": "markdown",
   "source": [
    "## Testing with sample tickets\n",
    "\n",
    "Now let's test the routing system with some sample support tickets"
   ]
  },
  {
   "metadata": {
    "ExecuteTime": {
     "end_time": "2025-05-11T21:51:07.143681Z",
     "start_time": "2025-05-11T21:51:07.124116Z"
    }
   },
   "cell_type": "code",
   "source": [
    "val tickets = listOf(\n",
    "    \"\"\"\n",
    "    Subject: Can't access my account\n",
    "    Message: Hi, I've been trying to log in for the past hour but keep getting an 'invalid password' error.\n",
    "    I'm sure I'm using the right password. Can you help me regain access? This is urgent as I need to\n",
    "    submit a report by end of day.\n",
    "    - John\n",
    "    \"\"\",\n",
    "\n",
    "    \"\"\"\n",
    "    Subject: Unexpected charge on my card\n",
    "    Message: Hello, I just noticed a charge of $49.99 on my credit card from your company, but I thought\n",
    "    I was on the $29.99 plan. Can you explain this charge and adjust it if it's a mistake?\n",
    "    Thanks,\n",
    "    Sarah\n",
    "    \"\"\",\n",
    "\n",
    "    \"\"\"\n",
    "    Subject: How to export data?\n",
    "    Message: I need to export all my project data to Excel. I've looked through the docs but can't\n",
    "    figure out how to do a bulk export. Is this possible? If so, could you walk me through the steps?\n",
    "    Best regards,\n",
    "    Mike\n",
    "    \"\"\"\n",
    ")"
   ],
   "outputs": [],
   "execution_count": 8
  },
  {
   "metadata": {},
   "cell_type": "markdown",
   "source": "Finally, process tickets through the routing system:"
  },
  {
   "metadata": {
    "ExecuteTime": {
     "end_time": "2025-05-11T21:51:42.001153Z",
     "start_time": "2025-05-11T21:51:11.086610Z"
    }
   },
   "cell_type": "code",
   "source": [
    "println(\"Processing support tickets...\")\n",
    "tickets.forEachIndexed { index, ticket ->\n",
    "    println(\"Ticket ${index + 1}:\")\n",
    "    println(\"-\".repeat(40))\n",
    "    println(ticket)\n",
    "    println(\"Response:\")\n",
    "    println(\"-\".repeat(40))\n",
    "    val response = clientBuilder.route(ticket, supportRoutes)\n",
    "    println(response)\n",
    "}"
   ],
   "outputs": [
    {
     "name": "stdout",
     "output_type": "stream",
     "text": [
      "Processing support tickets...\n",
      "Ticket 1:\n",
      "----------------------------------------\n",
      "\n",
      "    Subject: Can't access my account\n",
      "    Message: Hi, I've been trying to log in for the past hour but keep getting an 'invalid password' error.\n",
      "    I'm sure I'm using the right password. Can you help me regain access? This is urgent as I need to\n",
      "    submit a report by end of day.\n",
      "    - John\n",
      "    \n",
      "Response:\n",
      "----------------------------------------\n",
      "Available routes: [billing, technical, account, product]\n",
      "Routing Analysis:\n",
      "The user is experiencing issues with logging into their account, specifically receiving an 'invalid password' error despite using what they believe is the correct password. This indicates a problem related to account access rather than billing, technical issues with the product itself, or inquiries about product features. Given the urgency expressed by the user, as they need to regain access to submit a report by the end of the day, the account support team is best suited to assist with this issue.\n",
      "Selected route: account\n",
      "Account Support Response:\n",
      "\n",
      "Dear John,\n",
      "\n",
      "Thank you for reaching out regarding your account access issue. We understand the urgency of your situation, and we are here to assist you in regaining access to your account. To prioritize your account security, please follow these steps:\n",
      "\n",
      "1. **Verify Your Identity**: Before we proceed, we need to confirm your identity. Please provide the following information:\n",
      "   - The email address associated with your account.\n",
      "   - Any recent transactions or account activity that you can recall.\n",
      "   - The last successful login date and time.\n",
      "\n",
      "2. **Password Reset**: If you are confident that you are using the correct password, it may be beneficial to reset it. Please follow these steps:\n",
      "   - Go to the login page and click on \"Forgot Password?\"\n",
      "   - Enter your registered email address and follow the instructions sent to your email.\n",
      "   - Create a new password that is strong and unique (at least 12 characters, including uppercase letters, lowercase letters, numbers, and special characters).\n",
      "\n",
      "3. **Check for Account Lock**: If you have attempted to log in multiple times with an incorrect password, your account may be temporarily locked for security reasons. If this is the case, please wait 30 minutes before trying again or proceed with the password reset.\n",
      "\n",
      "4. **Enable Two-Factor Authentication (2FA)**: Once you regain access, we highly recommend enabling 2FA for added security. This will require a second form of verification when logging in, significantly enhancing your account's protection.\n",
      "\n",
      "**Security Tips**:\n",
      "- Avoid using the same password across multiple accounts.\n",
      "- Regularly update your passwords and use a password manager if necessary.\n",
      "- Be cautious of phishing attempts; always verify the source of any communication regarding your account.\n",
      "\n",
      "**Resolution Time**: Once we receive the required information, we aim to resolve your issue within 24 hours. However, if you choose to reset your password, you should be able to regain access immediately after completing the reset process.\n",
      "\n",
      "Please respond with the requested information at your earliest convenience so we can assist you further.\n",
      "\n",
      "Best regards,\n",
      "\n",
      "[Your Name]  \n",
      "Account Security Team\n",
      "Ticket 2:\n",
      "----------------------------------------\n",
      "\n",
      "    Subject: Unexpected charge on my card\n",
      "    Message: Hello, I just noticed a charge of $49.99 on my credit card from your company, but I thought\n",
      "    I was on the $29.99 plan. Can you explain this charge and adjust it if it's a mistake?\n",
      "    Thanks,\n",
      "    Sarah\n",
      "    \n",
      "Response:\n",
      "----------------------------------------\n",
      "Available routes: [billing, technical, account, product]\n",
      "Routing Analysis:\n",
      "The ticket should be routed to the billing team because the user is inquiring about an unexpected charge on their credit card. The key terms here are 'unexpected charge' and 'adjust it if it's a mistake', indicating that Sarah is seeking clarification and potential correction regarding billing issues. This falls squarely within the responsibilities of the billing team, who handle charges and payment discrepancies.\n",
      "Selected route: billing\n",
      "Billing Support Response:\n",
      "\n",
      "Hello Sarah,\n",
      "\n",
      "Thank you for reaching out regarding the unexpected charge of $49.99 on your credit card. I understand how concerning this can be, especially when you were expecting to be billed at the $29.99 plan.\n",
      "\n",
      "Upon reviewing your account, it appears that the charge of $49.99 corresponds to an upgrade to a premium service that was activated recently. This may have been done inadvertently or through a misunderstanding of the plan options. I apologize for any confusion this may have caused.\n",
      "\n",
      "To resolve this issue, I recommend the following steps:\n",
      "\n",
      "1. **Confirm Your Current Plan**: Please verify if you intended to upgrade to the premium service. If not, we can revert your account back to the $29.99 plan.\n",
      "2. **Adjustment of Charges**: If you confirm that you did not intend to upgrade, I will initiate a refund for the $49.99 charge. This process typically takes 3-5 business days to reflect on your account.\n",
      "3. **Future Billing**: Once the adjustment is made, you will be billed $29.99 for your next billing cycle.\n",
      "\n",
      "Please reply to this message confirming your intended plan, and I will take care of the rest promptly.\n",
      "\n",
      "For your convenience, we accept various payment options including credit/debit cards and PayPal for future transactions.\n",
      "\n",
      "Thank you for your understanding, and I look forward to resolving this for you!\n",
      "\n",
      "Best regards,  \n",
      "[Your Name]  \n",
      "Billing Support Specialist\n",
      "Ticket 3:\n",
      "----------------------------------------\n",
      "\n",
      "    Subject: How to export data?\n",
      "    Message: I need to export all my project data to Excel. I've looked through the docs but can't\n",
      "    figure out how to do a bulk export. Is this possible? If so, could you walk me through the steps?\n",
      "    Best regards,\n",
      "    Mike\n",
      "    \n",
      "Response:\n",
      "----------------------------------------\n",
      "Available routes: [billing, technical, account, product]\n",
      "Routing Analysis:\n",
      "The user's request is focused on exporting project data to Excel, which pertains to the functionality of the product itself. The user is seeking guidance on how to perform a specific action within the product, indicating that they need assistance with the product's features rather than billing, account management, or technical issues. Therefore, the product team is best suited to provide the necessary support and instructions for exporting data.\n",
      "Selected route: product\n",
      "Product Support Response:\n",
      "\n",
      "Hi Mike,\n",
      "\n",
      "Thank you for reaching out! I’m happy to help you with exporting your project data to Excel. Yes, it is indeed possible to perform a bulk export, and I’ll walk you through the steps to make it as smooth as possible.\n",
      "\n",
      "### Steps to Export Data to Excel:\n",
      "\n",
      "1. **Navigate to Your Project**: Start by opening the project from which you want to export data.\n",
      "\n",
      "2. **Access the Export Feature**: Look for the \"Export\" option, which is typically found in the project settings or under the \"More\" menu (represented by three dots or a gear icon).\n",
      "\n",
      "3. **Select Data Type**: You may have options to choose what type of data you want to export (e.g., tasks, milestones, or overall project data). Select the appropriate option based on your needs.\n",
      "\n",
      "4. **Choose Excel Format**: When prompted, select the Excel format for your export. This is usually labeled as \".xlsx\" or \"Excel\".\n",
      "\n",
      "5. **Initiate Export**: Click on the \"Export\" button. Depending on the size of your project, this may take a moment. Once completed, a download link will be provided.\n",
      "\n",
      "6. **Download the File**: Click the link to download your Excel file, and you can then open it in Excel for further analysis or reporting.\n",
      "\n",
      "### Example of Usage:\n",
      "For instance, if you are managing a project with multiple tasks and team members, exporting this data can help you create a comprehensive report for stakeholders. You can analyze task completion rates, resource allocation, and timelines directly in Excel.\n",
      "\n",
      "### Relevant Documentation:\n",
      "For more detailed instructions, please refer to our [Exporting Data Documentation](#). This section provides additional insights and troubleshooting tips if you encounter any issues.\n",
      "\n",
      "### Related Features:\n",
      "You might also find the **Data Filtering** feature helpful before exporting. This allows you to narrow down the data to only what you need, making your Excel file more manageable. Additionally, consider using **Dashboards** to visualize your project data before exporting, which can provide a clearer picture of your project’s status.\n",
      "\n",
      "If you have any further questions or need additional assistance, feel free to ask. Happy exporting!\n",
      "\n",
      "Best regards,  \n",
      "[Your Name]  \n",
      "Product Support Team\n"
     ]
    }
   ],
   "execution_count": 9
  },
  {
   "metadata": {},
   "cell_type": "markdown",
   "source": [
    "## How it works\n",
    "\n",
    "Our implementation follows these steps:\n",
    "- Classification\n",
    "- Structured output\n",
    "- Specialized handling\n",
    "- Response generation\n",
    "\n",
    "\n",
    "## Conclusion\n",
    "\n",
    "The routing workflow offers a powerful approach to handling diverse inputs effectively.\n",
    "By separating classification from specialized handling, we can build systems that are both flexible and highly optimized.\n",
    "\n",
    "This pattern is particularly valuable for applications dealing with a wide variety of user requests or content types,\n",
    "allowing each specialized component to focus on what it does best while maintaining a coherent overall experience."
   ]
  }
 ],
 "metadata": {
  "kernelspec": {
   "display_name": "Kotlin",
   "language": "kotlin",
   "name": "kotlin"
  },
  "language_info": {
   "name": "kotlin",
   "version": "1.9.23",
   "mimetype": "text/x-kotlin",
   "file_extension": ".kt",
   "pygments_lexer": "kotlin",
   "codemirror_mode": "text/x-kotlin",
   "nbconvert_exporter": ""
  }
 },
 "nbformat": 4,
 "nbformat_minor": 0
}
