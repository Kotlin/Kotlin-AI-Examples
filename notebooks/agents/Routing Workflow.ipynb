{
 "cells": [
  {
   "metadata": {},
   "cell_type": "markdown",
   "source": [
    "# Routing Workflow\n",
    "\n",
    "In this notebook, we'll explore the routing workflow pattern for building AI agents.\n",
    "Using Kotlin and OpenAI's GPT models via the LangChain4j library,\n",
    "we'll implement a practical example that demonstrates how to intelligently route different types of requests to specialized handlers.\n",
    "\n",
    "## What is routing?\n",
    "\n",
    "Routing is a workflow pattern that first classifies an input and then directs it to the most appropriate specialized handler.\n",
    "Think of it as a smart dispatcher that ensures each request is handled by the right expert.\n",
    "\n",
    "![Routing Workflow Diagram](image/routing.svg)\n",
    "\n",
    "### Key benefits:\n",
    "\n",
    "- Each handler can be optimized for specific input types\n",
    "- Routing logic is isolated from processing logic\n",
    "- Specialized handlers perform better on their specific tasks\n",
    "- Adding new handlers is straightforward\n",
    "\n",
    "### When to use routing\n",
    "\n",
    "Common use cases include:\n",
    "- Customer support ticket classification\n",
    "- Content moderation with different policies\n",
    "- Optimizing cost/performance by routing between different model sizes\n",
    "\n",
    "## Setting up environment\n",
    "\n",
    "First, let's set up our Kotlin notebook with the necessary dependencies:"
   ]
  },
  {
   "metadata": {
    "ExecuteTime": {
     "end_time": "2025-04-04T15:19:57.780935Z",
     "start_time": "2025-04-04T15:19:57.289447Z"
    }
   },
   "cell_type": "code",
   "source": [
    "@file:DependsOn(\"dev.langchain4j:langchain4j:1.0.0-beta2\")\n",
    "@file:DependsOn(\"dev.langchain4j:langchain4j-open-ai:1.0.0-beta2\")\n",
    "\n"
   ],
   "outputs": [],
   "execution_count": 1
  },
  {
   "metadata": {},
   "cell_type": "markdown",
   "source": "Need an API key for accessing OpenAI models:"
  },
  {
   "metadata": {
    "ExecuteTime": {
     "end_time": "2025-04-04T15:20:20.176987Z",
     "start_time": "2025-04-04T15:20:20.107713Z"
    }
   },
   "cell_type": "code",
   "source": "val apiKey = System.getenv(\"OPENAI_API_KEY\")",
   "outputs": [],
   "execution_count": 2
  },
  {
   "metadata": {},
   "cell_type": "markdown",
   "source": [
    "## Creating the model builder\n",
    "\n",
    "Next, set up a model builder with some default configurations:"
   ]
  },
  {
   "metadata": {
    "ExecuteTime": {
     "end_time": "2025-04-04T15:20:58.881842Z",
     "start_time": "2025-04-04T15:20:58.786391Z"
    }
   },
   "cell_type": "code",
   "source": [
    "import dev.langchain4j.model.openai.OpenAiChatModel\n",
    "import dev.langchain4j.model.openai.OpenAiChatModelName\n",
    "\n",
    "val clientBuilder = OpenAiChatModel.builder()\n",
    "    .apiKey(apiKey)\n",
    "    .modelName(OpenAiChatModelName.GPT_4_O_MINI)\n",
    "    .maxTokens(4096)\n",
    "    .temperature(0.1)"
   ],
   "outputs": [],
   "execution_count": 3
  },
  {
   "metadata": {},
   "cell_type": "markdown",
   "source": [
    "## Defining the routing response structure\n",
    "\n",
    "Create a data class to represent the structured routing decisions:"
   ]
  },
  {
   "metadata": {
    "ExecuteTime": {
     "end_time": "2025-04-04T15:21:48.114312Z",
     "start_time": "2025-04-04T15:21:47.750719Z"
    }
   },
   "cell_type": "code",
   "source": [
    "import kotlinx.serialization.Serializable\n",
    "\n",
    "/**\n",
    " * Class representing the response from the routing classification process.\n",
    " *\n",
    " * @property reasoning The reasoning behind the route selection, explaining why this particular\n",
    " * route was chosen based on the input analysis.\n",
    " * @property selection The selected route name that will handle the input based on the\n",
    " * classification analysis.\n",
    " */\n",
    "@Serializable\n",
    "data class RoutingResponse(val reasoning: String, val selection: String)"
   ],
   "outputs": [],
   "execution_count": 4
  },
  {
   "metadata": {},
   "cell_type": "markdown",
   "source": [
    "## Implementing the routing logic\n",
    "\n",
    "Now we'll implement the core routing functionality as extension functions"
   ]
  },
  {
   "metadata": {
    "ExecuteTime": {
     "end_time": "2025-04-04T15:22:31.347173Z",
     "start_time": "2025-04-04T15:22:31.106620Z"
    }
   },
   "cell_type": "code",
   "source": [
    "import dev.langchain4j.data.message.UserMessage\n",
    "import dev.langchain4j.model.chat.Capability\n",
    "import dev.langchain4j.model.chat.request.ChatRequest\n",
    "import dev.langchain4j.model.chat.request.ResponseFormat\n",
    "import dev.langchain4j.model.chat.request.ResponseFormatType\n",
    "import dev.langchain4j.model.chat.request.json.JsonObjectSchema\n",
    "import dev.langchain4j.model.chat.request.json.JsonSchema\n",
    "import kotlinx.serialization.json.Json\n",
    "\n",
    "fun OpenAiChatModel.OpenAiChatModelBuilder.route(input: String, routes: Map<String, String>): String {\n",
    "    val routeKey = determineRoute(input, routes)\n",
    "\n",
    "    val client = this.build()\n",
    "    val selectedPrompt = routes[routeKey]\n",
    "    return client.chat(\"$selectedPrompt\\n\\nInput: $input\")\n",
    "}\n",
    "\n",
    "fun OpenAiChatModel.OpenAiChatModelBuilder.determineRoute(input: String, routes: Map<String, String>): String {\n",
    "    println(\"Available routes: ${routes.keys}\")\n",
    "    val selectorPrompt =\n",
    "        \"\"\"\n",
    "        Analyze the input and select the most appropriate support team from these options: ${routes.keys}\n",
    "        First explain your reasoning, then provide your selection in this JSON format:\n",
    "\n",
    "        ```json\n",
    "        {\n",
    "            \"reasoning\": \"Brief explanation of why this ticket should be routed to a specific team.\n",
    "        Consider key terms, user intent, and urgency level.\",\n",
    "            \"selection\": \"The chosen team name\"\n",
    "        }\n",
    "        ```\n",
    "\n",
    "        Input: $input\n",
    "        \"\"\".trimIndent()\n",
    "\n",
    "\n",
    "    val chatRequest = ChatRequest.builder()\n",
    "        .messages(UserMessage(selectorPrompt))\n",
    "        .responseFormat(\n",
    "            ResponseFormat.builder()\n",
    "                .type(ResponseFormatType.JSON)\n",
    "                .jsonSchema(\n",
    "                    JsonSchema.builder()\n",
    "                        .name(\"RoutingResponse\")\n",
    "                        .rootElement(\n",
    "                            JsonObjectSchema.builder()\n",
    "                                .addStringProperty(\"reasoning\")\n",
    "                                .addStringProperty(\"selection\")\n",
    "                                .build()\n",
    "                        )\n",
    "                        .build()\n",
    "                )\n",
    "                .build()\n",
    "        )\n",
    "        .build()\n",
    "\n",
    "    val client = this\n",
    "        .supportedCapabilities(Capability.RESPONSE_FORMAT_JSON_SCHEMA)\n",
    "        .strictJsonSchema(true)\n",
    "        .build()\n",
    "\n",
    "    val routingResponse = Json.decodeFromString<RoutingResponse>(client.chat(chatRequest).aiMessage().text())\n",
    "    val (reasoning, routeKey) = routingResponse\n",
    "\n",
    "    println(\"Routing Analysis:\")\n",
    "    println(reasoning)\n",
    "    println(\"Selected route: $routeKey\")\n",
    "\n",
    "    return routeKey\n",
    "}"
   ],
   "outputs": [],
   "execution_count": 5
  },
  {
   "metadata": {},
   "cell_type": "markdown",
   "source": [
    "## Defining routes\n",
    "\n",
    "Let's define the specialized handlers for different types of support tickets:"
   ]
  },
  {
   "metadata": {
    "ExecuteTime": {
     "end_time": "2025-04-04T15:23:28.440462Z",
     "start_time": "2025-04-04T15:23:28.374884Z"
    }
   },
   "cell_type": "code",
   "source": [
    "val supportRoutes = mapOf(\n",
    "    \"billing\" to \"\"\"You are a billing support specialist. Follow these guidelines:\n",
    "    1. Always start with \"Billing Support Response:\"\n",
    "    2. First acknowledge the specific billing issue\n",
    "    3. Explain any charges or discrepancies clearly\n",
    "    4. List concrete next steps with timeline\n",
    "    5. End with payment options if relevant\n",
    "\n",
    "    Keep responses professional but friendly.\n",
    "\n",
    "    Input: \"\"\",\n",
    "\n",
    "    \"technical\" to \"\"\"You are a technical support engineer. Follow these guidelines:\n",
    "    1. Always start with \"Technical Support Response:\"\n",
    "    2. List exact steps to resolve the issue\n",
    "    3. Include system requirements if relevant\n",
    "    4. Provide workarounds for common problems\n",
    "    5. End with escalation path if needed\n",
    "\n",
    "    Use clear, numbered steps and technical details.\n",
    "\n",
    "    Input: \"\"\",\n",
    "\n",
    "    \"account\" to \"\"\"You are an account security specialist. Follow these guidelines:\n",
    "    1. Always start with \"Account Support Response:\"\n",
    "    2. Prioritize account security and verification\n",
    "    3. Provide clear steps for account recovery/changes\n",
    "    4. Include security tips and warnings\n",
    "    5. Set clear expectations for resolution time\n",
    "\n",
    "    Maintain a serious, security-focused tone.\n",
    "\n",
    "    Input: \"\"\",\n",
    "\n",
    "    \"product\" to \"\"\"You are a product specialist. Follow these guidelines:\n",
    "    1. Always start with \"Product Support Response:\"\n",
    "    2. Focus on feature education and best practices\n",
    "    3. Include specific examples of usage\n",
    "    4. Link to relevant documentation sections\n",
    "    5. Suggest related features that might help\n",
    "\n",
    "    Be educational and encouraging in tone.\n",
    "\n",
    "    Input: \"\"\"\n",
    ")"
   ],
   "outputs": [],
   "execution_count": 6
  },
  {
   "metadata": {},
   "cell_type": "markdown",
   "source": [
    "## Testing with sample tickets\n",
    "\n",
    "Now let's test the routing system with some sample support tickets"
   ]
  },
  {
   "metadata": {
    "ExecuteTime": {
     "end_time": "2025-04-04T15:24:04.676821Z",
     "start_time": "2025-04-04T15:24:04.640005Z"
    }
   },
   "cell_type": "code",
   "source": [
    "val tickets = listOf(\n",
    "    \"\"\"\n",
    "    Subject: Can't access my account\n",
    "    Message: Hi, I've been trying to log in for the past hour but keep getting an 'invalid password' error.\n",
    "    I'm sure I'm using the right password. Can you help me regain access? This is urgent as I need to\n",
    "    submit a report by end of day.\n",
    "    - John\n",
    "    \"\"\",\n",
    "\n",
    "    \"\"\"\n",
    "    Subject: Unexpected charge on my card\n",
    "    Message: Hello, I just noticed a charge of $49.99 on my credit card from your company, but I thought\n",
    "    I was on the $29.99 plan. Can you explain this charge and adjust it if it's a mistake?\n",
    "    Thanks,\n",
    "    Sarah\n",
    "    \"\"\",\n",
    "\n",
    "    \"\"\"\n",
    "    Subject: How to export data?\n",
    "    Message: I need to export all my project data to Excel. I've looked through the docs but can't\n",
    "    figure out how to do a bulk export. Is this possible? If so, could you walk me through the steps?\n",
    "    Best regards,\n",
    "    Mike\n",
    "    \"\"\"\n",
    ")"
   ],
   "outputs": [],
   "execution_count": 7
  },
  {
   "metadata": {},
   "cell_type": "markdown",
   "source": "Finally, process tickets through the routing system:"
  },
  {
   "metadata": {
    "ExecuteTime": {
     "end_time": "2025-04-04T15:25:12.149855Z",
     "start_time": "2025-04-04T15:24:39.648641Z"
    }
   },
   "cell_type": "code",
   "source": [
    "println(\"Processing support tickets...\")\n",
    "tickets.forEachIndexed { index, ticket ->\n",
    "    println(\"Ticket ${index + 1}:\")\n",
    "    println(\"-\".repeat(40))\n",
    "    println(ticket)\n",
    "    println(\"Response:\")\n",
    "    println(\"-\".repeat(40))\n",
    "    val response = clientBuilder.route(ticket, supportRoutes)\n",
    "    println(response)\n",
    "}"
   ],
   "outputs": [
    {
     "name": "stdout",
     "output_type": "stream",
     "text": [
      "Processing support tickets...\n",
      "Ticket 1:\n",
      "----------------------------------------\n",
      "\n",
      "    Subject: Can't access my account\n",
      "    Message: Hi, I've been trying to log in for the past hour but keep getting an 'invalid password' error.\n",
      "    I'm sure I'm using the right password. Can you help me regain access? This is urgent as I need to\n",
      "    submit a report by end of day.\n",
      "    - John\n",
      "    \n",
      "Response:\n",
      "----------------------------------------\n",
      "Available routes: [billing, technical, account, product]\n",
      "Routing Analysis:\n",
      "The user is experiencing an issue with logging into their account, specifically related to an 'invalid password' error. This indicates a problem with account access rather than billing, technical issues with a product, or inquiries about product features. The urgency of needing to submit a report by the end of the day further emphasizes the need for immediate assistance with account access. Therefore, the most appropriate team to handle this request is the account support team.\n",
      "Selected route: account\n",
      "Account Support Response:\n",
      "\n",
      "Dear John,\n",
      "\n",
      "Thank you for reaching out regarding your account access issue. I understand the urgency of your situation, and I am here to assist you in regaining access to your account while prioritizing your security.\n",
      "\n",
      "**Step 1: Verify Your Identity**\n",
      "To ensure the security of your account, please confirm your identity by providing the following information:\n",
      "- The email address associated with your account.\n",
      "- The last successful login date.\n",
      "- Any recent changes made to your account (e.g., password changes, security questions).\n",
      "\n",
      "**Step 2: Password Reset**\n",
      "If you are still unable to access your account after verifying your identity, I recommend initiating a password reset. Please follow these steps:\n",
      "1. Go to the login page and click on \"Forgot Password?\"\n",
      "2. Enter your registered email address and follow the instructions sent to your email.\n",
      "3. Create a new password that is strong and unique, ideally containing a mix of uppercase letters, lowercase letters, numbers, and special characters.\n",
      "\n",
      "**Security Tips:**\n",
      "- Ensure that your new password is not similar to previous passwords.\n",
      "- Enable two-factor authentication (2FA) on your account for added security.\n",
      "- Be cautious of phishing attempts; always verify the source of any emails or messages you receive.\n",
      "\n",
      "**Resolution Time:**\n",
      "Once you have completed the password reset process, you should be able to access your account immediately. If you continue to experience issues, please respond to this message with the requested verification information, and I will assist you further. Please allow up to 24 hours for any account-related changes to take effect.\n",
      "\n",
      "Thank you for your understanding and cooperation. Your account security is our top priority.\n",
      "\n",
      "Best regards,  \n",
      "[Your Name]  \n",
      "Account Security Team\n",
      "Ticket 2:\n",
      "----------------------------------------\n",
      "\n",
      "    Subject: Unexpected charge on my card\n",
      "    Message: Hello, I just noticed a charge of $49.99 on my credit card from your company, but I thought\n",
      "    I was on the $29.99 plan. Can you explain this charge and adjust it if it's a mistake?\n",
      "    Thanks,\n",
      "    Sarah\n",
      "    \n",
      "Response:\n",
      "----------------------------------------\n",
      "Available routes: [billing, technical, account, product]\n",
      "Routing Analysis:\n",
      "The user is inquiring about an unexpected charge on their credit card, which indicates a billing issue. The mention of a specific amount and a request for clarification and adjustment suggests that this ticket is related to billing discrepancies rather than technical issues, account management, or product inquiries.\n",
      "Selected route: billing\n",
      "Billing Support Response:  \n",
      "Hello Sarah,  \n",
      "\n",
      "Thank you for reaching out regarding the unexpected charge of $49.99 on your credit card. I understand how concerning this can be, especially when you believe you are on the $29.99 plan.  \n",
      "\n",
      "The charge of $49.99 may have occurred due to an upgrade to a higher-tier plan or an additional service that was added to your account. I will need to review your account details to confirm the reason for this discrepancy.  \n",
      "\n",
      "Here are the next steps:  \n",
      "1. I will investigate your account and the recent charges. This process typically takes 1-2 business days.  \n",
      "2. I will follow up with you via email once I have more information or if I need any additional details from you.  \n",
      "3. If the charge is indeed a mistake, I will ensure that it is adjusted accordingly.  \n",
      "\n",
      "In the meantime, if you would like to review your account details or make any changes, you can log in to your account on our website.  \n",
      "\n",
      "Thank you for your patience, and please let me know if you have any further questions or concerns.  \n",
      "\n",
      "Best regards,  \n",
      "[Your Name]  \n",
      "Billing Support Team  \n",
      "Ticket 3:\n",
      "----------------------------------------\n",
      "\n",
      "    Subject: How to export data?\n",
      "    Message: I need to export all my project data to Excel. I've looked through the docs but can't\n",
      "    figure out how to do a bulk export. Is this possible? If so, could you walk me through the steps?\n",
      "    Best regards,\n",
      "    Mike\n",
      "    \n",
      "Response:\n",
      "----------------------------------------\n",
      "Available routes: [billing, technical, account, product]\n",
      "Routing Analysis:\n",
      "The user's request is focused on exporting project data to Excel, which relates to the functionality of the product itself. The user is seeking guidance on how to perform a specific action within the product, indicating that they need assistance with the features and capabilities of the software. Therefore, the product team is best suited to provide the necessary support and instructions for this request.\n",
      "Selected route: product\n",
      "Product Support Response:\n",
      "\n",
      "Hello Mike,\n",
      "\n",
      "Thank you for reaching out! I’m happy to help you with exporting your project data to Excel. Yes, it is indeed possible to perform a bulk export, and I’ll walk you through the steps to make it as straightforward as possible.\n",
      "\n",
      "### Steps to Export Data to Excel:\n",
      "\n",
      "1. **Navigate to Your Project**: Start by opening the project from which you want to export data.\n",
      "\n",
      "2. **Access the Export Feature**: Look for the \"Export\" option, which is typically found in the project settings or under the \"More\" menu (represented by three dots or a gear icon).\n",
      "\n",
      "3. **Select Data Type**: You may have options to choose what type of data you want to export (e.g., tasks, milestones, or overall project data). Select the appropriate option based on your needs.\n",
      "\n",
      "4. **Choose Excel Format**: When prompted, select the Excel format for your export. This is usually labeled as \".xlsx\" or \"Excel Spreadsheet.\"\n",
      "\n",
      "5. **Initiate the Export**: Click on the \"Export\" button. Depending on the size of your project, this may take a moment. Once completed, the file should automatically download to your device.\n",
      "\n",
      "6. **Open Your File**: Locate the downloaded file on your device and open it in Excel to view your project data.\n",
      "\n",
      "### Best Practices:\n",
      "\n",
      "- **Filter Data Before Exporting**: If you only need specific information, consider applying filters to your project data before exporting. This will help you create a more focused and manageable Excel file.\n",
      "\n",
      "- **Regular Exports**: Make it a habit to export your data regularly, especially before making significant changes to your project. This ensures you have a backup of your information.\n",
      "\n",
      "### Related Features:\n",
      "\n",
      "- **Data Visualization Tools**: If you’re looking to analyze your project data further, consider using built-in data visualization tools. These can help you create charts and graphs directly from your project data.\n",
      "\n",
      "- **Integration with Other Tools**: If you frequently work with Excel, check if there are integrations available that can automate data syncing between your project management tool and Excel.\n",
      "\n",
      "For more detailed instructions, you can refer to the [Exporting Data Documentation](#) section, which provides additional insights and troubleshooting tips.\n",
      "\n",
      "If you have any further questions or need assistance with anything else, feel free to ask. Happy exporting!\n",
      "\n",
      "Best regards,  \n",
      "[Your Name]  \n",
      "Product Specialist\n"
     ]
    }
   ],
   "execution_count": 8
  },
  {
   "metadata": {},
   "cell_type": "markdown",
   "source": [
    "## How it works\n",
    "\n",
    "Our implementation follows these steps:\n",
    "- Classification\n",
    "- Structured output\n",
    "- Specialized handling\n",
    "- Response generation\n",
    "\n",
    "\n",
    "## Conclusion\n",
    "\n",
    "The routing workflow offers a powerful approach to handling diverse inputs effectively.\n",
    "By separating classification from specialized handling, we can build systems that are both flexible and highly optimized.\n",
    "\n",
    "This pattern is particularly valuable for applications dealing with a wide variety of user requests or content types,\n",
    "allowing each specialized component to focus on what it does best while maintaining a coherent overall experience."
   ]
  }
 ],
 "metadata": {
  "kernelspec": {
   "display_name": "Kotlin",
   "language": "kotlin",
   "name": "kotlin"
  },
  "language_info": {
   "name": "kotlin",
   "version": "1.9.23",
   "mimetype": "text/x-kotlin",
   "file_extension": ".kt",
   "pygments_lexer": "kotlin",
   "codemirror_mode": "text/x-kotlin",
   "nbconvert_exporter": ""
  }
 },
 "nbformat": 4,
 "nbformat_minor": 0
}
