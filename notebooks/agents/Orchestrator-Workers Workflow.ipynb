{
 "cells": [
  {
   "metadata": {},
   "cell_type": "markdown",
   "source": [
    "# Orchestrator-Workers Workflow\n",
    "\n",
    "In this notebook, we'll explore the orchestrator-workers pattern — a powerful workflow design for creating flexible AI systems that can tackle complex, unpredictable tasks.\n",
    "Using Kotlin and Claude via LangChain4j,\n",
    "we'll implement a practical example that demonstrates\n",
    "how a main _\"orchestrator\"_ LLM can coordinate multiple _\"worker\"_ LLMs to achieve better results.\n",
    "\n",
    "## What is the orchestrator-workers pattern?\n",
    "\n",
    "The orchestrator-workers pattern involves using a central LLM (the orchestrator) to analyze a complex task,\n",
    "break it down dynamically into subtasks, and then delegate these subtasks to specialized worker LLMs.\n",
    "Finally, the orchestrator synthesizes the results into a cohesive output.\n",
    "\n",
    "![Orchestrator-Workers Workflow Diagram](image/orchestrator_workers.svg)\n",
    "\n",
    "This workflow differs from simple parallelization because:\n",
    "- The subtasks aren't predetermined but are identified dynamically by the orchestrator\n",
    "- The orchestrator can make decisions about task allocation based on the specific input\n",
    "- There's an explicit coordination layer that manages the overall process\n",
    "\n",
    "### When to use this pattern\n",
    "\n",
    "- Software development tasks that involve changes across multiple files\n",
    "- Complex research or analysis requiring multiple perspectives\n",
    "- Content creation with varying style requirements\n",
    "- Multistep problem-solving with interdependent components\n",
    "\n",
    "## Setting up environment\n",
    "\n",
    "Let's start by configuring the Kotlin notebook with the necessary dependencies:"
   ]
  },
  {
   "metadata": {
    "ExecuteTime": {
     "end_time": "2025-05-11T21:47:01.734751Z",
     "start_time": "2025-05-11T21:47:00.839831Z"
    }
   },
   "cell_type": "code",
   "source": [
    "%useLatestDescriptors\n",
    "%use langchain4j(1.0.0-beta3, anthropic)"
   ],
   "outputs": [],
   "execution_count": 1
  },
  {
   "metadata": {},
   "cell_type": "markdown",
   "source": [
    "## Defining data models\n",
    "\n",
    "We'll need some data structures to represent tasks and responses:"
   ]
  },
  {
   "metadata": {
    "ExecuteTime": {
     "end_time": "2025-05-11T21:47:01.912515Z",
     "start_time": "2025-05-11T21:47:01.738581Z"
    }
   },
   "cell_type": "code",
   "source": [
    "import com.fasterxml.jackson.annotation.JsonCreator\n",
    "import com.fasterxml.jackson.annotation.JsonProperty\n",
    "\n",
    "/**\n",
    " * Represents a subtask assigned by the orchestrator that needs to be executed by the performer.\n",
    " */\n",
    "data class Task @JsonCreator constructor(\n",
    "    @JsonProperty(\"type\") val type: String,\n",
    "    @JsonProperty(\"description\") val description: String\n",
    ")\n",
    "\n",
    "/**\n",
    " * The orchestra's response, containing a task analysis and breakdown into subtasks.\n",
    " */\n",
    "data class OrchestratorResponse @JsonCreator constructor(\n",
    "    @JsonProperty(\"analysis\") val analysis: String,\n",
    "    @JsonProperty(\"tasks\") val tasks: List<Task>\n",
    ")\n",
    "\n",
    "data class WorkerResponse(val type: String, val description: String, val result: String) {\n",
    "    override fun toString(): String {\n",
    "        return \"\"\"\n",
    "            {\n",
    "              \"type\": \"$type\",\n",
    "              \"description\": \"$description\",\n",
    "              \"result\": \"$result\"\n",
    "            }\n",
    "        \"\"\".trimIndent()\n",
    "    }\n",
    "}"
   ],
   "outputs": [],
   "execution_count": 2
  },
  {
   "metadata": {},
   "cell_type": "markdown",
   "source": [
    "These classes serve as the communication structures between our orchestrator and worker LLMs.\n",
    "\n",
    "## Creating LLM Service\n",
    "\n",
    "Next, define a simple interface for our LLM interactions:"
   ]
  },
  {
   "metadata": {
    "ExecuteTime": {
     "end_time": "2025-05-11T21:47:03.013384Z",
     "start_time": "2025-05-11T21:47:02.994335Z"
    }
   },
   "cell_type": "code",
   "source": [
    "interface LlmService {\n",
    "    fun orchestrate(input: String): OrchestratorResponse\n",
    "    fun perform(input: String): String\n",
    "}"
   ],
   "outputs": [],
   "execution_count": 3
  },
  {
   "metadata": {},
   "cell_type": "markdown",
   "source": [
    "## Implementing the orchestrator\n",
    "\n",
    "Now for the heart of our implementation — the `Orchestrator` class"
   ]
  },
  {
   "metadata": {
    "ExecuteTime": {
     "end_time": "2025-05-11T21:47:05.762011Z",
     "start_time": "2025-05-11T21:47:05.524958Z"
    }
   },
   "cell_type": "code",
   "source": [
    "import kotlinx.serialization.Serializable\n",
    "\n",
    "/**\n",
    " * Break down tasks and run them in parallel using worker LLMs\n",
    " */\n",
    "class Orchestrator(val llm: LlmService) {\n",
    "\n",
    "    companion object {\n",
    "        val orchestratorPrompt: (String) -> String = {\n",
    "            \"\"\"\n",
    "            Analyze this task and break it down into 2-3 distinct approaches:\n",
    "\n",
    "            Task: $it\n",
    "\n",
    "            Return your response in this JSON format:\n",
    "            {\n",
    "              \"analysis\": \"Explain your understanding of the task and which variations would be valuable. Focus on how each approach serves different aspects of the task.\",\n",
    "              \"tasks\": [\n",
    "                {\n",
    "                  \"type\": \"formal\",\n",
    "                  \"description\": \"Write a precise, technical version that emphasizes specifications\"\n",
    "                },\n",
    "                {\n",
    "                  \"type\": \"conversational\",\n",
    "                  \"description\": \"Write an engaging, friendly version that connects with readers\"\n",
    "                }\n",
    "              ]\n",
    "            }\n",
    "            \"\"\".trimIndent()\n",
    "        }\n",
    "\n",
    "        @Serializable\n",
    "        data class Task(val type: String, val description: String)\n",
    "\n",
    "        val workerPrompt: (String, String, String) -> String =\n",
    "            { originalTask, taskType, taskDescription ->\n",
    "                \"\"\"\n",
    "                Generate content based on:\n",
    "                Task: $originalTask\n",
    "                Style: $taskType\n",
    "                Guidelines: $taskDescription\n",
    "                \"\"\".trimIndent()\n",
    "            }\n",
    "    }\n",
    "\n",
    "    /**\n",
    "     * Process task by brealing it down and running subtasks in parallel.\n",
    "     */\n",
    "    fun process(taskInput: String): Pair<String, List<WorkerResponse>> {\n",
    "        val orchestratorInput = orchestratorPrompt(taskInput)\n",
    "        val orchestratorResponse = llm.orchestrate(orchestratorInput)\n",
    "\n",
    "        val (analysis, tasks) = orchestratorResponse\n",
    "\n",
    "        println(\n",
    "            \"\"\"\n",
    "            === ORCHESTRATOR OUTPUT ===\n",
    "            ANALYSIS: ${orchestratorResponse.analysis}\n",
    "\n",
    "            TASKS: ${orchestratorResponse.tasks}\n",
    "            \"\"\".trimIndent()\n",
    "        )\n",
    "\n",
    "        val workerResults = tasks.map { task ->\n",
    "            val workerInput = workerPrompt(taskInput, task.type, task.description)\n",
    "            val workerResponse = llm.perform(workerInput)\n",
    "\n",
    "\n",
    "            println(\n",
    "                \"\"\"\n",
    "                === WORKER RESULT (${task.type}) ===\n",
    "                $workerResponse\n",
    "                \"\"\".trimIndent()\n",
    "            )\n",
    "\n",
    "            WorkerResponse(task.type, task.description, workerResponse)\n",
    "        }\n",
    "\n",
    "        return analysis to workerResults\n",
    "    }\n",
    "}"
   ],
   "outputs": [],
   "execution_count": 4
  },
  {
   "metadata": {},
   "cell_type": "markdown",
   "source": [
    "## Creating LLM Model\n",
    "\n",
    "Let's set up the Claude model:"
   ]
  },
  {
   "metadata": {
    "ExecuteTime": {
     "end_time": "2025-05-11T21:47:14.202741Z",
     "start_time": "2025-05-11T21:47:14.089018Z"
    }
   },
   "cell_type": "code",
   "source": [
    "val model = AnthropicChatModel.builder()\n",
    "    .apiKey(System.getenv(\"ANTHROPIC_API_KEY\"))\n",
    "    .modelName(AnthropicChatModelName.CLAUDE_3_7_SONNET_20250219)\n",
    "    .maxTokens(4096)\n",
    "    .temperature(0.1)\n",
    "    .build()"
   ],
   "outputs": [],
   "execution_count": 5
  },
  {
   "metadata": {},
   "cell_type": "markdown",
   "source": [
    "## Running the workflow\n",
    "\n",
    "Finally,create the llm service and process a task"
   ]
  },
  {
   "metadata": {
    "ExecuteTime": {
     "end_time": "2025-05-11T21:47:58.673564Z",
     "start_time": "2025-05-11T21:47:17.387443Z"
    }
   },
   "cell_type": "code",
   "source": [
    "val service = AiServices.create(LlmService::class.java, model)\n",
    "\n",
    "val orchestrator = Orchestrator(service)\n",
    "val result = orchestrator.process(\"Write a product description for a new eco-friendly water bottle\")"
   ],
   "outputs": [
    {
     "name": "stdout",
     "output_type": "stream",
     "text": [
      "=== ORCHESTRATOR OUTPUT ===\n",
      "ANALYSIS: This task requires creating a product description for an eco-friendly water bottle. The key challenge is to effectively communicate both the functional benefits (durability, capacity, materials) and emotional benefits (environmental impact, lifestyle alignment) of the product. Different approaches would be valuable to address various customer segments and marketing contexts. Some customers may prioritize technical specifications and environmental credentials, while others might be more motivated by lifestyle benefits and emotional appeals. A comprehensive product description strategy should consider these different angles.\n",
      "\n",
      "TASKS: [Task(type=technical-environmental, description=Create a specification-focused description highlighting the bottle's eco-friendly materials, manufacturing process, technical features, and quantifiable environmental impact (e.g., plastic waste reduction metrics)), Task(type=lifestyle-emotional, description=Develop a benefits-oriented description emphasizing how the bottle enhances the customer's daily life, aligns with sustainable values, and makes them feel part of an environmental movement), Task(type=comparative-educational, description=Craft a description that contrasts the eco-bottle with conventional alternatives, educating consumers about environmental issues while positioning this product as a practical solution)]\n",
      "                === WORKER RESULT (technical-environmental) ===\n",
      "                # AQUATERRA PRO-SUSTAIN™ HYDRATION VESSEL\n",
      "\n",
      "## Technical Specifications\n",
      "\n",
      "The AquaTerra Pro-Sustain™ represents the culmination of advanced materials science and environmental engineering, delivering a hydration solution with minimal ecological footprint and maximum functional performance.\n",
      "\n",
      "**Material Composition:**\n",
      "- Primary vessel: 304-grade recycled stainless steel (87% post-industrial recycled content)\n",
      "- Interior lining: Non-leaching, BPA/BPS/phthalate-free silicone membrane (0.5mm thickness)\n",
      "- Thermal insulation: Vacuum-sealed double-wall construction with proprietary AeroBarrier™ technology\n",
      "- Exterior coating: Water-based, VOC-free ceramic polymer (≤0.01g/L VOC emissions)\n",
      "\n",
      "**Performance Metrics:**\n",
      "- Thermal retention: Maintains liquid temperature within ±2°C for 24 hours (hot) and 36 hours (cold)\n",
      "- Capacity: 750ml ±15ml\n",
      "- Weight: 310g (unfilled)\n",
      "- Durability rating: Tested to withstand 1,500+ drop cycles from 1.5m height\n",
      "\n",
      "## Sustainable Manufacturing Protocol\n",
      "\n",
      "The Pro-Sustain™ is manufactured using our closed-loop production system, which achieves:\n",
      "- 93% reduction in water consumption compared to industry standards\n",
      "- Energy sourced from 100% renewable inputs (wind/solar grid integration)\n",
      "- Carbon-neutral manufacturing certified by Environmental Carbon Offset Alliance\n",
      "- Zero landfill waste production facility (ISO 14001:2015 certified)\n",
      "\n",
      "## Environmental Impact Assessment\n",
      "\n",
      "**Quantifiable Benefits:**\n",
      "- Eliminates approximately 167 single-use plastic bottles per user annually\n",
      "- Reduces carbon footprint by 61.2kg CO₂e per year compared to disposable alternatives\n",
      "- Lifecycle analysis confirms 97.8% recyclability at end-of-life\n",
      "- Biodegradable packaging prevents 0.5kg of landfill waste per unit\n",
      "\n",
      "**Resource Conservation:**\n",
      "- Each vessel diverts 0.73kg of virgin steel from extraction\n",
      "- Manufacturing process uses 78% less water than conventional bottle production\n",
      "- Reduces petroleum consumption by 2.1L per unit compared to plastic bottle alternatives\n",
      "\n",
      "## Technical Sustainability Features\n",
      "\n",
      "The Pro-Sustain™ incorporates our patented EcoTrack™ QR identification system, allowing users to monitor their personal environmental impact metrics through our companion application. The digital platform quantifies plastic waste reduction, carbon offset, and water conservation achievements based on individual usage patterns.\n",
      "\n",
      "*AquaTerra is a certified B-Corporation committed to environmental transparency and third-party verification of all sustainability claims.*\n",
      "                === WORKER RESULT (lifestyle-emotional) ===\n",
      "                # Hydro Harmony: Where Your Lifestyle Meets Sustainability\n",
      "\n",
      "Imagine cradling more than just water in your hands. With the Hydro Harmony eco-friendly water bottle, you're holding a promise – to yourself and to our planet.\n",
      "\n",
      "**Transform Your Daily Hydration Into An Act Of Purpose**\n",
      "\n",
      "Every sip becomes a statement when it flows from your Hydro Harmony. Crafted from plant-based materials that feel luxuriously smooth against your lips, this isn't just a water bottle – it's your constant companion in a life lived intentionally. The subtle matte finish catches the light as you reach for hydration during your morning yoga, while its thoughtful design fits perfectly in your car's cupholder during your commute.\n",
      "\n",
      "**Join A Movement With Every Moment**\n",
      "\n",
      "Feel that gentle wave of satisfaction knowing that your everyday choice diverts plastic from our oceans. Each Hydro Harmony bottle prevents approximately 167 single-use plastic bottles from entering landfills yearly. When you carry it into your meeting or place it beside you at the café, you silently inspire others to question their own habits.\n",
      "\n",
      "**Align Your Actions With Your Values**\n",
      "\n",
      "We understand the weight of living authentically in today's world. Your Hydro Harmony doesn't just hold your favorite beverages – it holds your integrity. The double-wall insulation keeps your cold drinks refreshing for 24 hours and hot beverages comforting for 12, ensuring that your commitment to sustainability never means compromising on life's simple pleasures.\n",
      "\n",
      "**Feel The Difference Beyond The Physical**\n",
      "\n",
      "There's an unmistakable peace that comes from knowing your daily choices create ripples of positive change. With every refill, you're not just quenching your thirst – you're nourishing your spirit with the knowledge that you're part of something bigger than yourself.\n",
      "\n",
      "Hydro Harmony: Drink deeply from life while leaving only footprints of change.\n",
      "                === WORKER RESULT (comparative-educational) ===\n",
      "                # The EcoFlow Hydration Vessel: A Sustainable Revolution in Personal Hydration\n",
      "\n",
      "In a world where over 1 million plastic bottles are purchased every minute—with the vast majority destined for landfills or oceans—the EcoFlow Hydration Vessel emerges as not merely another water bottle, but a conscious choice for environmental stewardship.\n",
      "\n",
      "## Beyond Conventional Bottles: A Comparative Analysis\n",
      "\n",
      "### Material Composition\n",
      "While traditional plastic water bottles utilize petroleum-based polymers that persist in our environment for up to 450 years, the EcoFlow is crafted from plant-derived biopolymers that naturally decompose within 3-5 years if accidentally discarded. Unlike stainless steel alternatives that require intensive mining and manufacturing processes, our biopolymer production generates 74% less carbon emissions during manufacturing.\n",
      "\n",
      "### Thermal Performance\n",
      "Conventional insulated bottles often rely on manufacturing processes involving harmful chemicals and adhesives. The EcoFlow's double-wall vacuum insulation maintains your beverage's temperature (hot for 12 hours, cold for 24 hours) while utilizing non-toxic, food-grade materials throughout—eliminating the leaching concerns associated with both plastic and certain metal containers.\n",
      "\n",
      "### Economic Implications\n",
      "The average American spends approximately $260 annually on disposable water bottles. Though the EcoFlow's initial investment of $35 exceeds a single plastic bottle purchase, its 5-year warranty period translates to potential savings exceeding $1,200 while preventing approximately 1,825 plastic bottles from entering the waste stream.\n",
      "\n",
      "## Educational Impact: Understanding Your Choice\n",
      "\n",
      "Each EcoFlow purchase diverts approximately 2.3 kg of plastic from production annually. When multiplied across our user community, this represents a significant reduction in microplastic pollution—particles now found in 94% of tap water samples worldwide and linked to concerning health implications.\n",
      "\n",
      "The bottle's manufacturing process utilizes 100% renewable energy, closed-loop water systems, and carbon offset programs—creating a truly circular product that educates through example rather than merely through marketing claims.\n",
      "\n",
      "## Practical Functionality Meets Environmental Responsibility\n",
      "\n",
      "The EcoFlow doesn't ask you to compromise convenience for conscience. Its ergonomic design, leak-proof seal, wide-mouth opening for easy cleaning, and compatibility with standard cup holders ensure that sustainable hydration integrates seamlessly into your daily routine.\n",
      "\n",
      "By choosing the EcoFlow, you're not simply purchasing a water vessel—you're participating in an educational journey that transforms routine hydration into a daily act of environmental stewardship.\n"
     ]
    }
   ],
   "execution_count": 6
  },
  {
   "metadata": {},
   "cell_type": "markdown",
   "source": [
    "## How it works\n",
    "\n",
    "1. The orchestrator LLM receives the initial task and analyzes it to identify distinct approaches (like formal and conversational styles)\n",
    "2. Based on its analysis, the orchestrator dynamically generates subtasks with specific requirements\n",
    "3. Each subtask is delegated to a worker LLM, which executes it with the focused parameters\n",
    "4. The orchestrator collects the results from all workers\n",
    "\n",
    "## Conclusion\n",
    "\n",
    "The orchestrator-workers pattern offers a powerful approach to building AI systems that can tackle complex, unpredictable tasks.\n",
    "By dynamically breaking down problems and delegating subtasks to specialized workers,\n",
    "we can create more flexible, adaptable solutions.\n",
    "\n",
    "Kotlin's expressive syntax and strong typing make it an excellent fit for implementing this pattern,\n",
    "providing both readability and reliability.\n",
    "\n",
    "This approach is particularly valuable when dealing with tasks where the exact steps aren't known in advance,\n",
    "allowing our AI systems to adapt their strategies based on the specific needs of each input."
   ]
  }
 ],
 "metadata": {
  "kernelspec": {
   "display_name": "Kotlin",
   "language": "kotlin",
   "name": "kotlin"
  },
  "language_info": {
   "name": "kotlin",
   "version": "1.9.23",
   "mimetype": "text/x-kotlin",
   "file_extension": ".kt",
   "pygments_lexer": "kotlin",
   "codemirror_mode": "text/x-kotlin",
   "nbconvert_exporter": ""
  }
 },
 "nbformat": 4,
 "nbformat_minor": 0
}
