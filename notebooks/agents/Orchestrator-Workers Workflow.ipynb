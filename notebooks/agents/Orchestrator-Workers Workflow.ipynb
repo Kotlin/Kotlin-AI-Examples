{
 "cells": [
  {
   "metadata": {},
   "cell_type": "markdown",
   "source": "# Orchestrator-Workers Workflow"
  },
  {
   "metadata": {
    "ExecuteTime": {
     "end_time": "2025-04-03T15:10:07.685881Z",
     "start_time": "2025-04-03T15:10:07.313957Z"
    }
   },
   "cell_type": "code",
   "source": [
    "@file:DependsOn(\"dev.langchain4j:langchain4j:1.0.0-beta2\")\n",
    "@file:DependsOn(\"dev.langchain4j:langchain4j-anthropic:1.0.0-beta2\")"
   ],
   "outputs": [],
   "execution_count": 1
  },
  {
   "metadata": {
    "ExecuteTime": {
     "end_time": "2025-04-03T15:10:08.079384Z",
     "start_time": "2025-04-03T15:10:07.694137Z"
    }
   },
   "cell_type": "code",
   "source": [
    "import com.fasterxml.jackson.annotation.JsonCreator\n",
    "import com.fasterxml.jackson.annotation.JsonProperty\n",
    "\n",
    "/**\n",
    " * Represents a subtask assigned by the orchestrator that needs to be executed by the performer.\n",
    " */\n",
    "data class Task @JsonCreator constructor(\n",
    "    @JsonProperty(\"type\") val type: String,\n",
    "    @JsonProperty(\"description\") val description: String\n",
    ")\n",
    "\n",
    "/**\n",
    " * The orchestra's response, containing a task analysis and breakdown into subtasks.\n",
    " */\n",
    "data class OrchestratorResponse @JsonCreator constructor(\n",
    "    @JsonProperty(\"analysis\") val analysis: String,\n",
    "    @JsonProperty(\"tasks\") val tasks: List<Task>\n",
    ")\n",
    "\n",
    "data class WorkerResponse(val type: String, val description: String, val result: String) {\n",
    "    override fun toString(): String {\n",
    "        return \"\"\"\n",
    "            {\n",
    "              \"type\": \"$type\",\n",
    "              \"description\": \"$description\",\n",
    "              \"result\": \"$result\"\n",
    "            }\n",
    "        \"\"\".trimIndent()\n",
    "    }\n",
    "}"
   ],
   "outputs": [],
   "execution_count": 2
  },
  {
   "metadata": {
    "ExecuteTime": {
     "end_time": "2025-04-03T15:10:08.124350Z",
     "start_time": "2025-04-03T15:10:08.086361Z"
    }
   },
   "cell_type": "code",
   "source": [
    "interface LlmService {\n",
    "    fun orchestrate(input: String): OrchestratorResponse\n",
    "    fun perform(input: String): String\n",
    "}"
   ],
   "outputs": [],
   "execution_count": 3
  },
  {
   "metadata": {
    "ExecuteTime": {
     "end_time": "2025-04-03T15:10:08.730793Z",
     "start_time": "2025-04-03T15:10:08.134189Z"
    }
   },
   "cell_type": "code",
   "source": [
    "import kotlinx.serialization.Serializable\n",
    "\n",
    "/**\n",
    " * Break down tasks and run them in parallel using worker LLMs\n",
    " */\n",
    "class Orchestrator(val llm: LlmService) {\n",
    "\n",
    "    companion object {\n",
    "        val orchestratorPrompt: (String) -> String = {\n",
    "            \"\"\"\n",
    "            Analyze this task and break it down into 2-3 distinct approaches:\n",
    "\n",
    "            Task: $it\n",
    "\n",
    "            Return your response in this JSON format:\n",
    "            {\n",
    "              \"analysis\": \"Explain your understanding of the task and which variations would be valuable. Focus on how each approach serves different aspects of the task.\",\n",
    "              \"tasks\": [\n",
    "                {\n",
    "                  \"type\": \"formal\",\n",
    "                  \"description\": \"Write a precise, technical version that emphasizes specifications\"\n",
    "                },\n",
    "                {\n",
    "                  \"type\": \"conversational\",\n",
    "                  \"description\": \"Write an engaging, friendly version that connects with readers\"\n",
    "                }\n",
    "              ]\n",
    "            }\n",
    "            \"\"\".trimIndent()\n",
    "        }\n",
    "\n",
    "        @Serializable\n",
    "        data class Task(val type: String, val description: String)\n",
    "\n",
    "        val workerPrompt: (String, String, String) -> String =\n",
    "            { originalTask, taskType, taskDescription ->\n",
    "                \"\"\"\n",
    "                Generate content based on:\n",
    "                Task: $originalTask\n",
    "                Style: $taskType\n",
    "                Guidelines: $taskDescription\n",
    "                \"\"\".trimIndent()\n",
    "            }\n",
    "    }\n",
    "\n",
    "    /**\n",
    "     * Process task by brealing it down and running subtasks in parallel.\n",
    "     */\n",
    "    fun process(taskInput: String): Pair<String, List<WorkerResponse>> {\n",
    "        val orchestratorInput = orchestratorPrompt(taskInput)\n",
    "        val orchestratorResponse = llm.orchestrate(orchestratorInput)\n",
    "\n",
    "        val (analysis, tasks) = orchestratorResponse\n",
    "\n",
    "        println(\n",
    "            \"\"\"\n",
    "            === ORCHESTRATOR OUTPUT ===\n",
    "            ANALYSIS: ${orchestratorResponse.analysis}\n",
    "\n",
    "            TASKS: ${orchestratorResponse.tasks}\n",
    "            \"\"\".trimIndent()\n",
    "        )\n",
    "\n",
    "        val workerResults = tasks.map { task ->\n",
    "            val workerInput = workerPrompt(taskInput, task.type, task.description)\n",
    "            val workerResponse = llm.perform(workerInput)\n",
    "\n",
    "\n",
    "            println(\n",
    "                \"\"\"\n",
    "                === WORKER RESULT (${task.type}) ===\n",
    "                $workerResponse\n",
    "                \"\"\".trimIndent()\n",
    "            )\n",
    "\n",
    "            WorkerResponse(task.type, task.description, workerResponse)\n",
    "        }\n",
    "\n",
    "        return analysis to workerResults\n",
    "    }\n",
    "}"
   ],
   "outputs": [],
   "execution_count": 4
  },
  {
   "metadata": {
    "ExecuteTime": {
     "end_time": "2025-04-03T15:10:09.017069Z",
     "start_time": "2025-04-03T15:10:08.751525Z"
    }
   },
   "cell_type": "code",
   "source": [
    "import dev.langchain4j.model.anthropic.AnthropicChatModel\n",
    "import dev.langchain4j.model.anthropic.AnthropicChatModelName\n",
    "\n",
    "val model = AnthropicChatModel.builder()\n",
    "    .apiKey(System.getenv(\"ANTHROPIC_API_KEY\"))\n",
    "    .modelName(AnthropicChatModelName.CLAUDE_3_7_SONNET_20250219)\n",
    "    .maxTokens(4096)\n",
    "    .temperature(0.1)\n",
    "    .build()"
   ],
   "outputs": [],
   "execution_count": 5
  },
  {
   "metadata": {
    "ExecuteTime": {
     "end_time": "2025-04-03T15:10:46.805704Z",
     "start_time": "2025-04-03T15:10:09.020784Z"
    }
   },
   "cell_type": "code",
   "source": [
    "import dev.langchain4j.service.AiServices\n",
    "\n",
    "val service = AiServices.create(LlmService::class.java, model)\n",
    "\n",
    "val orchestrator = Orchestrator(service)\n",
    "val result = orchestrator.process(\"Write a product description for a new eco-friendly water bottle\")"
   ],
   "outputs": [
    {
     "name": "stdout",
     "output_type": "stream",
     "text": [
      "=== ORCHESTRATOR OUTPUT ===\n",
      "ANALYSIS: This task requires creating a product description for an eco-friendly water bottle. The key challenge is to effectively communicate both the functional benefits (durability, capacity, materials) and emotional benefits (environmental impact, lifestyle alignment) of the product. Different approaches would be valuable to address various customer segments and marketing contexts. Some customers may prioritize technical specifications and environmental credentials, while others might be more motivated by lifestyle benefits and emotional appeals. The marketing context could also vary from e-commerce platforms to physical retail displays to social media content.\n",
      "\n",
      "TASKS: [Task(type=technical-environmental, description=Create a specification-focused description that highlights the bottle's eco-friendly materials, technical features, and environmental impact metrics with precise data points), Task(type=lifestyle-benefits, description=Develop a benefits-oriented description that emphasizes how the bottle enhances the user's daily life while supporting their environmental values), Task(type=storytelling, description=Craft a narrative description that tells the story of the bottle's creation, its environmental mission, and how it fits into the customer's personal journey toward sustainability)]\n",
      "                === WORKER RESULT (technical-environmental) ===\n",
      "                # AQUA-SUSTAIN PRO: Advanced Eco-Engineered Hydration System\n",
      "\n",
      "## TECHNICAL SPECIFICATIONS\n",
      "\n",
      "**Material Composition:**\n",
      "• Primary vessel: 304-grade recycled stainless steel (87.5% post-consumer)\n",
      "• Thermal barrier: Vacuum-sealed double-wall construction (99.4% thermal efficiency)\n",
      "• Exterior coating: Water-based, VOC-free silicone polymer (0.3mm thickness)\n",
      "• Cap assembly: BPA/BPS/phthalate-free recycled polypropylene with silicone gasket\n",
      "\n",
      "**Performance Metrics:**\n",
      "• Thermal retention: Maintains cold liquids ≤5°C for 28.4 hours; hot liquids ≥65°C for 16.7 hours\n",
      "• Capacity: 750ml (±15ml manufacturing tolerance)\n",
      "• Weight: 312g (empty)\n",
      "• Dimensions: 270mm (H) × 75mm (D)\n",
      "• Pressure resistance: Tested to 4.2 bar\n",
      "\n",
      "## ENVIRONMENTAL IMPACT ASSESSMENT\n",
      "\n",
      "**Carbon Footprint:**\n",
      "• Manufacturing: 4.27kg CO₂e (78.3% reduction vs. conventional alternatives)\n",
      "• Transportation: 0.86kg CO₂e (optimized flat-pack shipping configuration)\n",
      "• Total lifecycle assessment: 7.14kg CO₂e (carbon-neutral via verified offset programs)\n",
      "\n",
      "**Resource Conservation:**\n",
      "• Water usage reduction: 76.2% below industry standard (closed-loop manufacturing)\n",
      "• Energy efficiency: Production utilizes 92.4% renewable energy sources\n",
      "• Waste diversion: Zero landfill manufacturing process (ISO 14001 certified)\n",
      "\n",
      "**End-of-Life Management:**\n",
      "• Recyclability index: 98.7% of components fully recyclable\n",
      "• Biodegradability: Non-metallic components meet ASTM D6400 standards\n",
      "• Disassembly: Modular construction allows for component separation without specialized tools\n",
      "\n",
      "## SUSTAINABILITY CERTIFICATIONS\n",
      "\n",
      "• Cradle to Cradle Certified™ (Silver)\n",
      "• Global Recycled Standard (GRS) verified\n",
      "• Carbon Trust Standard\n",
      "• 1% for the Planet member\n",
      "• Plastic Neutral Certification\n",
      "\n",
      "Each AQUA-SUSTAIN PRO prevents approximately 167 single-use plastic bottles from entering the waste stream annually when used as directed. Engineered for a minimum 12-year operational lifespan under normal usage conditions.\n",
      "                === WORKER RESULT (lifestyle-benefits) ===\n",
      "                # Stay Hydrated, Stay Conscious: The EcoFlow Water Bottle\n",
      "\n",
      "Transform your daily hydration routine into a statement of purpose with the EcoFlow water bottle – where sustainability meets style in perfect harmony.\n",
      "\n",
      "## Your Companion for Mindful Living\n",
      "\n",
      "Imagine starting each day knowing your simplest choices are making a difference. The EcoFlow bottle becomes more than just a container; it's your daily reminder that small decisions create meaningful impact. Its sleek, minimalist design complements your aesthetic while the double-wall insulation keeps your beverages at the perfect temperature throughout your busy day – cold drinks stay refreshingly chilled for 24 hours, hot beverages remain comfortably warm for 12.\n",
      "\n",
      "## Effortless Integration Into Your Lifestyle\n",
      "\n",
      "The EcoFlow's thoughtful design works seamlessly with your daily rhythm. The leak-proof seal means you can confidently toss it in your bag between meetings or yoga sessions. The one-handed opening mechanism allows for easy sipping while driving or multitasking, while the ergonomic grip feels natural in your hand during morning walks or afternoon hikes.\n",
      "\n",
      "## A Choice That Reflects Your Values\n",
      "\n",
      "Every time you refill your EcoFlow, you're preventing another single-use plastic bottle from entering our oceans and landfills. Made from 100% recycled, BPA-free materials and built to last for years, your EcoFlow represents hundreds of plastic bottles that will never be produced. The manufacturing process uses 65% less energy than conventional bottles, and our carbon-neutral shipping ensures your environmental footprint stays minimal from production to doorstep.\n",
      "\n",
      "## Join the Movement\n",
      "\n",
      "The EcoFlow isn't just a water bottle – it's your daily opportunity to align your actions with your values. Stay hydrated, stay conscious, and make every sip a step toward the sustainable future you envision.\n",
      "                === WORKER RESULT (storytelling) ===\n",
      "                # The Journey of Aqua Terra: More Than Just a Water Bottle\n",
      "\n",
      "In the shadow of melting glaciers and rising tides, a small team of dreamers gathered around a simple question: \"What if a water bottle could change the world?\"\n",
      "\n",
      "Aqua Terra was born not in a corporate boardroom, but on a beach cleanup where our founder Maya collected her 500th discarded plastic bottle. Holding the sun-bleached plastic in her hands, she envisioned something different—a vessel that would honor our planet rather than harm it.\n",
      "\n",
      "Crafted from reclaimed stainless steel that once lived as industrial scraps, each Aqua Terra bottle carries a history before it even reaches your hands. Our proprietary plant-based insulation keeps your cold drinks chilled for 24 hours and hot beverages steaming for 12, all without the petroleum-based materials found in conventional bottles.\n",
      "\n",
      "The journey of your Aqua Terra begins where others end. The vibrant colors adorning each bottle come from natural dyes harvested from food industry byproducts—the deep blues from blueberry skins, earthy greens from avocado pits, and warm oranges from discarded carrot tops that would otherwise be waste.\n",
      "\n",
      "When you carry Aqua Terra, you carry a promise. With each sip, you're part of a story where every bottle prevents approximately 167 single-use plastics from entering our oceans annually. The cork base—harvested sustainably from Mediterranean cork forests where no trees are cut down—reminds you that durability and sustainability can coexist beautifully.\n",
      "\n",
      "As your companion on morning commutes, hiking trails, or quiet moments of reflection, Aqua Terra silently witnesses your commitment to treading lighter on our shared planet. The subtle leaf pattern embossed on its surface will wear uniquely with time, telling the story of your adventures together.\n",
      "\n",
      "Your Aqua Terra isn't just accompanying you on your sustainability journey—it's helping write the next chapter. Every purchase funds one day of clean water access for communities facing water insecurity, connecting your daily hydration ritual to something greater.\n",
      "\n",
      "This isn't just a water bottle. It's a vessel of change, a daily reminder that the smallest choices create ripples that reach distant shores. Welcome to the Aqua Terra family—where your story and our planet's future flow together, one refill at a time.\n"
     ]
    }
   ],
   "execution_count": 6
  },
  {
   "metadata": {
    "ExecuteTime": {
     "end_time": "2025-04-03T15:10:46.848617Z",
     "start_time": "2025-04-03T15:10:46.847166Z"
    }
   },
   "cell_type": "code",
   "source": "",
   "outputs": [],
   "execution_count": null
  }
 ],
 "metadata": {
  "kernelspec": {
   "display_name": "Kotlin",
   "language": "kotlin",
   "name": "kotlin"
  },
  "language_info": {
   "name": "kotlin",
   "version": "1.9.23",
   "mimetype": "text/x-kotlin",
   "file_extension": ".kt",
   "pygments_lexer": "kotlin",
   "codemirror_mode": "text/x-kotlin",
   "nbconvert_exporter": ""
  }
 },
 "nbformat": 4,
 "nbformat_minor": 0
}
