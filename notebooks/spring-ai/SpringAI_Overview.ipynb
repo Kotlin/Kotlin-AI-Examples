{
 "cells": [
  {
   "cell_type": "code",
   "metadata": {
    "collapsed": true,
    "ExecuteTime": {
     "end_time": "2025-02-11T18:41:30.880273Z",
     "start_time": "2025-02-11T18:41:30.343740Z"
    }
   },
   "source": [
    "USE {\n",
    "    repositories {\n",
    "        mavenCentral()\n",
    "        maven(url = \"https://repo.spring.io/milestone\")\n",
    "        maven(url = \"https://repo.spring.io/snapshot\")\n",
    "    }\n",
    "\n",
    "    dependencies {\n",
    "        val springAiVersion = \"1.0.0-M5\"\n",
    "        implementation(\"org.springframework.ai:spring-ai-openai:$springAiVersion\")\n",
    "        implementation(\"org.springframework.ai:spring-ai-openai-spring-boot-starter:$springAiVersion\")\n",
    "        implementation(\"com.fasterxml.jackson.module:jackson-module-kotlin:2.18.2\")\n",
    "    }\n",
    "}"
   ],
   "outputs": [],
   "execution_count": 1
  },
  {
   "metadata": {
    "ExecuteTime": {
     "end_time": "2025-02-11T18:41:30.944351Z",
     "start_time": "2025-02-11T18:41:30.885476Z"
    }
   },
   "cell_type": "code",
   "source": "val apiKey = System.getenv(\"OPENAI_API_KEY\") ?: \"YOUR_OPENAI_API_KEY\"",
   "outputs": [],
   "execution_count": 2
  },
  {
   "metadata": {
    "ExecuteTime": {
     "end_time": "2025-02-11T18:41:31.348409Z",
     "start_time": "2025-02-11T18:41:30.948521Z"
    }
   },
   "cell_type": "code",
   "source": [
    "import org.springframework.ai.openai.OpenAiChatModel\n",
    "import org.springframework.ai.openai.OpenAiChatOptions\n",
    "import org.springframework.ai.openai.api.OpenAiApi\n",
    "\n",
    "val openAiApi = OpenAiApi(apiKey)\n",
    "val openAiChatOptions = OpenAiChatOptions.builder()\n",
    "    .model(OpenAiApi.ChatModel.GPT_4_O_MINI)\n",
    "    .temperature(0.3)\n",
    "    .build()\n",
    "val chatModel = OpenAiChatModel(openAiApi, openAiChatOptions)"
   ],
   "outputs": [],
   "execution_count": 3
  },
  {
   "metadata": {},
   "cell_type": "markdown",
   "source": "## Chat API"
  },
  {
   "metadata": {
    "ExecuteTime": {
     "end_time": "2025-02-11T18:41:38.920317Z",
     "start_time": "2025-02-11T18:41:31.407762Z"
    }
   },
   "cell_type": "code",
   "source": "chatModel.call(\"How do I create in Kotlin a plus function for a Point data class that adds two Points together in the form point1 + point2?\")",
   "outputs": [
    {
     "data": {
      "text/plain": [
       "In Kotlin, you can overload the `plus` operator for a data class by defining the `plus` function. To create a `Point` data class that supports adding two `Point` instances using the `+` operator, you can follow these steps:\n",
       "\n",
       "1. Define the `Point` data class with properties for the x and y coordinates.\n",
       "2. Override the `plus` operator by defining a function named `plus` that takes another `Point` as a parameter and returns a new `Point` instance with the summed coordinates.\n",
       "\n",
       "Here's an example implementation:\n",
       "\n",
       "```kotlin\n",
       "data class Point(val x: Int, val y: Int) {\n",
       "    operator fun plus(other: Point): Point {\n",
       "        return Point(this.x + other.x, this.y + other.y)\n",
       "    }\n",
       "}\n",
       "\n",
       "fun main() {\n",
       "    val point1 = Point(1, 2)\n",
       "    val point2 = Point(3, 4)\n",
       "\n",
       "    val result = point1 + point2 // Using the overloaded plus operator\n",
       "    println(result) // Output: Point(x=4, y=6)\n",
       "}\n",
       "```\n",
       "\n",
       "### Explanation:\n",
       "- The `Point` data class has two properties: `x` and `y`, both of type `Int`.\n",
       "- The `plus` function is marked with the `operator` keyword, which allows you to use the `+` operator with `Point` instances.\n",
       "- Inside the `plus` function, a new `Point` is created by adding the `x` and `y` values of the two points.\n",
       "- In the `main` function, you can see how to create two `Point` instances and add them using the `+` operator, resulting in a new `Point` with the summed coordinates. \n",
       "\n",
       "This implementation allows you to easily add points together in a clean and intuitive way."
      ]
     },
     "execution_count": 4,
     "metadata": {},
     "output_type": "execute_result"
    }
   ],
   "execution_count": 4
  },
  {
   "metadata": {},
   "cell_type": "markdown",
   "source": "## Prompts"
  },
  {
   "metadata": {
    "ExecuteTime": {
     "end_time": "2025-02-11T18:41:38.978803Z",
     "start_time": "2025-02-11T18:41:38.925722Z"
    }
   },
   "cell_type": "code",
   "source": [
    "import org.springframework.ai.chat.client.ChatClient\n",
    "\n",
    "val chatClient = ChatClient.builder(chatModel).defaultSystem(\n",
    "    \"\"\"\n",
    "    You are an expert Kotlin developer. Your task is to write idiomatic Kotlin code. Follow these guidelines:\n",
    "    - Use clean code principles.\n",
    "    - Write concise and readable APIs.\n",
    "    - Stick to idiomatic Kotlin conventions.\n",
    "    - Leverage higher-order functions, extensions, and null-safety features.\n",
    "    - Avoid unnecessary complexity; simplify the code when possible.\n",
    "    - Ensure the code is optimized for performance.\n",
    "    - Structure the code clearly and use best practices.\n",
    "    - Provide concise and to-the-point responses.\n",
    "    \"\"\".trimIndent()\n",
    ").build()"
   ],
   "outputs": [],
   "execution_count": 5
  },
  {
   "metadata": {
    "ExecuteTime": {
     "end_time": "2025-02-11T18:41:45.226711Z",
     "start_time": "2025-02-11T18:41:38.983508Z"
    }
   },
   "cell_type": "code",
   "source": [
    "chatClient\n",
    "    .prompt()\n",
    "    .user {\n",
    "        it.text(\"\"\"\n",
    "        What foldRight does? What will be the intermidieate and the end result of the foldRight function call?\n",
    "        ```kotlin\n",
    "            \"baba\".foldRight(\"\") { x, acc -> \"${'$'}x${'$'}{acc}${'$'}{acc}\" })\n",
    "        ```\n",
    "        \"\"\".trimIndent())\n",
    "    }\n",
    "    .call()\n",
    "    .content()\n"
   ],
   "outputs": [
    {
     "data": {
      "text/plain": [
       "In Kotlin, the `foldRight` function is used to accumulate a value from the right side of a collection. It takes an initial value and a lambda function that combines each element with an accumulator, starting from the last element of the collection and moving to the first.\n",
       "\n",
       "Here's a breakdown of the `foldRight` function call you provided:\n",
       "\n",
       "```kotlin\n",
       "\"baba\".foldRight(\"\") { x, acc -> \"$x${acc}${acc}\" }\n",
       "```\n",
       "\n",
       "### Explanation:\n",
       "- The string `\"baba\"` is treated as a collection of characters: `['b', 'a', 'b', 'a']`.\n",
       "- The initial accumulator value is an empty string `\"\"`.\n",
       "- The lambda function takes two parameters:\n",
       "  - `x`: the current character from the string.\n",
       "  - `acc`: the accumulated result up to that point.\n",
       "\n",
       "### Intermediate Steps:\n",
       "1. Start with the last character `'a'`:\n",
       "   - `x = 'a'`, `acc = \"\"` → Result: `\"a\"`\n",
       "   \n",
       "2. Move to the second last character `'b'`:\n",
       "   - `x = 'b'`, `acc = \"a\"` → Result: `\"bab\"`\n",
       "   \n",
       "3. Move to the third last character `'a'`:\n",
       "   - `x = 'a'`, `acc = \"bab\"` → Result: `\"ababab\"`\n",
       "   \n",
       "4. Finally, the first character `'b'`:\n",
       "   - `x = 'b'`, `acc = \"ababab\"` → Result: `\"bababababab\"`\n",
       "\n",
       "### Final Result:\n",
       "The final result of the `foldRight` function call is `\"bababababab\"`.\n",
       "\n",
       "### Summary:\n",
       "- **Intermediate Results**:\n",
       "  - After processing `'a'`: `\"a\"`\n",
       "  - After processing `'b'`: `\"bab\"`\n",
       "  - After processing `'a'`: `\"ababab\"`\n",
       "  - After processing `'b'`: `\"bababababab\"`\n",
       "  \n",
       "- **Final Result**: `\"bababababab\"`"
      ]
     },
     "execution_count": 6,
     "metadata": {},
     "output_type": "execute_result"
    }
   ],
   "execution_count": 6
  },
  {
   "metadata": {},
   "cell_type": "markdown",
   "source": "or"
  },
  {
   "metadata": {
    "ExecuteTime": {
     "end_time": "2025-02-11T18:41:53.507234Z",
     "start_time": "2025-02-11T18:41:45.235127Z"
    }
   },
   "cell_type": "code",
   "source": [
    "val chatClient = ChatClient.builder(chatModel).build()\n",
    "\n",
    "chatClient\n",
    "    .prompt()\n",
    "    .system {\n",
    "        it.text(\n",
    "            \"\"\"\n",
    "            You are an expert Kotlin developer. Your task is to write idiomatic Kotlin code. Follow these guidelines:\n",
    "            - Use clean code principles.\n",
    "            - Write concise and readable APIs.\n",
    "            - Stick to idiomatic Kotlin conventions.\n",
    "            - Leverage higher-order functions, extensions, and null-safety features.\n",
    "            - Avoid unnecessary complexity; simplify the code when possible.\n",
    "            - Ensure the code is optimized for performance.\n",
    "            - Structure the code clearly and use best practices.\n",
    "            - Provide concise and to-the-point responses.\n",
    "            \"\"\".trimIndent()\n",
    "        )\n",
    "    }\n",
    "    .user {\n",
    "        it.text(\n",
    "            \"\"\"\n",
    "        What foldRight does? What will be the intermidieate and the end result of the foldRight function call?\n",
    "        ```kotlin\n",
    "            \"baba\".foldRight(\"\") { x, acc -> \"${'$'}x${'$'}{acc}${'$'}{acc}\" })\n",
    "        ```\n",
    "        \"\"\".trimIndent()\n",
    "        )\n",
    "    }\n",
    "    .call()\n",
    "    .content()\n"
   ],
   "outputs": [
    {
     "data": {
      "text/plain": [
       "The `foldRight` function in Kotlin is a higher-order function that processes a collection (or a string, in this case) from right to left, accumulating a result. It takes an initial value (the accumulator) and a lambda function that defines how to combine each element with the accumulator.\n",
       "\n",
       "In your example, the string `\"baba\"` is being processed with an initial accumulator of `\"\"` (an empty string). The lambda function takes two parameters: `x`, which represents the current character being processed, and `acc`, which is the accumulated result up to that point.\n",
       "\n",
       "Here's a breakdown of the intermediate steps and the final result:\n",
       "\n",
       "1. **Initial Call**: `foldRight` starts with the last character of the string and the initial accumulator.\n",
       "2. **Processing Steps**:\n",
       "   - For the last character `'a'`: \n",
       "     - `x = 'a'`, `acc = \"\"` → Result: `\"a\"`\n",
       "   - For the second last character `'b'`: \n",
       "     - `x = 'b'`, `acc = \"a\"` → Result: `\"bab\"`\n",
       "   - For the third character `'a'`: \n",
       "     - `x = 'a'`, `acc = \"bab\"` → Result: `\"ababab\"`\n",
       "   - For the first character `'b'`: \n",
       "     - `x = 'b'`, `acc = \"ababab\"` → Result: `\"bababababab\"`\n",
       "\n",
       "3. **Final Result**: The final result of the `foldRight` call is `\"bababababab\"`.\n",
       "\n",
       "So, the intermediate results during the fold would be:\n",
       "- After processing `'a'`: `\"a\"`\n",
       "- After processing `'b'`: `\"bab\"`\n",
       "- After processing `'a'`: `\"ababab\"`\n",
       "- After processing `'b'`: `\"bababababab\"`\n",
       "\n",
       "The final output of the entire `foldRight` operation is `\"bababababab\"`."
      ]
     },
     "execution_count": 7,
     "metadata": {},
     "output_type": "execute_result"
    }
   ],
   "execution_count": 7
  },
  {
   "metadata": {},
   "cell_type": "markdown",
   "source": "## Stream"
  },
  {
   "metadata": {
    "ExecuteTime": {
     "end_time": "2025-02-11T18:41:58.866548Z",
     "start_time": "2025-02-11T18:41:53.516606Z"
    }
   },
   "cell_type": "code",
   "source": [
    "val response = chatModel.stream(\n",
    "    \"\"\"\n",
    "    Write a main function that creates a flow of five elements 1, 2, 3, 4, and 5, and prints each one of them. Use the collect function without any arguments to do so.\n",
    "    Make sure to include all imports, but don’t use star imports.\n",
    "    \"\"\".trimIndent()\n",
    ")\n",
    "\n",
    "response\n",
    "    .doOnNext(::println)\n",
    "    .blockLast()"
   ],
   "outputs": [
    {
     "data": {
      "text/plain": []
     },
     "execution_count": 8,
     "metadata": {},
     "output_type": "execute_result"
    }
   ],
   "execution_count": 8
  },
  {
   "metadata": {},
   "cell_type": "markdown",
   "source": "## Structured Output"
  },
  {
   "metadata": {},
   "cell_type": "markdown",
   "source": "### JSON_MODE"
  },
  {
   "metadata": {
    "ExecuteTime": {
     "end_time": "2025-02-11T18:41:58.995341Z",
     "start_time": "2025-02-11T18:41:58.873750Z"
    }
   },
   "cell_type": "code",
   "source": [
    "import com.fasterxml.jackson.annotation.JsonCreator\n",
    "import org.springframework.ai.openai.api.ResponseFormat\n",
    "\n",
    "/**\n",
    " * Represents a person with basic personal attributes.\n",
    " *\n",
    " * @property name The name of the person.\n",
    " * @property age The age of the person in years.\n",
    " * @property height The height of the person in meters.\n",
    " * @property married Indicates if the person is married.\n",
    " */\n",
    "\n",
    "data class Person(val name: String, val age: Int, val height: Double, val married: Boolean)\n",
    "\n",
    "val openAiChatOptions = OpenAiChatOptions.builder()\n",
    "    .model(OpenAiApi.ChatModel.GPT_4_O_MINI)\n",
    "    .temperature(0.3)\n",
    "    .responseFormat(ResponseFormat.builder().type(ResponseFormat.Type.JSON_OBJECT).build())\n",
    "    .build()\n",
    "val chatModel = OpenAiChatModel(openAiApi, openAiChatOptions)"
   ],
   "outputs": [],
   "execution_count": 9
  },
  {
   "metadata": {
    "ExecuteTime": {
     "end_time": "2025-02-11T18:41:59.903928Z",
     "start_time": "2025-02-11T18:41:58.999584Z"
    }
   },
   "cell_type": "code",
   "source": [
    "ChatClient.create(chatModel)\n",
    "    .prompt()\n",
    "    .user(\n",
    "        \"\"\"\n",
    "        John is 42 years old and lives an independent life.\n",
    "        He stands 1.75 meters tall and carries himself with confidence.\n",
    "        Currently unmarried, he enjoys the freedom to focus on his personal goals and interests.\n",
    "        \"\"\"\n",
    "    )\n",
    "    .call()\n",
    "    .entity(Person::class.java)"
   ],
   "outputs": [
    {
     "data": {
      "text/plain": [
       "Person(name=John, age=42, height=1.75, married=false)"
      ]
     },
     "execution_count": 10,
     "metadata": {},
     "output_type": "execute_result"
    }
   ],
   "execution_count": 10
  },
  {
   "metadata": {},
   "cell_type": "markdown",
   "source": "## Function calling"
  },
  {
   "metadata": {
    "ExecuteTime": {
     "end_time": "2025-02-11T18:42:00.062131Z",
     "start_time": "2025-02-11T18:41:59.909509Z"
    }
   },
   "cell_type": "code",
   "source": [
    "import org.springframework.context.annotation.Bean\n",
    "import org.springframework.context.annotation.Configuration\n",
    "import org.springframework.context.annotation.Description\n",
    "import java.util.function.Function\n",
    "\n",
    "class Tools {\n",
    "    fun plus(a: Int, b: Int): Int = a + b\n",
    "    fun minus(a: Int, b: Int): Int = a - b\n",
    "    fun times(a: Int, b: Int): Int = a * b\n",
    "    fun div(a: Int, b: Int): Int = a / b\n",
    "}\n",
    "\n",
    "data class MathRequest(\n",
    "    val operation: String,\n",
    "    val a: Int,\n",
    "    val b: Int\n",
    ")\n",
    "\n",
    "data class MathResponse(val result: Int)\n",
    "\n",
    "\n",
    "\n",
    " @Bean\n",
    " @Description(\"Math operations such as addition, subtraction, multiplication, and division.\")\n",
    " fun mathFunction(): Function<MathRequest, MathResponse> = MathService()\n",
    "\n",
    "\n",
    "class MathService: Function<MathRequest, MathResponse> {\n",
    "    private val tools = Tools()\n",
    "\n",
    "    override fun apply(request: MathRequest): MathResponse {\n",
    "        val result = when (request.operation) {\n",
    "            \"plus\" -> tools.plus(request.a, request.b)\n",
    "            \"minus\" -> tools.minus(request.a, request.b)\n",
    "            \"times\" -> tools.times(request.a, request.b)\n",
    "            \"div\" -> tools.div(request.a, request.b)\n",
    "            else -> throw IllegalArgumentException(\"Unknown operation: ${request.operation}\")\n",
    "        }\n",
    "        return MathResponse(result)\n",
    "    }\n",
    "}\n",
    "\n",
    "val openAiChatOptions = OpenAiChatOptions.builder()\n",
    "    .model(OpenAiApi.ChatModel.GPT_4_O_MINI)\n",
    "    .temperature(0.3)\n",
    "    .build()\n",
    "val chatModel = OpenAiChatModel(openAiApi, openAiChatOptions)\n",
    "val chatClient = ChatClient.create(chatModel)\n"
   ],
   "outputs": [],
   "execution_count": 11
  },
  {
   "metadata": {
    "ExecuteTime": {
     "end_time": "2025-02-11T18:42:12.851563Z",
     "start_time": "2025-02-11T18:42:00.066844Z"
    }
   },
   "cell_type": "code",
   "source": [
    "import org.springframework.ai.model.function.FunctionCallback\n",
    "\n",
    "val response = chatClient.prompt()\n",
    "    .system(\"You are a helpful math tutor.\")\n",
    "    .user(\"\"\"\n",
    "Solve this:\n",
    "* (5 + 10) * (20 - 3) / 4\n",
    "* (a + b)^2\n",
    "* ax^2 + bx + c = 0 for a=1, b=-3, c=-4\n",
    "* S = n * (a1 + an) / 2\n",
    "    n = 10\n",
    "    a1 = 3\n",
    "    an = 20\n",
    "\"\"\")\n",
    "    .function(\"mathFunction\", \"Math operations such as plus, minus, times, and div.\", MathService())\n",
    "    .call()\n",
    "    .content()\n",
    "\n",
    "println(response)"
   ],
   "outputs": [
    {
     "name": "stdout",
     "output_type": "stream",
     "text": [
      "Here are the solutions to your problems:\n",
      "\n",
      "1. **(5 + 10) * (20 - 3) / 4**:\n",
      "   - \\( (15) * (17) / 4 = 255 / 4 = 63.75 \\)\n",
      "\n",
      "2. **(a + b)^2**: This expression is not evaluated because values for \\(a\\) and \\(b\\) were not provided.\n",
      "\n",
      "3. **Solve \\( ax^2 + bx + c = 0 \\) for \\( a=1, b=-3, c=-4 \\)**:\n",
      "   - The roots of the equation can be calculated using the quadratic formula \\( x = \\frac{-b \\pm \\sqrt{b^2 - 4ac}}{2a} \\).\n",
      "   - Here, \\( b^2 - 4ac = (-3)^2 - 4(1)(-4) = 9 + 16 = 25 \\).\n",
      "   - Thus, the roots are \\( x = \\frac{3 \\pm 5}{2} \\), which gives \\( x = 4 \\) and \\( x = -1 \\).\n",
      "\n",
      "4. **S = n * (a1 + an) / 2** with \\( n = 10, a1 = 3, an = 20 \\):\n",
      "   - \\( S = 10 * (3 + 20) / 2 = 10 * 23 / 2 = 115 \\).\n",
      "\n",
      "In summary:\n",
      "- The result of the first expression is **63.75**.\n",
      "- The roots of the quadratic equation are **4 and -1**.\n",
      "- The sum \\( S \\) is **115**. \n",
      "\n",
      "If you have values for \\( a \\) and \\( b \\) in the second expression, please provide them for evaluation!\n"
     ]
    }
   ],
   "execution_count": 12
  }
 ],
 "metadata": {
  "kernelspec": {
   "display_name": "Kotlin",
   "language": "kotlin",
   "name": "kotlin"
  },
  "language_info": {
   "name": "kotlin",
   "version": "1.9.23",
   "mimetype": "text/x-kotlin",
   "file_extension": ".kt",
   "pygments_lexer": "kotlin",
   "codemirror_mode": "text/x-kotlin",
   "nbconvert_exporter": ""
  },
  "ktnbPluginMetadata": {
   "projectLibraries": false
  }
 },
 "nbformat": 4,
 "nbformat_minor": 0
}
