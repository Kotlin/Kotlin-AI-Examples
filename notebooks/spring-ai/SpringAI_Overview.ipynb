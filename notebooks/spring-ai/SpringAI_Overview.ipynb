{
 "cells": [
  {
   "metadata": {},
   "cell_type": "markdown",
   "source": [
    "# Introduction to Using Spring AI with Kotlin\n",
    "\n",
    "This notebook provides an introductory tutorial on using Spring AI in Kotlin to interact with large language models through an OpenAI example. We'll walk through the process step by step, covering configuration, using prompts, handling streaming responses, obtaining structured data, and utilizing tools.\n",
    "\n",
    "### Setting Up Your Project\n",
    "\n",
    "Ensure that your project includes the necessary Spring AI dependencies:"
   ]
  },
  {
   "metadata": {
    "ExecuteTime": {
     "end_time": "2025-03-12T17:40:28.955044Z",
     "start_time": "2025-03-12T17:40:27.850293Z"
    }
   },
   "cell_type": "code",
   "source": [
    "USE {\n",
    "    dependencies {\n",
    "        val springAiVersion = \"1.0.0-M6\"\n",
    "        implementation(\"org.springframework.ai:spring-ai-openai:$springAiVersion\")\n",
    "        implementation(\"org.springframework.ai:spring-ai-openai-spring-boot-starter:$springAiVersion\")\n",
    "        implementation(\"com.fasterxml.jackson.module:jackson-module-kotlin:2.18.2\")\n",
    "    }\n",
    "}"
   ],
   "outputs": [],
   "execution_count": 1
  },
  {
   "metadata": {},
   "cell_type": "markdown",
   "source": "Provide your OpenAI API key by setting up the `OPENAI_API_KEY` environmental variable. Alternatively, you can copy it here:"
  },
  {
   "metadata": {
    "ExecuteTime": {
     "end_time": "2025-03-12T17:40:30.756966Z",
     "start_time": "2025-03-12T17:40:30.684829Z"
    }
   },
   "cell_type": "code",
   "source": "val apiKey = System.getenv(\"OPENAI_API_KEY\") ?: \"YOUR_OPENAI_API_KEY\"",
   "outputs": [],
   "execution_count": 2
  },
  {
   "metadata": {},
   "cell_type": "markdown",
   "source": "Set up the OpenAI chat model with your API key and configure the desired settings, such as temperature and model type:"
  },
  {
   "metadata": {
    "ExecuteTime": {
     "end_time": "2025-03-12T17:40:34.576488Z",
     "start_time": "2025-03-12T17:40:34.211023Z"
    }
   },
   "cell_type": "code",
   "source": [
    "import org.springframework.ai.openai.OpenAiChatModel\n",
    "import org.springframework.ai.openai.OpenAiChatOptions\n",
    "import org.springframework.ai.openai.api.OpenAiApi\n",
    "\n",
    "val openAiApi = OpenAiApi.builder().apiKey(apiKey).build()\n",
    "val openAiChatOptions = OpenAiChatOptions.builder()\n",
    "    .model(OpenAiApi.ChatModel.GPT_4_O_MINI)\n",
    "    .temperature(0.7)\n",
    "    .build()\n",
    "val chatModel = OpenAiChatModel.builder().openAiApi(openAiApi).defaultOptions(openAiChatOptions).build()"
   ],
   "outputs": [],
   "execution_count": 3
  },
  {
   "metadata": {},
   "cell_type": "markdown",
   "source": [
    "### Sending Prompts\n",
    "\n",
    "Interact with the API by sending a prompt to the chat model and receiving a response:"
   ]
  },
  {
   "metadata": {
    "ExecuteTime": {
     "end_time": "2025-03-12T17:40:37.596903Z",
     "start_time": "2025-03-12T17:40:36.354508Z"
    }
   },
   "cell_type": "code",
   "source": "chatModel.call(\"Generate a hokku about Kotlin\")",
   "outputs": [
    {
     "data": {
      "text/plain": [
       "Code flows like water,  \n",
       "Kotlin's grace in every line,  \n",
       "Breezes through the night.  "
      ]
     },
     "execution_count": 4,
     "metadata": {},
     "output_type": "execute_result"
    }
   ],
   "execution_count": 4
  },
  {
   "metadata": {},
   "cell_type": "markdown",
   "source": "Use Spring AI's `ChatClient` to create more complex prompts, such as providing system instructions:"
  },
  {
   "metadata": {
    "ExecuteTime": {
     "end_time": "2025-03-12T17:40:39.389069Z",
     "start_time": "2025-03-12T17:40:39.327868Z"
    }
   },
   "cell_type": "code",
   "source": [
    "import org.springframework.ai.chat.client.ChatClient\n",
    "\n",
    "val chatClient = ChatClient.builder(chatModel).defaultSystem(\n",
    "    \"\"\"\n",
    "    You are a Lord of the Rings expert and a trusted advisor.\n",
    "    Offer wise, concise guidance in the style of Middle-earth,\n",
    "    drawing from its lore, characters, and philosophy.\n",
    "    \"\"\".trimIndent()\n",
    ").build()"
   ],
   "outputs": [],
   "execution_count": 5
  },
  {
   "metadata": {},
   "cell_type": "markdown",
   "source": "Now you can send a user-defined prompt to the chat model and retrieve the response content as a `String`:"
  },
  {
   "metadata": {
    "ExecuteTime": {
     "end_time": "2025-03-12T17:40:44.469815Z",
     "start_time": "2025-03-12T17:40:41.549123Z"
    }
   },
   "cell_type": "code",
   "source": [
    "chatClient\n",
    "    .prompt()\n",
    "    .user(\"What awaits us?\")\n",
    "    .call()\n",
    "    .content()\n"
   ],
   "outputs": [
    {
     "data": {
      "text/plain": [
       "Ah, seeker of wisdom, the path ahead is shrouded in uncertainty, much like the mists of Mirkwood. What awaits thee is shaped by the choices thou makest in the present. \n",
       "\n",
       "As Gandalf wisely counseled, \"All we have to decide is what to do with the time that is given us.\" Forge thy path with courage and kindness, for in the heart of darkness, a small light may shine brightly. \n",
       "\n",
       "Remember, the journey is as crucial as the destination. Embrace fellowship, for as the Fellowship of the Ring showed us, strength is found in unity. Seek knowledge and clarity, as Elrond would advise, for wisdom is a lantern in the night.\n",
       "\n",
       "What awaits thee is both peril and promise; face it with the heart of a Hobbit and the resolve of a Man, and thou shalt carve thy destiny amidst the stars."
      ]
     },
     "execution_count": 6,
     "metadata": {},
     "output_type": "execute_result"
    }
   ],
   "execution_count": 6
  },
  {
   "metadata": {},
   "cell_type": "markdown",
   "source": "Try replacing the `content()` call with `chatResponse()` to gain deeper insight into the response. `ChatResponse` represents the AI model's reply and includes metadata on how it was generated, such as the number of tokens used."
  },
  {
   "metadata": {},
   "cell_type": "markdown",
   "source": [
    "### Handling Streaming Responses\n",
    "\n",
    "Using the `stream()` method, you receive partial chunks of the response as soon as they're ready. This approach allows you to avoid waiting for the AI to generate the entire response and enables you to display real-time progress to users."
   ]
  },
  {
   "metadata": {},
   "cell_type": "markdown",
   "source": "Include the coroutine dependency to work with the result as a Kotlin `Flow`:"
  },
  {
   "metadata": {
    "ExecuteTime": {
     "end_time": "2025-03-12T17:40:47.750841Z",
     "start_time": "2025-03-12T17:40:47.221451Z"
    }
   },
   "cell_type": "code",
   "source": [
    "%useLatestDescriptors\n",
    "%use coroutines\n",
    "@file:DependsOn(\"org.jetbrains.kotlinx:kotlinx-coroutines-reactive:1.10.1\")\n",
    "@file:DependsOn(\"org.jetbrains.kotlinx:kotlinx-coroutines-reactor:1.10.1\")"
   ],
   "outputs": [],
   "execution_count": 7
  },
  {
   "metadata": {},
   "cell_type": "markdown",
   "source": "In a reactive UI, you can show the incoming response in real time. To keep this example simple, we display each chunk of the response on a separate line (although they are printed simultaneously):"
  },
  {
   "metadata": {},
   "cell_type": "code",
   "source": [
    "import kotlinx.coroutines.reactive.asFlow\n",
    "\n",
    "val streamingResponse: Flow<String> = chatModel\n",
    "    .stream(\"Generate a hokku about Kotlin\")\n",
    "    .asFlow()\n",
    "\n",
    "runBlocking {\n",
    "    streamingResponse.collect {\n",
    "        print(it)\n",
    "    }\n",
    "}\n"
   ],
   "outputs": [],
   "execution_count": null
  },
  {
   "metadata": {},
   "cell_type": "markdown",
   "source": " Since `collect` is a suspend function, we wrap it inside a `runBlocking` call to use it within a notebook."
  },
  {
   "metadata": {},
   "cell_type": "markdown",
   "source": [
    "### Structured Output\n",
    "\n",
    "Spring AI can automatically deserialize responses into Kotlin data classes, making it easy to handle structured outputs.\n",
    "\n",
    "Let's retrieve the response from the LLM about the movie in our desired format:"
   ]
  },
  {
   "metadata": {
    "ExecuteTime": {
     "end_time": "2025-03-12T17:40:52.273360Z",
     "start_time": "2025-03-12T17:40:52.155419Z"
    }
   },
   "cell_type": "code",
   "source": [
    "data class Movie(\n",
    "    val title: String,\n",
    "    val year: Int,\n",
    "    val director: String,\n",
    "    val genre: String\n",
    ")"
   ],
   "outputs": [],
   "execution_count": 8
  },
  {
   "metadata": {},
   "cell_type": "markdown",
   "source": "Specify the `ResponseFormat` as `JSON_OBJECT` to instruct the LLM to return the output strictly in JSON, enabling Spring AI to automatically convert it into a `data` class:"
  },
  {
   "metadata": {
    "ExecuteTime": {
     "end_time": "2025-03-12T17:40:55.067500Z",
     "start_time": "2025-03-12T17:40:54.985653Z"
    }
   },
   "cell_type": "code",
   "source": [
    "import org.springframework.ai.openai.api.ResponseFormat\n",
    "\n",
    "val structuredOutputOptions = OpenAiChatOptions.builder()\n",
    "    .model(OpenAiApi.ChatModel.GPT_4_O)\n",
    "    .responseFormat(ResponseFormat.builder().type(ResponseFormat.Type.JSON_OBJECT).build())\n",
    "    .build()\n",
    "val chatModelWithStructuredOutput = OpenAiChatModel(openAiApi, structuredOutputOptions)"
   ],
   "outputs": [],
   "execution_count": 9
  },
  {
   "metadata": {},
   "cell_type": "markdown",
   "source": "In the following example, OpenAI returns the requested JSON, which is automatically converted into a `Movie`:"
  },
  {
   "metadata": {
    "ExecuteTime": {
     "end_time": "2025-03-12T17:40:58.711190Z",
     "start_time": "2025-03-12T17:40:57.113619Z"
    }
   },
   "cell_type": "code",
   "source": [
    "ChatClient.create(chatModelWithStructuredOutput)\n",
    "    .prompt()\n",
    "    .user(\"Movie that won the Oscar for Best Picture in 1990\")\n",
    "    .call()\n",
    "    .entity(Movie::class.java)"
   ],
   "outputs": [
    {
     "data": {
      "text/plain": [
       "Movie(title=Driving Miss Daisy, year=1990, director=Bruce Beresford, genre=Drama)"
      ]
     },
     "execution_count": 10,
     "metadata": {},
     "output_type": "execute_result"
    }
   ],
   "execution_count": 10
  },
  {
   "metadata": {},
   "cell_type": "markdown",
   "source": "AI models often hallucinate and aren't guaranteed to return correct answers. As a result, they may sometimes fail to produce the structured output as requested, instead returning something different—such as JSON with additional comments. Larger models tend to produce the expected output more consistently. In this example, selecting `GPT_4_O` rather than `GPT_4_O_MINI` yields both the correct movie choice ('Driving Miss Daisy') and properly formatted JSON. For real-life applications, consider implementing a validation mechanism to ensure the model's output matches the desired format."
  },
  {
   "metadata": {},
   "cell_type": "markdown",
   "source": "### Using Tools"
  },
  {
   "metadata": {},
   "cell_type": "markdown",
   "source": [
    "Tools allow LLMs to access your custom services in a powerful and flexible way. Let's use tools to work with OpenAI's function-calling feature and implement a weather service query.\n",
    "\n",
    "Without additional tools, the model won't provide information about the current weather, responding instead that it's unable to offer real-time weather updates:\n"
   ]
  },
  {
   "metadata": {
    "ExecuteTime": {
     "end_time": "2025-03-12T17:41:02.132204Z",
     "start_time": "2025-03-12T17:41:01.289376Z"
    }
   },
   "cell_type": "code",
   "source": "chatModel.call(\"What's the weather like in Paris today?\")",
   "outputs": [
    {
     "data": {
      "text/plain": [
       "I'm unable to provide real-time weather updates. To find out the current weather in Paris, I recommend checking a reliable weather website or app."
      ]
     },
     "execution_count": 11,
     "metadata": {},
     "output_type": "execute_result"
    }
   ],
   "execution_count": 11
  },
  {
   "metadata": {},
   "cell_type": "markdown",
   "source": "Let's imagine we have a weather service providing weather information for different locations. By using tools, we can give OpenAI access to this service. In this tutorial, we'll use `mockWeatherService` to simulate such a service:"
  },
  {
   "metadata": {
    "ExecuteTime": {
     "end_time": "2025-03-12T17:41:04.116156Z",
     "start_time": "2025-03-12T17:41:04.008257Z"
    }
   },
   "cell_type": "code",
   "source": [
    "fun mockWeatherService(location: String): Double? = when {\n",
    "    \"Paris\" in location -> 15.0\n",
    "    \"Tokyo\" in location -> 10.0\n",
    "    \"San Francisco\" in location -> 30.0\n",
    "    else -> null\n",
    "}"
   ],
   "outputs": [],
   "execution_count": 12
  },
  {
   "metadata": {},
   "cell_type": "markdown",
   "source": "We need to grant the model access to the weather tool. First, we define a `FunctionTool` named `\"getCurrentWeather\"` with the description `\"Get the current temperature for a given location.\"` It includes one required property, `\"location\"`, of type `string`:"
  },
  {
   "metadata": {
    "ExecuteTime": {
     "end_time": "2025-03-12T17:41:06.180690Z",
     "start_time": "2025-03-12T17:41:06.138301Z"
    }
   },
   "cell_type": "code",
   "source": [
    "import org.springframework.ai.model.ModelOptionsUtils\n",
    "\n",
    "val functionTool = OpenAiApi.FunctionTool(\n",
    "    OpenAiApi.FunctionTool.Type.FUNCTION,\n",
    "    OpenAiApi.FunctionTool.Function(\n",
    "        \"Get current temperature for a given location.\",\n",
    "        \"getCurrentWeather\", ModelOptionsUtils.jsonToMap(\n",
    "            \"\"\"\n",
    "                {\n",
    "                    \"type\": \"object\",\n",
    "                    \"properties\": {\n",
    "                        \"location\": {\n",
    "                            \"type\": \"string\",\n",
    "                            \"description\": \"City and country e.g. Bogotá, Colombia\"\n",
    "                        }\n",
    "                    },\n",
    "                    \"required\": [\"location\"],\n",
    "                    \"additionalProperties\": false\n",
    "                }\n",
    "                \"\"\".trimIndent()\n",
    "        ),\n",
    "        true\n",
    "    )\n",
    ")"
   ],
   "outputs": [],
   "execution_count": 13
  },
  {
   "metadata": {},
   "cell_type": "markdown",
   "source": "Now, we send the user's question along with the list of available tools."
  },
  {
   "metadata": {
    "ExecuteTime": {
     "end_time": "2025-03-12T17:41:08.989019Z",
     "start_time": "2025-03-12T17:41:08.927188Z"
    }
   },
   "cell_type": "code",
   "source": [
    "import org.springframework.ai.openai.api.OpenAiApi.*\n",
    "import org.springframework.ai.openai.api.OpenAiApi.ChatCompletionRequest.ToolChoiceBuilder\n",
    "\n",
    "val initialUserMessage = ChatCompletionMessage(\n",
    "    \"What's the weather like in Paris today?\",\n",
    "    ChatCompletionMessage.Role.USER\n",
    ")\n",
    "val chatCompletionRequest = ChatCompletionRequest(\n",
    "    listOf(initialUserMessage), \"gpt-4o\",\n",
    "    listOf(functionTool), ToolChoiceBuilder.AUTO\n",
    ")"
   ],
   "outputs": [],
   "execution_count": 14
  },
  {
   "metadata": {},
   "cell_type": "markdown",
   "source": "Depending on the user's question, the model can now return a response containing information about the tools it chooses to use and the arguments required for those tools. If the user asks about the weather, the model selects our weather tool. If the user asks an unrelated question, the model behaves as usual. We can display the entire response to see which tools were chosen:"
  },
  {
   "metadata": {
    "ExecuteTime": {
     "end_time": "2025-03-12T17:41:12.920328Z",
     "start_time": "2025-03-12T17:41:11.544680Z"
    }
   },
   "cell_type": "code",
   "source": [
    "val chatCompletion = openAiApi.chatCompletionEntity(chatCompletionRequest)\n",
    "val responseFromLLM = chatCompletion.body!!.choices().first().message()\n",
    "responseFromLLM"
   ],
   "outputs": [
    {
     "data": {
      "text/plain": [
       "ChatCompletionMessage[rawContent=null, role=ASSISTANT, name=null, toolCallId=null, toolCalls=[ToolCall[index=null, id=call_ljAwOncQCMWgnMtBLetIWAGk, type=function, function=ChatCompletionFunction[name=getCurrentWeather, arguments={\"location\":\"Paris, France\"}]]], refusal=null, audioOutput=null]"
      ]
     },
     "execution_count": 15,
     "metadata": {},
     "output_type": "execute_result"
    }
   ],
   "execution_count": 15
  },
  {
   "metadata": {},
   "cell_type": "markdown",
   "source": [
    "The response specifies the tool the LLM intends to call and its arguments:\n",
    "\n",
    "```function=ChatCompletionFunction[name=getCurrentWeather, arguments={\"location\":\"Paris, France\"}]```"
   ]
  },
  {
   "metadata": {},
   "cell_type": "markdown",
   "source": "We invoke the tool and send the result back to the model so that it can generate the final response for the user—or possibly decide to call other tools based on the conversation."
  },
  {
   "metadata": {
    "ExecuteTime": {
     "end_time": "2025-03-12T17:41:15.840880Z",
     "start_time": "2025-03-12T17:41:15.741013Z"
    }
   },
   "cell_type": "code",
   "source": [
    "lateinit var messageWithToolInvocation: ChatCompletionMessage\n",
    "for (toolCall in responseFromLLM.toolCalls()) {\n",
    "    when (val functionName = toolCall.function().name()) {\n",
    "        \"getCurrentWeather\" -> {\n",
    "            val location = toolCall.function().arguments()\n",
    "            val temperature = mockWeatherService(location)\n",
    "            messageWithToolInvocation = ChatCompletionMessage(\n",
    "                if (temperature != null) \"$temperature C\" else \"Unable to get the weather\",\n",
    "                ChatCompletionMessage.Role.TOOL,\n",
    "                functionName, toolCall.id(), null, null, null\n",
    "            )\n",
    "        }\n",
    "    }\n",
    "}"
   ],
   "outputs": [],
   "execution_count": 16
  },
  {
   "metadata": {},
   "cell_type": "markdown",
   "source": "Now, we send all the messages to the LLM to provide the full context: the initial message, the response with the tool choice, and the tool invocation result. With this information, the LLM can now answer the user's initial question about the current weather in Paris:"
  },
  {
   "metadata": {
    "ExecuteTime": {
     "end_time": "2025-03-12T17:41:18.683994Z",
     "start_time": "2025-03-12T17:41:17.777920Z"
    }
   },
   "cell_type": "code",
   "source": [
    "val messages = mutableListOf(initialUserMessage, responseFromLLM, messageWithToolInvocation)\n",
    "val functionResponseRequest = ChatCompletionRequest(messages, \"gpt-4o\", 0.2)\n",
    "val resultingCompletion = openAiApi.chatCompletionEntity(functionResponseRequest)\n",
    "resultingCompletion.body!!.choices().first().message().content()"
   ],
   "outputs": [
    {
     "data": {
      "text/plain": [
       "The current temperature in Paris, France is 15°C."
      ]
     },
     "execution_count": 17,
     "metadata": {},
     "output_type": "execute_result"
    }
   ],
   "execution_count": 17
  },
  {
   "metadata": {},
   "cell_type": "markdown",
   "source": "The LLM successfully used the provided tool to respond to the user. Enhancing LLMs with external tools can automate tasks such as data retrieval, customer support, and IoT control."
  },
  {
   "metadata": {},
   "cell_type": "markdown",
   "source": "This notebook serves as an overview of how to integrate Spring AI into your Kotlin projects, enabling you to build powerful AI-driven applications. Experiment further with prompts and tailored implementations for your specific needs! 🚀"
  }
 ],
 "metadata": {
  "kernelspec": {
   "display_name": "Kotlin",
   "language": "kotlin",
   "name": "kotlin"
  },
  "language_info": {
   "name": "kotlin",
   "version": "1.9.23",
   "mimetype": "text/x-kotlin",
   "file_extension": ".kt",
   "pygments_lexer": "kotlin",
   "codemirror_mode": "text/x-kotlin",
   "nbconvert_exporter": ""
  },
  "ktnbPluginMetadata": {
   "projectLibraries": false
  }
 },
 "nbformat": 4,
 "nbformat_minor": 0
}
