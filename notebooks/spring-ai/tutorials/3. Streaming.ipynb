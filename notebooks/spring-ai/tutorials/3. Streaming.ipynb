{
 "cells": [
  {
   "metadata": {},
   "cell_type": "markdown",
   "source": [
    "# Streaming\n",
    "\n",
    "Streaming is a capability that allows AI providers to deliver responses as tokens are generated in real-time,\n",
    "rather than waiting for the complete response to be finished.\n",
    "You can visualize it as filling a bucket with water — streaming lets you watch the water level rising in real-time,\n",
    "instead of placing the bucket somewhere, walking away, and only returning once it's completely full.\n",
    "\n",
    "Streaming significantly improves the user experience,\n",
    "as people can immediately see the response forming rather than staring at a loading indicator.\n",
    "This is especially valuable since synchronous requests can take quite a long time to generate.\n",
    "\n",
    "Let's implement streaming responses with Kotlin and Spring AI.\n",
    "For this, we'll need to add dependencies.\n",
    "In addition to `spring-ai-openai`, we'll need the Kotlin coroutines library to work with `Flow`."
   ]
  },
  {
   "metadata": {
    "ExecuteTime": {
     "end_time": "2025-05-11T18:23:53.996189Z",
     "start_time": "2025-05-11T18:23:51.890277Z"
    }
   },
   "cell_type": "code",
   "source": [
    "%useLatestDescriptors\n",
    "%use coroutines\n",
    "%use spring-ai-openai\n",
    "USE { dependencies { implementation(\"org.jetbrains.kotlinx:kotlinx-coroutines-reactive:1.10.1\") } }"
   ],
   "outputs": [],
   "execution_count": 1
  },
  {
   "metadata": {},
   "cell_type": "markdown",
   "source": [
    "As in the previous notebooks, we'll need an API key.\n",
    "\n",
    "To use the model, we need to provide an API key.\n",
    "\n",
    "You can obtain this API key from\n",
    "[console.anthropic.com](https://console.anthropic.com/settings/keys)\n",
    "for Anthropic models or from\n",
    "[platform.openai.com](https://platform.openai.com/api-keys)\n",
    "for OpenAI models.\n",
    "\n",
    "Then add the generated API key to your environment variables:\n",
    "\n",
    "[MacOS/Linux]\n",
    "```bash\n",
    "export ANTHROPIC_API_KEY=<INSERT KEY HERE> # for Anthropic\n",
    "export OPENAI_API_KEY=<INSERT KEY HERE> # for OpenAI\n",
    "\n",
    "```\n",
    "\n",
    "[Windows]\n",
    "```shell\n",
    "set ANTHROPIC_API_KEY=<INSERT KEY HERE> # for Anthropic\n",
    "set OPENAI_API_KEY=<INSERT KEY HERE> # for OpenAI\n",
    "```\n",
    "\n",
    "Let's retrieve the API key from environment variables:"
   ]
  },
  {
   "metadata": {
    "ExecuteTime": {
     "end_time": "2025-05-11T18:23:54.052104Z",
     "start_time": "2025-05-11T18:23:54.000397Z"
    }
   },
   "cell_type": "code",
   "source": "val apiKey = System.getenv(\"OPENAI_API_KEY\") ?: \"YOUR_OPENAI_API_KEY\"",
   "outputs": [],
   "execution_count": 2
  },
  {
   "metadata": {},
   "cell_type": "markdown",
   "source": "Now let's create a `ChatModel` and pass in the `ChatOptions`:"
  },
  {
   "metadata": {
    "ExecuteTime": {
     "end_time": "2025-05-11T18:24:00.818242Z",
     "start_time": "2025-05-11T18:24:00.565416Z"
    }
   },
   "cell_type": "code",
   "source": [
    "val openAiApi = OpenAiApi.builder().apiKey(apiKey).build()\n",
    "val openAiOptions = OpenAiChatOptions.builder()\n",
    "    .model(OpenAiApi.ChatModel.GPT_4_O_MINI)\n",
    "    .temperature(0.7)\n",
    "    .build()\n",
    "\n",
    "val chatCompletion = OpenAiChatModel.builder()\n",
    "    .openAiApi(openAiApi)\n",
    "    .defaultOptions(openAiOptions)\n",
    "    .build()"
   ],
   "outputs": [],
   "execution_count": 3
  },
  {
   "metadata": {},
   "cell_type": "markdown",
   "source": "Now let's ask the model to generate a short fairy tale about rabbits:"
  },
  {
   "metadata": {
    "ExecuteTime": {
     "end_time": "2025-05-11T18:24:13.965769Z",
     "start_time": "2025-05-11T18:24:04.804151Z"
    }
   },
   "cell_type": "code",
   "source": [
    "import kotlinx.coroutines.reactive.asFlow\n",
    "\n",
    "val response: Flow<String> = chatCompletion.stream(\"Generate me 10 sentences of a fairy tale about rabbits\").asFlow()\n",
    "\n",
    "runBlocking {\n",
    "    response.collect { print(it) }\n",
    "}"
   ],
   "outputs": [
    {
     "name": "stdout",
     "output_type": "stream",
     "text": [
      "Once upon a time in a lush, green meadow, there lived a brave little rabbit named Benny who dreamed of exploring the world beyond the tall, golden grass. One sunny morning, Benny discovered a sparkling, hidden path lined with colorful wildflowers that led deep into the Enchanted Forest. As he hopped along the path, he met a wise old tortoise named Tilly, who warned him of a mischievous fox lurking nearby, always on the lookout for a tasty rabbit snack. Undeterred, Benny continued on his adventure, determined to find the legendary Rainbow Carrot said to grant any wish to the one who found it. \n",
      "\n",
      "Along the way, Benny befriended a group of playful squirrels who shared their acorn stash and joined him on his quest, forming a bond of friendship that made them stronger together. They danced and sang as they ventured deeper into the forest, unaware of the sly fox watching them from behind a tree. Suddenly, the fox sprang out, but quick-thinking Benny devised a clever plan, leading the fox on a wild chase through the twisting trees and over bubbling brooks. With the help of his new friends, Benny created a diversion that allowed them to escape safely, leaving the frustrated fox behind. \n",
      "\n",
      "Finally, after a long day of adventures, Benny and his friends reached the glimmering pond where the fabled Rainbow Carrot was said to grow. As the sun set, casting a golden glow over the water, Benny spotted the vibrant carrot emerging from the earth, and with a heart full of hope, he made his wish for peace and happiness for all the creatures of the meadow. From that day on, the meadow flourished, and Benny, the brave little rabbit, became a beloved hero, reminding everyone that true courage comes from friendship and kindness."
     ]
    }
   ],
   "execution_count": 4
  },
  {
   "metadata": {},
   "cell_type": "markdown",
   "source": [
    "As you can see, the response starts printing immediately.\n",
    "If this weren't a streaming response,\n",
    "we would be waiting approximately 8 seconds (judging by the cell execution time) with nothing happening.\n",
    "\n",
    "Now let's do the same thing using the `ChatClient`:"
   ]
  },
  {
   "metadata": {
    "ExecuteTime": {
     "end_time": "2025-05-11T18:24:20.616521Z",
     "start_time": "2025-05-11T18:24:13.970221Z"
    }
   },
   "cell_type": "code",
   "source": [
    "val chatClient = ChatClient.create(chatCompletion)\n",
    "\n",
    "val response: Flow<String> = chatClient\n",
    "    .prompt(\"Generate me 10 sentences of a fairy tale about rabbits\")\n",
    "    .stream()\n",
    "    .content()\n",
    "    .asFlow()\n",
    "\n",
    "runBlocking {\n",
    "    response.collect { print(it) }\n",
    "}"
   ],
   "outputs": [
    {
     "name": "stdout",
     "output_type": "stream",
     "text": [
      "Once upon a time in a lush, green meadow, there lived a clever rabbit named Ruby, who had the softest fur and the brightest eyes. Every morning, she would hop through the dew-kissed grass, gathering golden dandelions to share with her friends. One day, while exploring a hidden glade, Ruby stumbled upon a shimmering pond that sparkled like diamonds under the sun. \n",
      "\n",
      "Curious and enchanted, she approached the water and discovered a wise old turtle named Timothy, who told her tales of a magical forest where dreams came true. Eager to find this wondrous place, Ruby gathered her friends—a brave rabbit named Benny and a gentle rabbit called Lily—and together they set off on an adventure. \n",
      "\n",
      "As they traveled, they encountered a mischievous fox who tried to trick them, but Ruby outsmarted him with her quick thinking and clever riddles. After a long journey filled with laughter and challenges, they finally reached the enchanted forest, where the trees whispered secrets and flowers sang sweet melodies. \n",
      "\n",
      "In the heart of the forest, they found a glowing flower that granted wishes, and each rabbit made a wish from the bottom of their hearts. Ruby wished for happiness for all her friends, Benny wished for courage to protect them, and Lily wished for endless adventures together. With their wishes granted, the three rabbits returned to their meadow, knowing that their friendship was the greatest magic of all. And from that day on, they lived happily ever after, sharing stories of their adventures under the stars."
     ]
    }
   ],
   "execution_count": 5
  }
 ],
 "metadata": {
  "kernelspec": {
   "display_name": "Kotlin",
   "language": "kotlin",
   "name": "kotlin"
  },
  "language_info": {
   "name": "kotlin",
   "version": "1.9.23",
   "mimetype": "text/x-kotlin",
   "file_extension": ".kt",
   "pygments_lexer": "kotlin",
   "codemirror_mode": "text/x-kotlin",
   "nbconvert_exporter": ""
  }
 },
 "nbformat": 4,
 "nbformat_minor": 0
}
