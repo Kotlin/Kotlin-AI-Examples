{
 "cells": [
  {
   "metadata": {},
   "cell_type": "markdown",
   "source": [
    "# Tools\n",
    "\n",
    "Tool calling is the ability of a model to determine when to call an external function and structure data for this call.\n",
    "Essentially, it creates a bridge between the text capabilities of LLMs and external tools or APIs.\n",
    "\n",
    "**How it works**:\n",
    "1. The model identifies when a user request requires using a tool\n",
    "2. The LLM transforms the necessary parameters into JSON or another structured format\n",
    "3. The external system executes the tool with the received parameters\n",
    "4. The tool execution results are returned to the model, which incorporates them into its response\n",
    "\n",
    "This approach expands LLM capabilities both in obtaining data and performing actions in specific systems.\n",
    "For example,\n",
    "you can write a function that retrieves current weather information,\n",
    "allowing the LLM to provide clothing recommendations.\n",
    "Or you could provide tools for interacting with SQL databases,\n",
    "enabling natural language queries that execute the necessary SQL commands behind the scenes.\n",
    "\n",
    "Let's add our dependencies,\n",
    "API key,\n",
    "and define a `ChatClient` as we did in previous notebooks."
   ]
  },
  {
   "metadata": {
    "ExecuteTime": {
     "end_time": "2025-03-28T15:45:24.687436Z",
     "start_time": "2025-03-28T15:45:24.250281Z"
    }
   },
   "cell_type": "code",
   "source": [
    "@file:DependsOn(\"org.springframework.ai:spring-ai-openai-spring-boot-starter:1.0.0-M6\")\n",
    "@file:DependsOn(\"com.fasterxml.jackson.module:jackson-module-kotlin:2.18.2\")"
   ],
   "outputs": [],
   "execution_count": 1
  },
  {
   "metadata": {
    "ExecuteTime": {
     "end_time": "2025-03-28T15:45:25.997741Z",
     "start_time": "2025-03-28T15:45:25.488429Z"
    }
   },
   "cell_type": "code",
   "source": [
    "import org.springframework.ai.chat.client.ChatClient\n",
    "import org.springframework.ai.openai.OpenAiChatModel\n",
    "import org.springframework.ai.openai.OpenAiChatOptions\n",
    "import org.springframework.ai.openai.api.OpenAiApi\n",
    "\n",
    "val apiKey = System.getenv(\"OPENAI_API_KEY\") ?: \"YOUR_OPENAI_API_KEY\"\n",
    "\n",
    "val openAiApi = OpenAiApi.builder().apiKey(apiKey).build()\n",
    "val openAiOptions = OpenAiChatOptions.builder()\n",
    "    .model(OpenAiApi.ChatModel.GPT_4_O_MINI)\n",
    "    .temperature(0.7)\n",
    "    .build()\n",
    "\n",
    "val chatClient = ChatClient.create(\n",
    "    OpenAiChatModel.builder()\n",
    "        .openAiApi(openAiApi)\n",
    "        .defaultOptions(openAiOptions)\n",
    "        .build()\n",
    ")"
   ],
   "outputs": [],
   "execution_count": 2
  },
  {
   "metadata": {},
   "cell_type": "markdown",
   "source": [
    "Spring-AI supports tool calling by providing various abstractions for this purpose.\n",
    "We'll look at two ways to write tools and pass them to an LLM.\n",
    "\n",
    "The principle of tool calling is well demonstrated by this diagram from the\n",
    "[Spring-AI documentation](https://docs.spring.io/spring-ai/reference/1.0/api/tools.html#_overview)\n",
    "\n",
    "<img src=\"images/framework-manager.jpg\" title=\"Spring AI Tool Calling\" height=\"1008\" width=\"1762\"/>\n",
    "\n",
    "Let's create a GardenTools class with three functions:\n",
    "- `identifyPlant` — identifies plants by color and key characteristics\n",
    "- `getPlantingDates` — provides optimal planting dates for various plants\n",
    "- `analyzeSoil` — provides soil data analysis"
   ]
  },
  {
   "metadata": {
    "ExecuteTime": {
     "end_time": "2025-03-28T15:46:10.439748Z",
     "start_time": "2025-03-28T15:46:10.138204Z"
    }
   },
   "cell_type": "code",
   "source": [
    "import org.springframework.ai.tool.annotation.Tool\n",
    "import org.springframework.ai.tool.annotation.ToolParam\n",
    "\n",
    "class GardenTools {\n",
    "\n",
    "    @Tool(description = \"Identifies plants based on visual characteristics like color, shape, and texture\")\n",
    "    fun identifyPlant(\n",
    "        @ToolParam(description = \"Main color of flowers or leaves\") color: String,\n",
    "        @ToolParam(description = \"Distinctive features like fuzzy leaves, thorns, etc\") features: String\n",
    "    ): String = when {\n",
    "        color == \"purple\" && features.contains(\"fuzzy\") ->\n",
    "            \"\"\"{\"name\": \"Lamb's Ear\", \"scientificName\": \"Stachys byzantina\", \"isInvasive\": false}\"\"\"\n",
    "\n",
    "        color == \"yellow\" && features.contains(\"tall\") ->\n",
    "            \"\"\"{\"name\": \"Sunflower\", \"scientificName\": \"Helianthus annuus\", \"isInvasive\": false}\"\"\"\n",
    "\n",
    "        else ->\n",
    "            \"\"\"{\"name\": \"Unknown plant\", \"recommendation\": \"Describe the color and features of the plant in more detail.\"}\"\"\"\n",
    "    }\n",
    "\n",
    "    @Tool(description = \"Provides optimal planting dates based on plant type and growing zone\")\n",
    "    fun getPlantingDates(\n",
    "        @ToolParam(description = \"Type of plant (e.g., tomatoes, peppers)\") plant: String,\n",
    "        @ToolParam(description = \"USDA hardiness zone (e.g., 7b, 8a)\") zone: String\n",
    "    ): String = when {\n",
    "        plant.contains(\"tomato\") && zone == \"7b\" ->\n",
    "            \"\"\"{\"startDate\": \"April 15\", \"endDate\": \"May 30\", \"notes\": \"Wait until soil temperature reaches 60°F\"}\"\"\"\n",
    "\n",
    "        plant.contains(\"pepper\") && zone == \"7b\" ->\n",
    "            \"\"\"{\"startDate\": \"May 1\", \"endDate\": \"June 15\", \"notes\": \"These plants prefer warm soil\"}\"\"\"\n",
    "\n",
    "        else ->\n",
    "            \"\"\"{\"error\": \"Planting information not available for this combination\"}\"\"\"\n",
    "    }\n",
    "\n",
    "    @Tool(description = \"Analyzes soil characteristics and provides recommendations\")\n",
    "    fun analyzeSoil(\n",
    "        @ToolParam(description = \"Type of soil (clay, sandy, loam)\") soilType: String,\n",
    "        @ToolParam(description = \"Type of plant being grown\") plantType: String\n",
    "    ): String = when (soilType) {\n",
    "        \"clay\" -> \"\"\"{\"pH\": 7.2, \"drainage\": \"poor\", \"amendments\": [\"compost\", \"perlite\"]}\"\"\"\n",
    "        \"sandy\" -> \"\"\"{\"pH\": 6.5, \"drainage\": \"excessive\", \"amendments\": [\"compost\", \"coconut coir\"]}\"\"\"\n",
    "        \"loam\" -> \"\"\"{\"pH\": 6.8, \"drainage\": \"good\", \"amendments\": [\"compost\"]}\"\"\"\n",
    "        else -> \"\"\"{\"error\": \"Unknown soil type\"}\"\"\"\n",
    "    }\n",
    "}"
   ],
   "outputs": [],
   "execution_count": 3
  },
  {
   "metadata": {},
   "cell_type": "markdown",
   "source": [
    "Now that our gardening tools are ready,\n",
    "let's pass them to the LLM and ask a relevant question:"
   ]
  },
  {
   "metadata": {
    "ExecuteTime": {
     "end_time": "2025-03-28T15:46:35.502819Z",
     "start_time": "2025-03-28T15:46:31.588408Z"
    }
   },
   "cell_type": "code",
   "source": [
    "chatClient\n",
    "    .prompt(\"I found this plant with purple flowers and fuzzy leaves in my garden. Also, when's the best time to plant tomatoes in zone 7b?\")\n",
    "    .tools(GardenTools())\n",
    "    .call()\n",
    "    .content()"
   ],
   "outputs": [
    {
     "data": {
      "text/plain": [
       "The plant you found with purple flowers and fuzzy leaves is likely **Lamb's Ear** (*Stachys byzantina*). It's known for its soft, fuzzy leaves and can be a lovely addition to gardens.\n",
       "\n",
       "As for planting tomatoes in USDA zone 7b, the best time to plant them is between **April 15 and May 30**. Make sure to wait until the soil temperature reaches 60°F before planting."
      ]
     },
     "execution_count": 4,
     "metadata": {},
     "output_type": "execute_result"
    }
   ],
   "execution_count": 4
  },
  {
   "metadata": {},
   "cell_type": "markdown",
   "source": [
    "Now let's look at working with function-based tools.\n",
    "\n",
    "We'll define functions manually.\n",
    "In a Spring Application, you could do this dynamically through `@Bean`.\n",
    "\n",
    "Let's create a Recipe Service:"
   ]
  },
  {
   "metadata": {
    "ExecuteTime": {
     "end_time": "2025-03-28T15:47:22.049343Z",
     "start_time": "2025-03-28T15:47:21.614665Z"
    }
   },
   "cell_type": "code",
   "source": [
    "import kotlin.time.Duration\n",
    "import kotlin.time.DurationUnit\n",
    "\n",
    "enum class MealType { BREAKFAST, LUNCH, DINNER }\n",
    "enum class Diet { VEGAN, VEGETARIAN, OMNIVORE, NONE }\n",
    "\n",
    "data class RecipeRequest(\n",
    "    val ingredients: List<String>,\n",
    "    val mealType: MealType = MealType.DINNER,\n",
    "    val timeAvailable: Int = 50.minutes.toInt(DurationUnit.MINUTES)\n",
    ")\n",
    "\n",
    "data class RecipeResponse(\n",
    "    val name: String,\n",
    "    val ingredients: List<String>,\n",
    "    val instructions: List<String>,\n",
    "    val cookTime: Duration\n",
    ")\n",
    "\n",
    "class RecipeService : (RecipeRequest) -> RecipeResponse {\n",
    "    override fun invoke(request: RecipeRequest): RecipeResponse {\n",
    "        return when {\n",
    "            request.ingredients.containsAll(listOf(\"pasta\", \"tomato\")) -> {\n",
    "                RecipeResponse(\n",
    "                    name = \"Quick Pasta Pomodoro\",\n",
    "                    ingredients = listOf(\"pasta\", \"tomatoes\", \"garlic\", \"olive oil\", \"basil\"),\n",
    "                    instructions = listOf(\n",
    "                        \"Boil pasta according to package instructions.\",\n",
    "                        \"Sauté garlic in olive oil, add diced tomatoes and cook 5 minutes.\",\n",
    "                        \"Mix with drained pasta and garnish with basil.\"\n",
    "                    ),\n",
    "                    cookTime = 20.minutes\n",
    "                )\n",
    "            }\n",
    "\n",
    "            request.ingredients.containsAll(listOf(\"rice\", \"egg\")) -> {\n",
    "                RecipeResponse(\n",
    "                    name = \"Simple Egg Fried Rice\",\n",
    "                    ingredients = listOf(\"rice\", \"eggs\", \"soy sauce\", \"green onions\"),\n",
    "                    instructions = listOf(\n",
    "                        \"Scramble eggs in a pan.\",\n",
    "                        \"Add cooked rice and stir-fry for 3 minutes.\",\n",
    "                        \"Season with soy sauce and top with chopped green onions.\"\n",
    "                    ),\n",
    "                    cookTime = 15.minutes\n",
    "                )\n",
    "            }\n",
    "\n",
    "            else -> {\n",
    "                RecipeResponse(\n",
    "                    name = \"Pantry Surprise Salad\",\n",
    "                    ingredients = request.ingredients + listOf(\"olive oil\", \"salt\", \"pepper\"),\n",
    "                    instructions = listOf(\n",
    "                        \"Combine all available ingredients in a bowl.\",\n",
    "                        \"Dress with olive oil, salt, and pepper.\"\n",
    "                    ),\n",
    "                    cookTime = 10.minutes\n",
    "                )\n",
    "            }\n",
    "        }\n",
    "    }\n",
    "}"
   ],
   "outputs": [],
   "execution_count": 5
  },
  {
   "metadata": {},
   "cell_type": "markdown",
   "source": "To let the LLM know about our service, we'll create a `FunctionToolCallback`:"
  },
  {
   "metadata": {
    "ExecuteTime": {
     "end_time": "2025-03-28T15:47:24.021340Z",
     "start_time": "2025-03-28T15:47:23.894095Z"
    }
   },
   "cell_type": "code",
   "source": [
    "import org.springframework.ai.tool.function.FunctionToolCallback\n",
    "\n",
    "val recipeToolCallback = FunctionToolCallback\n",
    "    .builder(\"recipeRecommender\", RecipeService())\n",
    "    .description(\"Get recipe ideas based on ingredients and time available\")\n",
    "    .inputType(RecipeRequest::class.java)\n",
    "    .build()"
   ],
   "outputs": [],
   "execution_count": 6
  },
  {
   "metadata": {},
   "cell_type": "markdown",
   "source": "Now we just need to pass this `ToolCallback` to the LLM and ask what we can make for dinner:"
  },
  {
   "metadata": {
    "ExecuteTime": {
     "end_time": "2025-03-28T15:47:43.670356Z",
     "start_time": "2025-03-28T15:47:40.672476Z"
    }
   },
   "cell_type": "code",
   "source": [
    "chatClient.prompt(\"I have pasta and tomatoes. What can I make for dinner?\")\n",
    "    .tools(recipeToolCallback)\n",
    "    .call()\n",
    "    .content()"
   ],
   "outputs": [
    {
     "data": {
      "text/plain": [
       "You can make a **Pantry Surprise Salad** for dinner with your pasta and tomatoes. Here's how to prepare it:\n",
       "\n",
       "### Ingredients:\n",
       "- Pasta\n",
       "- Tomatoes\n",
       "- Olive oil\n",
       "- Salt\n",
       "- Pepper\n",
       "\n",
       "### Instructions:\n",
       "1. Combine all the ingredients in a bowl.\n",
       "2. Dress with olive oil, salt, and pepper.\n",
       "\n",
       "Enjoy your meal!"
      ]
     },
     "execution_count": 7,
     "metadata": {},
     "output_type": "execute_result"
    }
   ],
   "execution_count": 7
  }
 ],
 "metadata": {
  "kernelspec": {
   "display_name": "Kotlin",
   "language": "kotlin",
   "name": "kotlin"
  },
  "language_info": {
   "name": "kotlin",
   "version": "1.9.23",
   "mimetype": "text/x-kotlin",
   "file_extension": ".kt",
   "pygments_lexer": "kotlin",
   "codemirror_mode": "text/x-kotlin",
   "nbconvert_exporter": ""
  }
 },
 "nbformat": 4,
 "nbformat_minor": 0
}
