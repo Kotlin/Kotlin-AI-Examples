{
 "cells": [
  {
   "metadata": {},
   "cell_type": "markdown",
   "source": [
    "# Structured Outputs\n",
    "\n",
    "Structured outputs are a capability that allows language models to format responses in specific, well-defined structures rather than just generating free-form text.\n",
    "This enables LLMs to deliver answers in formats like **JSON**, **XML**, and others.\n",
    "\n",
    "**How It Works**:\n",
    "1. Define a schema that describes the exact format you want\n",
    "2. The LLM generates content that strictly adheres to this predefined structure\n",
    "3. You get consistently formatted responses that are easier to parse and use in applications\n",
    "\n",
    "There are two ways to ask an LLM to format a response in a specific schema:\n",
    "1. Describe the desired result in your prompt\n",
    "2. Use structured output capabilities and pass a response schema\n",
    "\n",
    "Let's start by adding our dependencies, apiKey, and `ChatClient`"
   ]
  },
  {
   "metadata": {
    "ExecuteTime": {
     "end_time": "2025-05-11T18:29:15.544329Z",
     "start_time": "2025-05-11T18:29:14.296612Z"
    }
   },
   "cell_type": "code",
   "source": [
    "%useLatestDescriptors\n",
    "%use spring-ai-openai\n",
    "USE { dependencies { implementation(\"com.fasterxml.jackson.module:jackson-module-kotlin:2.18.2\") } }"
   ],
   "outputs": [],
   "execution_count": 1
  },
  {
   "metadata": {
    "ExecuteTime": {
     "end_time": "2025-05-11T18:29:15.841Z",
     "start_time": "2025-05-11T18:29:15.548584Z"
    }
   },
   "cell_type": "code",
   "source": [
    "val apiKey = System.getenv(\"OPENAI_API_KEY\") ?: \"YOUR_OPENAI_API_KEY\"\n",
    "\n",
    "val openAiApi = OpenAiApi.builder().apiKey(apiKey).build()\n",
    "val openAiOptions = OpenAiChatOptions.builder()\n",
    "    .model(OpenAiApi.ChatModel.GPT_4_O_MINI)\n",
    "    .temperature(0.7)\n",
    "    .build()\n",
    "\n",
    "val chatClient = ChatClient.create(\n",
    "    OpenAiChatModel.builder()\n",
    "        .openAiApi(openAiApi)\n",
    "        .defaultOptions(openAiOptions)\n",
    "        .build()\n",
    ")"
   ],
   "outputs": [],
   "execution_count": 2
  },
  {
   "metadata": {},
   "cell_type": "markdown",
   "source": "First, let's try describing our desired response format in the prompt and see what happens:"
  },
  {
   "metadata": {
    "ExecuteTime": {
     "end_time": "2025-05-11T18:29:16.842779Z",
     "start_time": "2025-05-11T18:29:15.844680Z"
    }
   },
   "cell_type": "code",
   "source": [
    "val response = chatClient\n",
    "    .prompt()\n",
    "    .system(\"The response must be a valid JSON object.\")\n",
    "    .user(\n",
    "        \"\"\"\n",
    "        What is the firstName and lastName of the person in this sentence?\n",
    "\n",
    "        \"Aurora Skyfield announced her candidacy for the local city council yesterday.\"\n",
    "        \"\"\"\n",
    "    )\n",
    "    .call()\n",
    "    .content()\n",
    "\n",
    "response"
   ],
   "outputs": [
    {
     "data": {
      "text/plain": [
       "{\n",
       "  \"firstName\": \"Aurora\",\n",
       "  \"lastName\": \"Skyfield\"\n",
       "}"
      ]
     },
     "execution_count": 3,
     "metadata": {},
     "output_type": "execute_result"
    }
   ],
   "execution_count": 3
  },
  {
   "metadata": {},
   "cell_type": "markdown",
   "source": "As we can see, the result is JSON, so we can convert it to a Kotlin class:"
  },
  {
   "metadata": {
    "ExecuteTime": {
     "end_time": "2025-05-11T18:29:17.109261Z",
     "start_time": "2025-05-11T18:29:16.847749Z"
    }
   },
   "cell_type": "code",
   "source": [
    "import kotlinx.serialization.Serializable\n",
    "import kotlinx.serialization.json.Json\n",
    "\n",
    "@Serializable\n",
    "data class Person(val firstName: String, val lastName: String)\n",
    "\n",
    "Json.decodeFromString<Person>(response)"
   ],
   "outputs": [
    {
     "data": {
      "text/plain": [
       "Person(firstName=Aurora, lastName=Skyfield)"
      ]
     },
     "execution_count": 4,
     "metadata": {},
     "output_type": "execute_result"
    }
   ],
   "execution_count": 4
  },
  {
   "metadata": {},
   "cell_type": "markdown",
   "source": [
    "However, this approach for getting data isn't reliable,\n",
    "as the prompt doesn't guarantee that the result will be returned exactly in this format.\n",
    "\n",
    "So let's use a method that will definitely return a structured response —\n",
    "and directly as a Kotlin class.\n",
    "\n",
    "First, let's define the class we need:"
   ]
  },
  {
   "metadata": {
    "ExecuteTime": {
     "end_time": "2025-05-11T18:29:17.156954Z",
     "start_time": "2025-05-11T18:29:17.112941Z"
    }
   },
   "cell_type": "code",
   "source": [
    "data class MobileDevice(\n",
    "    val name: String,\n",
    "    val price: Double,\n",
    "    val category: String,\n",
    "    val features: List<String> = emptyList()\n",
    ")"
   ],
   "outputs": [],
   "execution_count": 5
  },
  {
   "metadata": {},
   "cell_type": "markdown",
   "source": "Now we can simply pass it as the expected result:"
  },
  {
   "metadata": {
    "ExecuteTime": {
     "end_time": "2025-05-11T18:29:19.217213Z",
     "start_time": "2025-05-11T18:29:17.169662Z"
    }
   },
   "cell_type": "code",
   "source": [
    "import org.springframework.ai.chat.client.entity\n",
    "\n",
    "chatClient\n",
    "    .prompt(\"Tell me about the latest smartphone\")\n",
    "    .call()\n",
    "    .entity<MobileDevice>()"
   ],
   "outputs": [
    {
     "data": {
      "text/plain": [
       "MobileDevice(name=XYZ Pro Max 12, price=1099.99, category=smartphone, features=[5G connectivity, 108 MP camera, 120Hz refresh rate display, Fast charging, Water and dust resistance])"
      ]
     },
     "execution_count": 6,
     "metadata": {},
     "output_type": "execute_result"
    }
   ],
   "execution_count": 6
  }
 ],
 "metadata": {
  "kernelspec": {
   "display_name": "Kotlin",
   "language": "kotlin",
   "name": "kotlin"
  },
  "language_info": {
   "name": "kotlin",
   "version": "1.9.23",
   "mimetype": "text/x-kotlin",
   "file_extension": ".kt",
   "pygments_lexer": "kotlin",
   "codemirror_mode": "text/x-kotlin",
   "nbconvert_exporter": ""
  }
 },
 "nbformat": 4,
 "nbformat_minor": 0
}
