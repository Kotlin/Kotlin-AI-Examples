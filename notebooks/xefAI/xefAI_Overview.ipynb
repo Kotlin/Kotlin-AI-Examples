{
 "cells": [
  {
   "metadata": {},
   "cell_type": "markdown",
   "source": "# xef.ai API Overview"
  },
  {
   "metadata": {
    "ExecuteTime": {
     "end_time": "2025-02-11T19:06:43.950431Z",
     "start_time": "2025-02-11T19:06:43.402722Z"
    }
   },
   "cell_type": "code",
   "source": [
    "@file:DependsOn(\"com.xebia:xef-core:0.0.5-alpha.119\")\n",
    "@file:DependsOn(\"com.xebia:xef-reasoning:0.0.5-alpha.119\")\n",
    "@file:DependsOn(\"com.xebia:xef-openai-client:0.0.5-alpha.119\")\n",
    "%use serialization"
   ],
   "outputs": [],
   "execution_count": 1
  },
  {
   "metadata": {
    "ExecuteTime": {
     "end_time": "2025-02-11T19:06:44.762523Z",
     "start_time": "2025-02-11T19:06:44.600046Z"
    }
   },
   "cell_type": "code",
   "source": [
    "import com.xebia.functional.openai.generated.model.CreateChatCompletionRequestModel\n",
    "import com.xebia.functional.xef.AIConfig\n",
    "import com.xebia.functional.xef.Config\n",
    "import kotlinx.coroutines.runBlocking\n",
    "\n",
    "val apiKey = System.getenv(\"OPENAI_API_KEY\") ?: \"YOUR_OPENAI_API_KEY\"\n",
    "\n",
    "val config = AIConfig(model = CreateChatCompletionRequestModel.gpt_4o_mini, config = Config(token = apiKey))"
   ],
   "outputs": [],
   "execution_count": 2
  },
  {
   "metadata": {},
   "cell_type": "markdown",
   "source": "## Chat API"
  },
  {
   "metadata": {
    "ExecuteTime": {
     "end_time": "2025-02-11T19:06:51.269684Z",
     "start_time": "2025-02-11T19:06:45.653301Z"
    }
   },
   "cell_type": "code",
   "source": [
    "import com.xebia.functional.xef.AI\n",
    "\n",
    "runBlocking {\n",
    "    AI<String>(\"How do I create in Kotlin a plus function for a Point data class that adds two Points together in the form point1 + point2?\", config = config)\n",
    "}"
   ],
   "outputs": [
    {
     "data": {
      "text/plain": [
       "To create a `plus` function for a `Point` data class in Kotlin that allows you to add two `Point` instances together using the `+` operator, you can define an operator function. Here's a simple example:\n",
       "\n",
       "```kotlin\n",
       "// Define the Point data class\n",
       "data class Point(val x: Int, val y: Int) {\n",
       "    // Define the operator function for addition\n",
       "    operator fun plus(other: Point): Point {\n",
       "        return Point(this.x + other.x, this.y + other.y)\n",
       "    }\n",
       "}\n",
       "\n",
       "fun main() {\n",
       "    val point1 = Point(1, 2)\n",
       "    val point2 = Point(3, 4)\n",
       "    val result = point1 + point2  // Using the plus operator\n",
       "    println(result)  // Output: Point(x=4, y=6)\n",
       "}\n",
       "```\n",
       "\n",
       "In this example:\n",
       "- The `Point` data class has two properties: `x` and `y`.\n",
       "- The `plus` operator function takes another `Point` as a parameter and returns a new `Point` that is the sum of the two points.\n",
       "- In the `main` function, you can see how to use the `+` operator to add two `Point` instances."
      ]
     },
     "execution_count": 3,
     "metadata": {},
     "output_type": "execute_result"
    }
   ],
   "execution_count": 3
  },
  {
   "metadata": {},
   "cell_type": "markdown",
   "source": "## Prompts"
  },
  {
   "metadata": {
    "ExecuteTime": {
     "end_time": "2025-02-11T19:07:05.200529Z",
     "start_time": "2025-02-11T19:06:51.276290Z"
    }
   },
   "cell_type": "code",
   "source": [
    "import com.xebia.functional.xef.prompt.Prompt\n",
    "import com.xebia.functional.xef.prompt.PromptBuilder.Companion.system\n",
    "import com.xebia.functional.xef.prompt.PromptBuilder.Companion.user\n",
    "import com.xebia.functional.xef.prompt.configuration.PromptConfiguration\n",
    "\n",
    "runBlocking {\n",
    "    AI<String>(Prompt(CreateChatCompletionRequestModel.gpt_4o_mini) {\n",
    "        +system(\n",
    "            \"\"\"\n",
    "                You are an expert Kotlin developer. Your task is to write idiomatic Kotlin code. Follow these guidelines:\n",
    "                    - Use clean code principles.\n",
    "                    - Write concise and readable APIs.\n",
    "                    - Stick to idiomatic Kotlin conventions.\n",
    "                    - Leverage higher-order functions, extensions, and null-safety features.\n",
    "                    - Avoid unnecessary complexity; simplify the code when possible.\n",
    "                    - Ensure the code is optimized for performance.\n",
    "                    - Structure the code clearly and use best practices.\n",
    "                    - Provide concise and to-the-point responses.\n",
    "            \"\"\".trimIndent()\n",
    "        )\n",
    "        +user(\n",
    "            \"\"\"\n",
    "                What foldRight does? What will be the intermidieate and the end result of the foldRight function call?\n",
    "                ```kotlin\n",
    "                \"baba\".foldRight(\"\") { x, acc -> \"${'$'}x${'$'}{acc}${'$'}{acc}\" })\n",
    "                ```\n",
    "            \"\"\".trimIndent()\n",
    "        )\n",
    "    }, config = config)\n",
    "\n",
    "}"
   ],
   "outputs": [
    {
     "data": {
      "text/plain": [
       "The `foldRight` function in Kotlin is a higher-order function that processes a collection (or in this case, a string) from the right to the left, applying a specified operation. It takes two parameters: an initial accumulator value and a lambda function that defines how to combine each element with the accumulator.\n",
       "\n",
       "In the given example:\n",
       "```kotlin\n",
       "\"baba\".foldRight(\"\") { x, acc -> \"$x${acc}${acc}\" }\n",
       "```\n",
       "- The initial accumulator is an empty string `\"\"`.\n",
       "- The lambda function takes each character `x` from the string and the current accumulator `acc`, and combines them into a new string by prepending `x` and appending `acc` twice.\n",
       "\n",
       "Let's break it down step by step:\n",
       "\n",
       "1. Start with the last character of the string, which is `a`, and the initial accumulator `\"\"`:\n",
       "   - Result: `\"a\" + \"\" + \"\" = \"a\"`\n",
       "\n",
       "2. Move to the second last character, which is `b`, and the accumulator is now `\"a\"`:\n",
       "   - Result: `\"b\" + \"a\" + \"a\" = \"baaa\"`\n",
       "\n",
       "3. Move to the third character, which is `a`, and the accumulator is now `\"baaa\"`:\n",
       "   - Result: `\"a\" + \"baaa\" + \"baaa\" = \"abaabaabaa\"`\n",
       "\n",
       "4. Finally, move to the first character, which is `b`, and the accumulator is now `\"abaabaabaa\"`:\n",
       "   - Result: `\"b\" + \"abaabaabaa\" + \"abaabaabaa\" = \"babaabaabaaabaabaabaa\"`\n",
       "\n",
       "**Intermediate Results:**\n",
       "- After processing `a`: `\"a\"`\n",
       "- After processing `b`: `\"baaa\"`\n",
       "- After processing `a`: `\"abaabaabaa\"`\n",
       "- After processing `b`: `\"babaabaabaaabaabaabaa\"`\n",
       "\n",
       "**Final Result:** `\"babaabaabaaabaabaabaa\"`"
      ]
     },
     "execution_count": 4,
     "metadata": {},
     "output_type": "execute_result"
    }
   ],
   "execution_count": 4
  },
  {
   "metadata": {},
   "cell_type": "markdown",
   "source": "## Json_Mode"
  },
  {
   "metadata": {
    "ExecuteTime": {
     "end_time": "2025-02-11T19:07:30.000417Z",
     "start_time": "2025-02-11T19:07:29.790053Z"
    }
   },
   "cell_type": "code",
   "source": [
    "/**\n",
    " * Represents a person with basic personal attributes.\n",
    " *\n",
    " * @property name The name of the person.\n",
    " * @property age The age of the person in years.\n",
    " * @property height The height of the person in meters.\n",
    " * @property married Indicates if the person is married.\n",
    " */\n",
    "@Serializable\n",
    "data class Person(val name: String, val age: Int, val height: Double, val married: Boolean)"
   ],
   "outputs": [],
   "execution_count": 5
  },
  {
   "metadata": {
    "ExecuteTime": {
     "end_time": "2025-02-11T19:07:38.755919Z",
     "start_time": "2025-02-11T19:07:37.636132Z"
    }
   },
   "cell_type": "code",
   "source": [
    "runBlocking {\n",
    "    AI<Person>(Prompt(CreateChatCompletionRequestModel.gpt_4o_mini) {\n",
    "        +user(\n",
    "            \"\"\"\n",
    "        John is 42 years old and lives an independent life.\n",
    "        He stands 1.75 meters tall and carries himself with confidence.\n",
    "        Currently unmarried, he enjoys the freedom to focus on his personal goals and interests.\n",
    "        \"\"\"\n",
    "        )\n",
    "    }, config = config)\n",
    "}"
   ],
   "outputs": [
    {
     "data": {
      "text/plain": [
       "Person(name=John, age=42, height=1.75, married=false)"
      ]
     },
     "execution_count": 6,
     "metadata": {},
     "output_type": "execute_result"
    }
   ],
   "execution_count": 6
  },
  {
   "metadata": {
    "ExecuteTime": {
     "end_time": "2025-02-11T19:08:10.686976Z",
     "start_time": "2025-02-11T19:08:08.376656Z"
    }
   },
   "cell_type": "code",
   "source": [
    "@Serializable\n",
    "data class Step(val explanation: String, val output: String)\n",
    "@Serializable\n",
    "data class MathResponse(val steps: List<Step>, val finalAnswer: String)\n",
    "\n",
    "\n",
    "runBlocking {\n",
    "    val response = AI<MathResponse>(Prompt(CreateChatCompletionRequestModel.gpt_4o_mini) {\n",
    "        +system(\"You are a helpful math tutor.\")\n",
    "        +user(\"solve 8x + 31 = 2\")\n",
    "    }, config = config)\n",
    "\n",
    "    println(response.steps.withIndex().joinToString(\"\\n\") { \"${it.index + 1}. ${it.value.explanation}\" })\n",
    "    println(\"Answer:\")\n",
    "    println(response.finalAnswer)\n",
    "}"
   ],
   "outputs": [
    {
     "name": "stdout",
     "output_type": "stream",
     "text": [
      "1. Subtract 31 from both sides to isolate the term with x.\n",
      "2. Calculate the right side: 2 - 31 = -29.\n",
      "3. Divide both sides by 8 to solve for x.\n",
      "4. Simplify the fraction if necessary.\n",
      "Answer:\n",
      "x = -3.625\n"
     ]
    }
   ],
   "execution_count": 8
  }
 ],
 "metadata": {
  "kernelspec": {
   "display_name": "Kotlin",
   "language": "kotlin",
   "name": "kotlin"
  },
  "language_info": {
   "name": "kotlin",
   "version": "1.9.23",
   "mimetype": "text/x-kotlin",
   "file_extension": ".kt",
   "pygments_lexer": "kotlin",
   "codemirror_mode": "text/x-kotlin",
   "nbconvert_exporter": ""
  },
  "ktnbPluginMetadata": {
   "projectLibraries": false
  }
 },
 "nbformat": 4,
 "nbformat_minor": 0
}
