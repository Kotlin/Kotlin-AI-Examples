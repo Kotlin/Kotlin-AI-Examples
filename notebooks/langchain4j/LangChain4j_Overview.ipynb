{
 "cells": [
  {
   "metadata": {},
   "cell_type": "markdown",
   "source": "# LangChain4j API Overview"
  },
  {
   "metadata": {
    "ExecuteTime": {
     "end_time": "2025-02-11T10:55:50.790762Z",
     "start_time": "2025-02-11T10:55:50.488314Z"
    }
   },
   "cell_type": "code",
   "source": [
    "@file:DependsOn(\"dev.langchain4j:langchain4j:1.0.0-beta1\")\n",
    "@file:DependsOn(\"dev.langchain4j:langchain4j-open-ai:1.0.0-beta1\")"
   ],
   "outputs": [],
   "execution_count": 1
  },
  {
   "metadata": {
    "ExecuteTime": {
     "end_time": "2025-02-11T10:55:51.203395Z",
     "start_time": "2025-02-11T10:55:51.116009Z"
    }
   },
   "cell_type": "code",
   "source": "val apiKey = System.getenv(\"OPENAI_API_KEY\") ?: \"YOUR_OPENAI_API_KEY\"",
   "outputs": [],
   "execution_count": 2
  },
  {
   "metadata": {
    "ExecuteTime": {
     "end_time": "2025-02-11T10:55:51.984535Z",
     "start_time": "2025-02-11T10:55:51.492224Z"
    }
   },
   "cell_type": "code",
   "source": [
    "import dev.langchain4j.model.openai.OpenAiChatModel\n",
    "import dev.langchain4j.model.openai.OpenAiChatModelName\n",
    "\n",
    "val model = OpenAiChatModel.builder()\n",
    "    .apiKey(apiKey)\n",
    "    .modelName(OpenAiChatModelName.GPT_4_O_MINI)\n",
    "    .temperature(0.3)\n",
    "    .build()"
   ],
   "outputs": [],
   "execution_count": 3
  },
  {
   "metadata": {},
   "cell_type": "markdown",
   "source": "## Chat API"
  },
  {
   "metadata": {
    "ExecuteTime": {
     "end_time": "2025-02-11T10:55:58.000385Z",
     "start_time": "2025-02-11T10:55:52.518314Z"
    }
   },
   "cell_type": "code",
   "source": "model.chat(\"How do I create in Kotlin a plus function for a Point data class that adds two Points together in the form point1 + point2?\")",
   "outputs": [
    {
     "data": {
      "text/plain": [
       "In Kotlin, you can overload the `plus` operator for a data class by defining a function named `plus` within the class. For a `Point` data class, you can implement the `plus` function to add the coordinates of two points together. Here's how you can do it:\n",
       "\n",
       "```kotlin\n",
       "data class Point(val x: Int, val y: Int) {\n",
       "    operator fun plus(other: Point): Point {\n",
       "        return Point(this.x + other.x, this.y + other.y)\n",
       "    }\n",
       "}\n",
       "\n",
       "fun main() {\n",
       "    val point1 = Point(1, 2)\n",
       "    val point2 = Point(3, 4)\n",
       "    \n",
       "    val result = point1 + point2\n",
       "    println(result) // Output: Point(x=4, y=6)\n",
       "}\n",
       "```\n",
       "\n",
       "### Explanation:\n",
       "1. **Data Class Definition**: The `Point` class is defined with two properties, `x` and `y`.\n",
       "2. **Operator Overloading**: The `operator fun plus(other: Point): Point` function is defined to overload the `+` operator. It takes another `Point` as a parameter and returns a new `Point` whose coordinates are the sum of the coordinates of the two points.\n",
       "3. **Usage**: In the `main` function, two `Point` instances are created, and the overloaded `+` operator is used to add them together.\n",
       "\n",
       "When you run this code, it will output `Point(x=4, y=6)`, which is the result of adding the two points together."
      ]
     },
     "execution_count": 4,
     "metadata": {},
     "output_type": "execute_result"
    }
   ],
   "execution_count": 4
  },
  {
   "metadata": {},
   "cell_type": "markdown",
   "source": "## Prompts"
  },
  {
   "metadata": {},
   "cell_type": "markdown",
   "source": "### 1 API"
  },
  {
   "metadata": {
    "ExecuteTime": {
     "end_time": "2025-02-11T10:56:06.182776Z",
     "start_time": "2025-02-11T10:55:58.009661Z"
    }
   },
   "cell_type": "code",
   "source": [
    "import dev.langchain4j.data.message.SystemMessage.systemMessage\n",
    "import dev.langchain4j.data.message.UserMessage.userMessage\n",
    "import dev.langchain4j.model.chat.request.ChatRequest\n",
    "import dev.langchain4j.model.chat.request.chatRequest\n",
    "import me.kpavlov.langchain4j.kotlin.model.chat.chatAsync\n",
    "\n",
    "val response = model.chat(\n",
    "    chatRequest {\n",
    "        messages += systemMessage(\n",
    "            \"\"\"\n",
    "            You are an expert Kotlin developer. Your task is to write idiomatic Kotlin code. Follow these guidelines:\n",
    "            - Use clean code principles.\n",
    "            - Write concise and readable APIs.\n",
    "            - Stick to idiomatic Kotlin conventions.\n",
    "            - Leverage higher-order functions, extensions, and null-safety features.\n",
    "            - Avoid unnecessary complexity; simplify the code when possible.\n",
    "            - Ensure the code is optimized for performance.\n",
    "            - Structure the code clearly and use best practices.\n",
    "            - Provide concise and to-the-point responses.\n",
    "        \"\"\".trimIndent()\n",
    "        )\n",
    "        messages += userMessage(\n",
    "            \"\"\"\n",
    "            What foldRight does? What will be the intermidieate and the end result of the foldRight function call?\n",
    "            ```kotlin\n",
    "                \"baba\".foldRight(\"\") { x, acc -> \"${'$'}x${'$'}{acc}${'$'}{acc}\" })\n",
    "            ```\n",
    "            \"\"\".trimIndent()\n",
    "        )\n",
    "    }\n",
    ").aiMessage()\n",
    "response"
   ],
   "outputs": [
    {
     "data": {
      "text/plain": [
       "AiMessage { text = \"The `foldRight` function in Kotlin is a higher-order function that processes elements of a collection (or a string, in this case) from right to left. It takes an initial accumulator value and a lambda function that combines each element with the accumulator.\n",
       "\n",
       "In your example, you are using `foldRight` on the string `\"baba\"` with an initial accumulator of an empty string `\"\"`. The lambda function takes two parameters: `x`, which represents the current character being processed, and `acc`, which is the accumulated result from the right side.\n",
       "\n",
       "Here's a breakdown of how `foldRight` processes the string `\"baba\"`:\n",
       "\n",
       "1. Start with the last character: `a`\n",
       "   - `acc` is `\"\"`\n",
       "   - Result: `\"$x${acc}${acc}\"` → `\"a\"`\n",
       "   \n",
       "2. Next character: `b`\n",
       "   - `acc` is `\"a\"`\n",
       "   - Result: `\"$x${acc}${acc}\"` → `\"bab\"`\n",
       "\n",
       "3. Next character: `a`\n",
       "   - `acc` is `\"bab\"`\n",
       "   - Result: `\"$x${acc}${acc}\"` → `\"ababab\"`\n",
       "\n",
       "4. Last character: `b`\n",
       "   - `acc` is `\"ababab\"`\n",
       "   - Result: `\"$x${acc}${acc}\"` → `\"babababab\"`\n",
       "\n",
       "### Intermediate Results:\n",
       "- After processing `a`: `\"a\"`\n",
       "- After processing `b`: `\"bab\"`\n",
       "- After processing `a`: `\"ababab\"`\n",
       "- After processing `b`: `\"babababab\"`\n",
       "\n",
       "### Final Result:\n",
       "The final result of the `foldRight` function call is `\"babababab\"`.\n",
       "\n",
       "Here's the complete code for clarity:\n",
       "\n",
       "```kotlin\n",
       "val result = \"baba\".foldRight(\"\") { x, acc -> \"$x${acc}${acc}\" }\n",
       "println(result) // Output: babababab\n",
       "```\" toolExecutionRequests = null }"
      ]
     },
     "execution_count": 5,
     "metadata": {},
     "output_type": "execute_result"
    }
   ],
   "execution_count": 5
  },
  {
   "metadata": {},
   "cell_type": "markdown",
   "source": "### 2 API"
  },
  {
   "metadata": {
    "ExecuteTime": {
     "end_time": "2025-02-11T10:56:06.231207Z",
     "start_time": "2025-02-11T10:56:06.190942Z"
    }
   },
   "cell_type": "code",
   "source": [
    "interface AssistantFirst {\n",
    "    fun chat(userMessage: String): String\n",
    "}"
   ],
   "outputs": [],
   "execution_count": 6
  },
  {
   "metadata": {
    "ExecuteTime": {
     "end_time": "2025-02-11T10:56:06.306539Z",
     "start_time": "2025-02-11T10:56:06.234984Z"
    }
   },
   "cell_type": "code",
   "source": [
    "import dev.langchain4j.service.AiServices\n",
    "import me.kpavlov.langchain4j.kotlin.service.systemMessageProvider\n",
    "\n",
    "val aiService = AiServices\n",
    "    .builder(AssistantFirst::class.java)\n",
    "    .chatLanguageModel(model)\n",
    "    .systemMessageProvider {\n",
    "        \"\"\"\n",
    "        You are an expert Kotlin developer. Your task is to write idiomatic Kotlin code. Follow these guidelines:\n",
    "            - Use clean code principles.\n",
    "            - Write concise and readable APIs.\n",
    "            - Stick to idiomatic Kotlin conventions.\n",
    "            - Leverage higher-order functions, extensions, and null-safety features.\n",
    "            - Avoid unnecessary complexity; simplify the code when possible.\n",
    "            - Ensure the code is optimized for performance.\n",
    "            - Structure the code clearly and use best practices.\n",
    "            - Provide concise and to-the-point responses.\n",
    "        \"\"\".trimIndent()\n",
    "    }\n",
    "    .build()"
   ],
   "outputs": [],
   "execution_count": 7
  },
  {
   "metadata": {
    "ExecuteTime": {
     "end_time": "2025-02-11T10:56:14.135002Z",
     "start_time": "2025-02-11T10:56:06.312095Z"
    }
   },
   "cell_type": "code",
   "source": [
    "aiService.chat(\"\"\"\n",
    "Write a main function that creates a flow of five elements 1, 2, 3, 4, and 5, and prints each one of them. Use the collect function without any arguments to do so.\n",
    "Make sure to include all imports, but don’t use star imports.\n",
    "\"\"\".trimIndent())"
   ],
   "outputs": [
    {
     "data": {
      "text/plain": [
       "Here's a simple Kotlin program that creates a flow of five elements (1 to 5) and prints each element using the `collect` function. The code follows idiomatic Kotlin conventions and includes all necessary imports without using star imports.\n",
       "\n",
       "```kotlin\n",
       "import kotlinx.coroutines.flow.Flow\n",
       "import kotlinx.coroutines.flow.flow\n",
       "import kotlinx.coroutines.runBlocking\n",
       "import kotlinx.coroutines.flow.collect\n",
       "\n",
       "fun main() = runBlocking {\n",
       "    createFlow().collect { value ->\n",
       "        println(value)\n",
       "    }\n",
       "}\n",
       "\n",
       "fun createFlow(): Flow<Int> = flow {\n",
       "    for (i in 1..5) {\n",
       "        emit(i)\n",
       "    }\n",
       "}\n",
       "```\n",
       "\n",
       "### Explanation:\n",
       "- `runBlocking` is used to start a coroutine that blocks the current thread until its completion.\n",
       "- `createFlow` function generates a flow of integers from 1 to 5 using the `flow` builder.\n",
       "- The `collect` function is called to print each emitted value from the flow."
      ]
     },
     "execution_count": 8,
     "metadata": {},
     "output_type": "execute_result"
    }
   ],
   "execution_count": 8
  },
  {
   "metadata": {},
   "cell_type": "markdown",
   "source": "### 3 API"
  },
  {
   "metadata": {
    "ExecuteTime": {
     "end_time": "2025-02-11T10:56:14.172237Z",
     "start_time": "2025-02-11T10:56:14.142776Z"
    }
   },
   "cell_type": "code",
   "source": [
    "import dev.langchain4j.service.SystemMessage\n",
    "\n",
    "interface AssistantSecond {\n",
    "\n",
    "    @SystemMessage(\n",
    "        \"\"\"\n",
    "        You are an expert Kotlin developer. Your task is to write idiomatic Kotlin code. Follow these guidelines:\n",
    "            - Use clean code principles.\n",
    "            - Write concise and readable APIs.\n",
    "            - Stick to idiomatic Kotlin conventions.\n",
    "            - Leverage higher-order functions, extensions, and null-safety features.\n",
    "            - Avoid unnecessary complexity; simplify the code when possible.\n",
    "            - Ensure the code is optimized for performance.\n",
    "            - Structure the code clearly and use best practices.\n",
    "            - Provide concise and to-the-point responses.\n",
    "        \"\"\"\n",
    "    )\n",
    "    fun chat(userMessage: String): String\n",
    "}"
   ],
   "outputs": [],
   "execution_count": 9
  },
  {
   "metadata": {
    "ExecuteTime": {
     "end_time": "2025-02-11T10:56:14.209998Z",
     "start_time": "2025-02-11T10:56:14.176015Z"
    }
   },
   "cell_type": "code",
   "source": "val assistant = AiServices.create(AssistantSecond::class.java, model)",
   "outputs": [],
   "execution_count": 10
  },
  {
   "metadata": {
    "ExecuteTime": {
     "end_time": "2025-02-11T10:56:17.948945Z",
     "start_time": "2025-02-11T10:56:14.215746Z"
    }
   },
   "cell_type": "code",
   "source": [
    "assistant.chat(\"\"\"\n",
    "Write a main function that creates a flow of five elements 1, 2, 3, 4, and 5, and prints each one of them. Use the collect function without any arguments to do so.\n",
    "Make sure to include all imports, but don’t use star imports.\n",
    "\"\"\".trimIndent())"
   ],
   "outputs": [
    {
     "data": {
      "text/plain": [
       "Here's an idiomatic Kotlin code snippet that creates a flow of five elements and prints each one using the `collect` function:\n",
       "\n",
       "```kotlin\n",
       "import kotlinx.coroutines.flow.Flow\n",
       "import kotlinx.coroutines.flow.flow\n",
       "import kotlinx.coroutines.runBlocking\n",
       "import kotlinx.coroutines.flow.collect\n",
       "\n",
       "fun main() = runBlocking {\n",
       "    createFlow().collect { value ->\n",
       "        println(value)\n",
       "    }\n",
       "}\n",
       "\n",
       "fun createFlow(): Flow<Int> = flow {\n",
       "    for (i in 1..5) {\n",
       "        emit(i)\n",
       "    }\n",
       "}\n",
       "```\n",
       "\n",
       "### Explanation:\n",
       "- **Imports**: All necessary imports are included explicitly.\n",
       "- **Flow Creation**: The `createFlow` function generates a flow of integers from 1 to 5.\n",
       "- **Collecting Values**: The `collect` function is used to print each emitted value.\n",
       "- **Coroutine Context**: The `runBlocking` function is used to run the coroutine in a blocking way for demonstration purposes."
      ]
     },
     "execution_count": 11,
     "metadata": {},
     "output_type": "execute_result"
    }
   ],
   "execution_count": 11
  },
  {
   "metadata": {},
   "cell_type": "markdown",
   "source": "## Stream"
  },
  {
   "metadata": {},
   "cell_type": "markdown",
   "source": "### Async"
  },
  {
   "metadata": {
    "ExecuteTime": {
     "end_time": "2025-02-11T10:57:34.603014Z",
     "start_time": "2025-02-11T10:57:29.849522Z"
    }
   },
   "cell_type": "code",
   "source": [
    "import kotlinx.coroutines.runBlocking\n",
    "\n",
    "runBlocking {\n",
    "    model.chatAsync {\n",
    "        messages += systemMessage(\"You are an expert Kotlin developer.\")\n",
    "        messages += userMessage(\n",
    "            \"\"\"\n",
    "                Write a main function that creates a flow of five elements 1, 2, 3, 4, and 5, and prints each one of them. Use the collect function without any arguments to do so.\n",
    "                Make sure to include all imports, but don’t use star imports.\n",
    "            \"\"\".trimIndent()\n",
    "        )\n",
    "    }\n",
    "}"
   ],
   "outputs": [
    {
     "data": {
      "text/plain": [
       "ChatResponse { aiMessage = AiMessage { text = \"Certainly! Below is a complete Kotlin program that creates a flow of five elements (1, 2, 3, 4, and 5) and prints each element using the `collect` function. The necessary imports are included without using star imports.\n",
       "\n",
       "```kotlin\n",
       "import kotlinx.coroutines.flow.Flow\n",
       "import kotlinx.coroutines.flow.flow\n",
       "import kotlinx.coroutines.runBlocking\n",
       "import kotlinx.coroutines.flow.collect\n",
       "\n",
       "fun main() = runBlocking {\n",
       "    val numberFlow: Flow<Int> = flow {\n",
       "        for (i in 1..5) {\n",
       "            emit(i)\n",
       "        }\n",
       "    }\n",
       "\n",
       "    numberFlow.collect()\n",
       "}\n",
       "```\n",
       "\n",
       "In this code:\n",
       "\n",
       "- We import the necessary classes from the `kotlinx.coroutines.flow` package.\n",
       "- We define a `main` function that runs in a coroutine context using `runBlocking`.\n",
       "- We create a flow of integers from 1 to 5 using the `flow` builder and emit each integer.\n",
       "- Finally, we collect the flow, which will print each emitted value to the console. \n",
       "\n",
       "Make sure you have the appropriate dependencies for Kotlin Coroutines in your project to run this code.\" toolExecutionRequests = null }, metadata = OpenAiChatResponseMetadata{id='chatcmpl-AziFGIxGRpXUNAUtyTYOJyFZdFXaz', modelName='gpt-4o-mini-2024-07-18', tokenUsage=OpenAiTokenUsage{ inputTokenCount = 77, inputTokensDetails=InputTokensDetails[cachedTokens=0], outputTokenCount = 228, outputTokensDetails=OutputTokensDetails[reasoningTokens=0], totalTokenCount = 305}, finishReason=STOP, created=1739271450, serviceTier='default', systemFingerprint='fp_72ed7ab54c'} }"
      ]
     },
     "execution_count": 12,
     "metadata": {},
     "output_type": "execute_result"
    }
   ],
   "execution_count": 12
  },
  {
   "metadata": {},
   "cell_type": "markdown",
   "source": "### Flow"
  },
  {
   "metadata": {
    "ExecuteTime": {
     "end_time": "2025-02-11T10:57:39.721081Z",
     "start_time": "2025-02-11T10:57:34.623854Z"
    }
   },
   "cell_type": "code",
   "source": [
    "import dev.langchain4j.model.openai.OpenAiStreamingChatModel\n",
    "import kotlinx.coroutines.flow.Flow\n",
    "import me.kpavlov.langchain4j.kotlin.model.chat.StreamingChatLanguageModelReply\n",
    "import me.kpavlov.langchain4j.kotlin.model.chat.chatFlow\n",
    "\n",
    "val streamModel = OpenAiStreamingChatModel.builder()\n",
    "    .apiKey(apiKey)\n",
    "    .modelName(OpenAiChatModelName.GPT_4_O_MINI)\n",
    "    .temperature(0.3)\n",
    "    .build()\n",
    "\n",
    "val flowResponse = streamModel.chatFlow {\n",
    "    messages += systemMessage(\"You are an expert Kotlin developer.\")\n",
    "    messages += userMessage(\n",
    "        \"\"\"\n",
    "        Write a main function that creates a flow of five elements 1, 2, 3, 4, and 5, and prints each one of them. Use the collect function without any arguments to do so.\n",
    "        Make sure to include all imports, but don’t use star imports.\n",
    "        \"\"\".trimIndent()\n",
    "    )\n",
    "}\n",
    "\n",
    "runBlocking {\n",
    "    flowResponse.collect {\n",
    "        when(it) {\n",
    "            is StreamingChatLanguageModelReply.CompleteResponse -> print(it.response.aiMessage().text())\n",
    "            else -> {}\n",
    "        }\n",
    "    }\n",
    "}"
   ],
   "outputs": [
    {
     "name": "stdout",
     "output_type": "stream",
     "text": [
      "Certainly! Below is a Kotlin program that creates a flow of five elements (1, 2, 3, 4, and 5) and prints each element using the `collect` function without any arguments. The necessary imports are included without using star imports.\n",
      "\n",
      "```kotlin\n",
      "import kotlinx.coroutines.flow.Flow\n",
      "import kotlinx.coroutines.flow.flow\n",
      "import kotlinx.coroutines.runBlocking\n",
      "\n",
      "fun main() = runBlocking {\n",
      "    val numberFlow: Flow<Int> = flow {\n",
      "        for (i in 1..5) {\n",
      "            emit(i)\n",
      "        }\n",
      "    }\n",
      "\n",
      "    numberFlow.collect() { value ->\n",
      "        println(value)\n",
      "    }\n",
      "}\n",
      "```\n",
      "\n",
      "### Explanation:\n",
      "1. **Imports**: We import the necessary classes from the `kotlinx.coroutines.flow` package.\n",
      "2. **Flow Creation**: We create a flow using the `flow` builder, emitting integers from 1 to 5.\n",
      "3. **Collecting the Flow**: We use the `collect` function to print each emitted value. The `collect` function takes a lambda that receives each emitted value as an argument.\n",
      "4. **RunBlocking**: The `runBlocking` coroutine builder is used to run the flow collection in a blocking manner for the main function.\n",
      "\n",
      "You can run this code in a Kotlin environment that supports coroutines."
     ]
    }
   ],
   "execution_count": 13
  },
  {
   "metadata": {},
   "cell_type": "markdown",
   "source": "### AiService"
  },
  {
   "metadata": {
    "ExecuteTime": {
     "end_time": "2025-02-11T10:57:39.768300Z",
     "start_time": "2025-02-11T10:57:39.749992Z"
    }
   },
   "cell_type": "code",
   "source": [
    "// Currently under development\n",
    "//@file:DependsOn(\"dev.langchain4j:langchain4j-reactor:1.0.0-beta1\")\n",
    "//\n",
    "//import dev.langchain4j.service.TokenStream\n",
    "//\n",
    "//interface AssistantThird {\n",
    "//    fun chat(message: String): Flow<String>\n",
    "//}"
   ],
   "outputs": [],
   "execution_count": 14
  },
  {
   "metadata": {
    "ExecuteTime": {
     "end_time": "2025-02-11T10:57:39.786333Z",
     "start_time": "2025-02-11T10:57:39.771726Z"
    }
   },
   "cell_type": "code",
   "source": "//val assistant = AiServices.create(AssistantThird::class.java, streamModel)",
   "outputs": [],
   "execution_count": 15
  },
  {
   "metadata": {
    "ExecuteTime": {
     "end_time": "2025-02-11T10:57:39.809451Z",
     "start_time": "2025-02-11T10:57:39.789661Z"
    }
   },
   "cell_type": "code",
   "source": [
    "//val response = assistant.chat(\"\"\"\n",
    "//Write a main function that creates a flow of five elements 1, 2, 3, 4, and 5, and prints each one of them. Use the collect function without any arguments to do so.\n",
    "//Make sure to include all imports, but don’t use star imports.\n",
    "//\"\"\".trimIndent())"
   ],
   "outputs": [],
   "execution_count": 16
  },
  {
   "metadata": {},
   "cell_type": "markdown",
   "source": "## Structured Outputs"
  },
  {
   "metadata": {},
   "cell_type": "markdown",
   "source": "### JSON_MODE"
  },
  {
   "metadata": {
    "ExecuteTime": {
     "end_time": "2025-02-11T10:57:39.956043Z",
     "start_time": "2025-02-11T10:57:39.812948Z"
    }
   },
   "cell_type": "code",
   "source": [
    "/**\n",
    " * Represents a person with basic personal attributes.\n",
    " *\n",
    " * @property name The name of the person.\n",
    " * @property age The age of the person in years.\n",
    " * @property height The height of the person in meters.\n",
    " * @property married Indicates if the person is married.\n",
    " */\n",
    "data class Person(val name: String, val age: Int, val height: Double, val married: Boolean)\n",
    "\n",
    "interface PersonExtractor {\n",
    "    fun extractPersonFrom(text: String): Person\n",
    "}\n",
    "\n",
    "val jsonModel = OpenAiChatModel.builder()\n",
    "    .apiKey(apiKey)\n",
    "    .modelName(OpenAiChatModelName.GPT_4_O_MINI)\n",
    "    .temperature(0.3)\n",
    "    .responseFormat(\"json_schema\")\n",
    "    .strictJsonSchema(true)\n",
    "    .build()\n",
    "\n",
    "val personExtractor = AiServices.create(PersonExtractor::class.java, jsonModel)"
   ],
   "outputs": [],
   "execution_count": 17
  },
  {
   "metadata": {
    "ExecuteTime": {
     "end_time": "2025-02-11T10:57:41.031251Z",
     "start_time": "2025-02-11T10:57:39.962156Z"
    }
   },
   "cell_type": "code",
   "source": [
    "personExtractor.extractPersonFrom(\n",
    "    \"\"\"\n",
    "        John is 42 years old and lives an independent life.\n",
    "        He stands 1.75 meters tall and carries himself with confidence.\n",
    "        Currently unmarried, he enjoys the freedom to focus on his personal goals and interests.\n",
    "    \"\"\"\n",
    ")"
   ],
   "outputs": [
    {
     "data": {
      "text/plain": [
       "Person(name=John, age=42, height=1.75, married=false)"
      ]
     },
     "execution_count": 18,
     "metadata": {},
     "output_type": "execute_result"
    }
   ],
   "execution_count": 18
  },
  {
   "metadata": {
    "ExecuteTime": {
     "end_time": "2025-02-11T10:57:41.096194Z",
     "start_time": "2025-02-11T10:57:41.039041Z"
    }
   },
   "cell_type": "code",
   "source": [
    "data class Step(val explanation: String, val output: String)\n",
    "\n",
    "data class MathResponse(val steps: List<Step>, val finalAnswer: String)\n",
    "\n",
    "interface MathAssistant {\n",
    "    @SystemMessage(\"You are a helpful math tutor.\")\n",
    "    fun chat(message: String): MathResponse\n",
    "}\n",
    "\n",
    "val assistant = AiServices.create(MathAssistant::class.java, jsonModel)\n"
   ],
   "outputs": [],
   "execution_count": 19
  },
  {
   "metadata": {
    "ExecuteTime": {
     "end_time": "2025-02-11T10:57:43.481996Z",
     "start_time": "2025-02-11T10:57:41.101024Z"
    }
   },
   "cell_type": "code",
   "source": [
    "val response = assistant.chat(\"solve 8x + 31 = 2\")\n",
    "\n",
    "println(response.steps.withIndex().joinToString(\"\\n\") { \"${it.index + 1}. ${it.value.explanation}\" })\n",
    "println(\"Answer:\")\n",
    "println(response.finalAnswer)"
   ],
   "outputs": [
    {
     "name": "stdout",
     "output_type": "stream",
     "text": [
      "1. Subtract 31 from both sides of the equation to isolate the term with x.\n",
      "2. This simplifies to 8x = -29.\n",
      "3. Now, divide both sides by 8 to solve for x.\n",
      "4. Simplifying -29 / 8 gives us the final answer.\n",
      "Answer:\n",
      "x = -3.625\n"
     ]
    }
   ],
   "execution_count": 20
  },
  {
   "metadata": {},
   "cell_type": "markdown",
   "source": "### Function calling"
  },
  {
   "metadata": {
    "ExecuteTime": {
     "end_time": "2025-02-11T10:57:43.555476Z",
     "start_time": "2025-02-11T10:57:43.497349Z"
    }
   },
   "cell_type": "code",
   "source": [
    "import dev.langchain4j.agent.tool.Tool\n",
    "\n",
    "class Tools {\n",
    "    @Tool\n",
    "    fun plus(a: Int, b: Int): Int = a + b\n",
    "\n",
    "    @Tool\n",
    "    fun minus(a: Int, b: Int): Int = a - b\n",
    "\n",
    "    @Tool\n",
    "    fun times(a: Int, b: Int): Int = a * b\n",
    "\n",
    "    @Tool\n",
    "    fun div(a: Int, b: Int): Int = a / b\n",
    "}\n",
    "\n",
    "interface MathAssistant {\n",
    "    @SystemMessage(\"You are a helpful math tutor.\")\n",
    "    fun chat(message: String): String\n",
    "}\n",
    "\n",
    "val assistant = AiServices.builder(MathAssistant::class.java)\n",
    "    .chatLanguageModel(model)\n",
    "    .tools(Tools())\n",
    "    .build()"
   ],
   "outputs": [],
   "execution_count": 21
  },
  {
   "metadata": {
    "ExecuteTime": {
     "end_time": "2025-02-11T10:57:58.865940Z",
     "start_time": "2025-02-11T10:57:43.559847Z"
    }
   },
   "cell_type": "code",
   "source": [
    "assistant.chat(\"\"\"\n",
    "Solve this:\n",
    "* (5 + 10) * (20 - 3) / 4\n",
    "* (a + b)^2\n",
    "* ax^2 + bx + c = 0 for a=1, b=-3, c=-4\n",
    "*  S = n * (a1 + an) / 2\n",
    "    n = 10\n",
    "    a1 = 3\n",
    "    an = 20\n",
    "\"\"\")"
   ],
   "outputs": [
    {
     "data": {
      "text/plain": [
       "Here are the solutions to each part of your problem:\n",
       "\n",
       "1. **Calculation of \\((5 + 10) * (20 - 3) / 4\\)**:\n",
       "   - \\(5 + 10 = 15\\)\n",
       "   - \\(20 - 3 = 17\\)\n",
       "   - \\((15 * 17) / 4 = 255 / 4 = 42.75\\)\n",
       "\n",
       "2. **Expression \\((a + b)^2\\)**:\n",
       "   - This remains as \\((a + b)^2\\) since \\(a\\) and \\(b\\) are variables.\n",
       "\n",
       "3. **Solving the quadratic equation \\(ax^2 + bx + c = 0\\) for \\(a=1\\), \\(b=-3\\), \\(c=-4\\)**:\n",
       "   - The equation becomes \\(1x^2 - 3x - 4 = 0\\).\n",
       "   - The solutions are \\(x = 1\\) and \\(x = 4\\) (using the quadratic formula).\n",
       "\n",
       "4. **Sum \\(S = n * (a1 + an) / 2\\)** with \\(n = 10\\), \\(a1 = 3\\), \\(an = 20\\)**:\n",
       "   - \\(S = 10 * (3 + 20) / 2 = 10 * 23 / 2 = 115\\)\n",
       "\n",
       "So, the final results are:\n",
       "- The result of the first calculation is **42.75**.\n",
       "- The expression \\((a + b)^2\\) remains as is.\n",
       "- The solutions to the quadratic equation are **1** and **4**.\n",
       "- The sum \\(S\\) is **115**."
      ]
     },
     "execution_count": 22,
     "metadata": {},
     "output_type": "execute_result"
    }
   ],
   "execution_count": 22
  }
 ],
 "metadata": {
  "kernelspec": {
   "display_name": "Kotlin",
   "language": "kotlin",
   "name": "kotlin"
  },
  "language_info": {
   "name": "kotlin",
   "version": "1.9.23",
   "mimetype": "text/x-kotlin",
   "file_extension": ".kt",
   "pygments_lexer": "kotlin",
   "codemirror_mode": "text/x-kotlin",
   "nbconvert_exporter": ""
  },
  "ktnbPluginMetadata": {
   "projectLibraries": false
  }
 },
 "nbformat": 4,
 "nbformat_minor": 0
}
