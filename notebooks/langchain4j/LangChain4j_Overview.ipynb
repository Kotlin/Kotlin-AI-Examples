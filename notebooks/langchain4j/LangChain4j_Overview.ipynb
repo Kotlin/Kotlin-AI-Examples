{
 "cells": [
  {
   "metadata": {},
   "cell_type": "markdown",
   "source": "# LangChain4j API Overview"
  },
  {
   "metadata": {
    "ExecuteTime": {
     "end_time": "2025-04-03T14:11:07.043602Z",
     "start_time": "2025-04-03T14:11:06.139523Z"
    }
   },
   "cell_type": "code",
   "source": [
    "%useLatestDescriptors\n",
    "%use coroutines\n",
    "@file:DependsOn(\"dev.langchain4j:langchain4j:1.0.0-beta2\")\n",
    "@file:DependsOn(\"dev.langchain4j:langchain4j-open-ai:1.0.0-beta2\")"
   ],
   "outputs": [],
   "execution_count": 1
  },
  {
   "metadata": {
    "ExecuteTime": {
     "end_time": "2025-04-03T14:11:07.198269Z",
     "start_time": "2025-04-03T14:11:07.050312Z"
    }
   },
   "cell_type": "code",
   "source": "val apiKey = System.getenv(\"OPENAI_API_KEY\") ?: \"YOUR_OPENAI_API_KEY\"",
   "outputs": [],
   "execution_count": 2
  },
  {
   "metadata": {
    "ExecuteTime": {
     "end_time": "2025-04-03T14:11:07.693293Z",
     "start_time": "2025-04-03T14:11:07.218794Z"
    }
   },
   "cell_type": "code",
   "source": [
    "import dev.langchain4j.model.openai.OpenAiChatModel\n",
    "import dev.langchain4j.model.openai.OpenAiChatModelName\n",
    "\n",
    "val model = OpenAiChatModel.builder()\n",
    "    .apiKey(apiKey)\n",
    "    .modelName(OpenAiChatModelName.GPT_4_O_MINI)\n",
    "    .temperature(0.3)\n",
    "    .build()"
   ],
   "outputs": [],
   "execution_count": 3
  },
  {
   "metadata": {},
   "cell_type": "markdown",
   "source": "## Chat API"
  },
  {
   "metadata": {
    "ExecuteTime": {
     "end_time": "2025-04-03T14:11:13.464744Z",
     "start_time": "2025-04-03T14:11:07.709413Z"
    }
   },
   "cell_type": "code",
   "source": "model.chat(\"How do I create in Kotlin a plus function for a Point data class that adds two Points together in the form point1 + point2?\")",
   "outputs": [
    {
     "data": {
      "text/plain": [
       "In Kotlin, you can overload the `plus` operator for your `Point` data class by defining the `plus` function. This allows you to use the `+` operator to add two `Point` instances together. Below is an example of how you can implement this:\n",
       "\n",
       "```kotlin\n",
       "data class Point(val x: Int, val y: Int) {\n",
       "    operator fun plus(other: Point): Point {\n",
       "        return Point(this.x + other.x, this.y + other.y)\n",
       "    }\n",
       "}\n",
       "\n",
       "fun main() {\n",
       "    val point1 = Point(1, 2)\n",
       "    val point2 = Point(3, 4)\n",
       "    \n",
       "    val result = point1 + point2 // Using the overloaded + operator\n",
       "    println(result) // Output: Point(x=4, y=6)\n",
       "}\n",
       "```\n",
       "\n",
       "### Explanation:\n",
       "1. **Data Class**: We define a data class `Point` with two properties: `x` and `y`.\n",
       "2. **Operator Function**: We define an operator function `plus` that takes another `Point` as a parameter and returns a new `Point` whose `x` and `y` coordinates are the sums of the corresponding coordinates of the two points.\n",
       "3. **Usage**: In the `main` function, we create two `Point` instances and use the `+` operator to add them together, which invokes the `plus` function.\n",
       "\n",
       "This implementation allows you to easily add two `Point` objects using the `+` operator, enhancing the readability and expressiveness of your code."
      ]
     },
     "execution_count": 4,
     "metadata": {},
     "output_type": "execute_result"
    }
   ],
   "execution_count": 4
  },
  {
   "metadata": {},
   "cell_type": "markdown",
   "source": "## Prompts"
  },
  {
   "metadata": {},
   "cell_type": "markdown",
   "source": "### 1 API"
  },
  {
   "metadata": {
    "ExecuteTime": {
     "end_time": "2025-04-03T14:11:20.165315Z",
     "start_time": "2025-04-03T14:11:13.472387Z"
    }
   },
   "cell_type": "code",
   "source": [
    "import dev.langchain4j.data.message.SystemMessage.systemMessage\n",
    "import dev.langchain4j.data.message.UserMessage.userMessage\n",
    "import dev.langchain4j.model.chat.request.ChatRequest\n",
    "import dev.langchain4j.model.chat.request.chatRequest\n",
    "\n",
    "val response = model.chat(\n",
    "    chatRequest {\n",
    "        messages += systemMessage(\n",
    "            \"\"\"\n",
    "            You are an expert Kotlin developer. Your task is to write idiomatic Kotlin code. Follow these guidelines:\n",
    "            - Use clean code principles.\n",
    "            - Write concise and readable APIs.\n",
    "            - Stick to idiomatic Kotlin conventions.\n",
    "            - Leverage higher-order functions, extensions, and null-safety features.\n",
    "            - Avoid unnecessary complexity; simplify the code when possible.\n",
    "            - Ensure the code is optimized for performance.\n",
    "            - Structure the code clearly and use best practices.\n",
    "            - Provide concise and to-the-point responses.\n",
    "        \"\"\".trimIndent()\n",
    "        )\n",
    "        messages += userMessage(\n",
    "            \"\"\"\n",
    "            What foldRight does? What will be the intermidieate and the end result of the foldRight function call?\n",
    "            ```kotlin\n",
    "                \"baba\".foldRight(\"\") { x, acc -> \"${'$'}x${'$'}{acc}${'$'}{acc}\" })\n",
    "            ```\n",
    "            \"\"\".trimIndent()\n",
    "        )\n",
    "    }\n",
    ").aiMessage()\n",
    "response"
   ],
   "outputs": [
    {
     "data": {
      "text/plain": [
       "AiMessage { text = \"In Kotlin, `foldRight` is a function that processes a collection or a string from the last element to the first, accumulating a result by applying a specified operation. The operation takes two parameters: the current element and an accumulator that holds the result of the previous operations.\n",
       "\n",
       "In your example, the `foldRight` function is called on the string `\"baba\"` with an initial accumulator value of `\"\"` (an empty string). The lambda function takes each character `x` from the string and concatenates it with the accumulator `acc` and the accumulator again.\n",
       "\n",
       "Here's a step-by-step breakdown of the `foldRight` operation for the string `\"baba\"`:\n",
       "\n",
       "1. Start with the last character of the string and the initial accumulator:\n",
       "   - Current character: `'a'`\n",
       "   - Accumulator: `\"\"`\n",
       "   - Result: `\"a\" + \"\" + \"\"` → `\"a\"`\n",
       "\n",
       "2. Move to the second last character:\n",
       "   - Current character: `'b'`\n",
       "   - Accumulator: `\"a\"`\n",
       "   - Result: `\"b\" + \"a\" + \"a\"` → `\"baa\"`\n",
       "\n",
       "3. Move to the third last character:\n",
       "   - Current character: `'a'`\n",
       "   - Accumulator: `\"baa\"`\n",
       "   - Result: `\"a\" + \"baa\" + \"baa\"` → `\"abaaab\"`\n",
       "\n",
       "4. Move to the first character:\n",
       "   - Current character: `'b'`\n",
       "   - Accumulator: `\"abaaab\"`\n",
       "   - Result: `\"b\" + \"abaaab\" + \"abaaab\"` → `\"babaaababaaab\"`\n",
       "\n",
       "### Intermediate Results\n",
       "- After processing `'a'`: `\"a\"`\n",
       "- After processing `'b'`: `\"baa\"`\n",
       "- After processing `'a'`: `\"abaaab\"`\n",
       "- After processing `'b'`: `\"babaaababaaab\"`\n",
       "\n",
       "### Final Result\n",
       "The final result of the `foldRight` function call will be:\n",
       "```kotlin\n",
       "\"babaaababaaab\"\n",
       "```\n",
       "\n",
       "This demonstrates how `foldRight` works by accumulating results from the end of the collection (or string) to the beginning.\" toolExecutionRequests = null }"
      ]
     },
     "execution_count": 5,
     "metadata": {},
     "output_type": "execute_result"
    }
   ],
   "execution_count": 5
  },
  {
   "metadata": {},
   "cell_type": "markdown",
   "source": "### 2 API"
  },
  {
   "metadata": {
    "ExecuteTime": {
     "end_time": "2025-04-03T14:11:20.212144Z",
     "start_time": "2025-04-03T14:11:20.171121Z"
    }
   },
   "cell_type": "code",
   "source": [
    "interface AssistantFirst {\n",
    "    fun chat(userMessage: String): String\n",
    "}"
   ],
   "outputs": [],
   "execution_count": 6
  },
  {
   "metadata": {
    "ExecuteTime": {
     "end_time": "2025-04-03T14:11:20.314240Z",
     "start_time": "2025-04-03T14:11:20.221285Z"
    }
   },
   "cell_type": "code",
   "source": [
    "import dev.langchain4j.service.AiServices\n",
    "\n",
    "val aiService = AiServices\n",
    "    .builder(AssistantFirst::class.java)\n",
    "    .chatLanguageModel(model)\n",
    "    .systemMessageProvider {\n",
    "        \"\"\"\n",
    "        You are an expert Kotlin developer. Your task is to write idiomatic Kotlin code. Follow these guidelines:\n",
    "            - Use clean code principles.\n",
    "            - Write concise and readable APIs.\n",
    "            - Stick to idiomatic Kotlin conventions.\n",
    "            - Leverage higher-order functions, extensions, and null-safety features.\n",
    "            - Avoid unnecessary complexity; simplify the code when possible.\n",
    "            - Ensure the code is optimized for performance.\n",
    "            - Structure the code clearly and use best practices.\n",
    "            - Provide concise and to-the-point responses.\n",
    "        \"\"\".trimIndent()\n",
    "    }\n",
    "    .build()"
   ],
   "outputs": [],
   "execution_count": 7
  },
  {
   "metadata": {
    "ExecuteTime": {
     "end_time": "2025-04-03T14:11:24.042238Z",
     "start_time": "2025-04-03T14:11:20.328049Z"
    }
   },
   "cell_type": "code",
   "source": [
    "aiService.chat(\"\"\"\n",
    "Write a main function that creates a flow of five elements 1, 2, 3, 4, and 5, and prints each one of them. Use the collect function without any arguments to do so.\n",
    "Make sure to include all imports, but don’t use star imports.\n",
    "\"\"\".trimIndent())"
   ],
   "outputs": [
    {
     "data": {
      "text/plain": [
       "Here’s a concise and idiomatic Kotlin program that creates a flow of five elements and prints each one using the `collect` function:\n",
       "\n",
       "```kotlin\n",
       "import kotlinx.coroutines.flow.Flow\n",
       "import kotlinx.coroutines.flow.flow\n",
       "import kotlinx.coroutines.runBlocking\n",
       "\n",
       "fun main() = runBlocking {\n",
       "    createFlow().collect { value ->\n",
       "        println(value)\n",
       "    }\n",
       "}\n",
       "\n",
       "fun createFlow(): Flow<Int> = flow {\n",
       "    for (i in 1..5) {\n",
       "        emit(i)\n",
       "    }\n",
       "}\n",
       "```\n",
       "\n",
       "### Explanation:\n",
       "- **Imports**: Only necessary imports are included.\n",
       "- **`runBlocking`**: Used to run the coroutine in the main function.\n",
       "- **`createFlow`**: A function that returns a `Flow<Int>` emitting values from 1 to 5.\n",
       "- **`collect`**: Collects the emitted values and prints them."
      ]
     },
     "execution_count": 8,
     "metadata": {},
     "output_type": "execute_result"
    }
   ],
   "execution_count": 8
  },
  {
   "metadata": {},
   "cell_type": "markdown",
   "source": "### 3 API"
  },
  {
   "metadata": {
    "ExecuteTime": {
     "end_time": "2025-04-03T14:11:24.076821Z",
     "start_time": "2025-04-03T14:11:24.048156Z"
    }
   },
   "cell_type": "code",
   "source": [
    "import dev.langchain4j.service.SystemMessage\n",
    "\n",
    "interface AssistantSecond {\n",
    "\n",
    "    @SystemMessage(\n",
    "        \"\"\"\n",
    "        You are an expert Kotlin developer. Your task is to write idiomatic Kotlin code. Follow these guidelines:\n",
    "            - Use clean code principles.\n",
    "            - Write concise and readable APIs.\n",
    "            - Stick to idiomatic Kotlin conventions.\n",
    "            - Leverage higher-order functions, extensions, and null-safety features.\n",
    "            - Avoid unnecessary complexity; simplify the code when possible.\n",
    "            - Ensure the code is optimized for performance.\n",
    "            - Structure the code clearly and use best practices.\n",
    "            - Provide concise and to-the-point responses.\n",
    "        \"\"\"\n",
    "    )\n",
    "    fun chat(userMessage: String): String\n",
    "}"
   ],
   "outputs": [],
   "execution_count": 9
  },
  {
   "metadata": {
    "ExecuteTime": {
     "end_time": "2025-04-03T14:11:24.135890Z",
     "start_time": "2025-04-03T14:11:24.080524Z"
    }
   },
   "cell_type": "code",
   "source": "val assistant = AiServices.create(AssistantSecond::class.java, model)",
   "outputs": [],
   "execution_count": 10
  },
  {
   "metadata": {
    "ExecuteTime": {
     "end_time": "2025-04-03T14:11:27.803941Z",
     "start_time": "2025-04-03T14:11:24.140989Z"
    }
   },
   "cell_type": "code",
   "source": [
    "assistant.chat(\"\"\"\n",
    "Write a main function that creates a flow of five elements 1, 2, 3, 4, and 5, and prints each one of them. Use the collect function without any arguments to do so.\n",
    "Make sure to include all imports, but don’t use star imports.\n",
    "\"\"\".trimIndent())"
   ],
   "outputs": [
    {
     "data": {
      "text/plain": [
       "Here's a concise and idiomatic Kotlin program that creates a flow of five elements and prints each one using the `collect` function:\n",
       "\n",
       "```kotlin\n",
       "import kotlinx.coroutines.flow.Flow\n",
       "import kotlinx.coroutines.flow.flow\n",
       "import kotlinx.coroutines.runBlocking\n",
       "\n",
       "fun main() = runBlocking {\n",
       "    createFlow().collect { value ->\n",
       "        println(value)\n",
       "    }\n",
       "}\n",
       "\n",
       "fun createFlow(): Flow<Int> = flow {\n",
       "    for (i in 1..5) {\n",
       "        emit(i)\n",
       "    }\n",
       "}\n",
       "```\n",
       "\n",
       "### Explanation:\n",
       "- **Imports**: Only the necessary classes are imported.\n",
       "- **Flow Creation**: The `createFlow` function generates a flow of integers from 1 to 5 using the `flow` builder.\n",
       "- **Collecting Values**: The `collect` function is used to print each emitted value.\n",
       "- **RunBlocking**: The `main` function is marked with `runBlocking` to allow the coroutine to run in a blocking manner, making it suitable for a simple main function."
      ]
     },
     "execution_count": 11,
     "metadata": {},
     "output_type": "execute_result"
    }
   ],
   "execution_count": 11
  },
  {
   "metadata": {},
   "cell_type": "markdown",
   "source": "## Stream"
  },
  {
   "metadata": {},
   "cell_type": "markdown",
   "source": "### Async"
  },
  {
   "metadata": {
    "ExecuteTime": {
     "end_time": "2025-04-03T14:11:33.580320Z",
     "start_time": "2025-04-03T14:11:27.822924Z"
    }
   },
   "cell_type": "code",
   "source": [
    "import dev.langchain4j.model.chat.chat\n",
    "\n",
    "runBlocking {\n",
    "    model.chat {\n",
    "        messages += systemMessage(\"You are an expert Kotlin developer.\")\n",
    "        messages += userMessage(\n",
    "            \"\"\"\n",
    "                Write a main function that creates a flow of five elements 1, 2, 3, 4, and 5, and prints each one of them. Use the collect function without any arguments to do so.\n",
    "                Make sure to include all imports, but don’t use star imports.\n",
    "            \"\"\".trimIndent()\n",
    "        )\n",
    "    }\n",
    "}\n"
   ],
   "outputs": [
    {
     "data": {
      "text/plain": [
       "ChatResponse { aiMessage = AiMessage { text = \"Certainly! Below is a complete Kotlin program that creates a flow of five elements (1, 2, 3, 4, and 5) and prints each one using the `collect` function. The necessary imports are included without using star imports.\n",
       "\n",
       "```kotlin\n",
       "import kotlinx.coroutines.flow.Flow\n",
       "import kotlinx.coroutines.flow.flow\n",
       "import kotlinx.coroutines.runBlocking\n",
       "\n",
       "fun main() = runBlocking {\n",
       "    val numberFlow: Flow<Int> = flow {\n",
       "        for (i in 1..5) {\n",
       "            emit(i) // Emit each number\n",
       "        }\n",
       "    }\n",
       "\n",
       "    numberFlow.collect { value ->\n",
       "        println(value) // Print each emitted value\n",
       "    }\n",
       "}\n",
       "```\n",
       "\n",
       "### Explanation:\n",
       "- We import the necessary classes from the `kotlinx.coroutines.flow` package.\n",
       "- The `main` function is marked with `runBlocking` to allow the use of coroutines.\n",
       "- We create a `Flow` using the `flow` builder, emitting numbers from 1 to 5.\n",
       "- Finally, we collect the emitted values and print each one. \n",
       "\n",
       "Make sure you have the necessary dependencies for coroutines in your build system (like Gradle or Maven) to run this code.\" toolExecutionRequests = null }, metadata = OpenAiChatResponseMetadata{id='chatcmpl-BIFZwa9lH6J1CtD183aTMA43U4avj', modelName='gpt-4o-mini-2024-07-18', tokenUsage=OpenAiTokenUsage{ inputTokenCount = 77, inputTokensDetails=InputTokensDetails[cachedTokens=0], outputTokenCount = 243, outputTokensDetails=OutputTokensDetails[reasoningTokens=0], totalTokenCount = 320}, finishReason=STOP, created=1743689488, serviceTier='default', systemFingerprint='fp_b376dfbbd5'} }"
      ]
     },
     "execution_count": 12,
     "metadata": {},
     "output_type": "execute_result"
    }
   ],
   "execution_count": 12
  },
  {
   "metadata": {},
   "cell_type": "markdown",
   "source": "### Flow"
  },
  {
   "metadata": {
    "ExecuteTime": {
     "end_time": "2025-04-03T14:11:39.566136Z",
     "start_time": "2025-04-03T14:11:33.590908Z"
    }
   },
   "cell_type": "code",
   "source": [
    "import dev.langchain4j.model.chat.StreamingChatLanguageModelReply\n",
    "import dev.langchain4j.model.chat.chatFlow\n",
    "import dev.langchain4j.model.openai.OpenAiStreamingChatModel\n",
    "import kotlinx.coroutines.flow.Flow\n",
    "\n",
    "val streamModel = OpenAiStreamingChatModel.builder()\n",
    "    .apiKey(apiKey)\n",
    "    .modelName(OpenAiChatModelName.GPT_4_O_MINI)\n",
    "    .temperature(0.3)\n",
    "    .build()\n",
    "\n",
    "val flowResponse = streamModel.chatFlow {\n",
    "    messages += systemMessage(\"You are an expert Kotlin developer.\")\n",
    "    messages += userMessage(\n",
    "        \"\"\"\n",
    "        Write a main function that creates a flow of five elements 1, 2, 3, 4, and 5, and prints each one of them. Use the collect function without any arguments to do so.\n",
    "        Make sure to include all imports, but don’t use star imports.\n",
    "        \"\"\".trimIndent()\n",
    "    )\n",
    "}\n",
    "\n",
    "runBlocking {\n",
    "    flowResponse.collect {\n",
    "        when (it) {\n",
    "            is StreamingChatLanguageModelReply.PartialResponse -> {\n",
    "                print(it.partialResponse) // Stream output as it arrives\n",
    "            }\n",
    "            is StreamingChatLanguageModelReply.CompleteResponse -> {\n",
    "                println(\"\\nComplete: ${it.response.aiMessage().text()}\")\n",
    "            }\n",
    "            is StreamingChatLanguageModelReply.Error -> {\n",
    "                println(\"Error occurred: ${it.cause.message}\")\n",
    "            }\n",
    "        }\n",
    "    }\n",
    "}"
   ],
   "outputs": [
    {
     "name": "stdout",
     "output_type": "stream",
     "text": [
      "Certainly! Below is a Kotlin program that creates a flow of five elements (1, 2, 3, 4, and 5) and prints each element using the `collect` function. The necessary imports are included without using star imports.\n",
      "\n",
      "```kotlin\n",
      "import kotlinx.coroutines.flow.Flow\n",
      "import kotlinx.coroutines.flow.flow\n",
      "import kotlinx.coroutines.runBlocking\n",
      "import kotlinx.coroutines.flow.collect\n",
      "\n",
      "fun main() = runBlocking {\n",
      "    val numberFlow: Flow<Int> = flow {\n",
      "        for (i in 1..5) {\n",
      "            emit(i) // Emit each number from 1 to 5\n",
      "        }\n",
      "    }\n",
      "\n",
      "    numberFlow.collect() { value ->\n",
      "        println(value) // Print each emitted value\n",
      "    }\n",
      "}\n",
      "```\n",
      "\n",
      "### Explanation:\n",
      "- We import the necessary classes from the `kotlinx.coroutines.flow` package.\n",
      "- The `flow` builder is used to create a flow that emits integers from 1 to 5.\n",
      "- The `runBlocking` function is used to run the coroutine in the main function.\n",
      "- The `collect` function is called on the flow to print each emitted value.\n",
      "\n",
      "Make sure you have the necessary dependencies for Kotlin coroutines in your project to run this code successfully.\n",
      "Complete: Certainly! Below is a Kotlin program that creates a flow of five elements (1, 2, 3, 4, and 5) and prints each element using the `collect` function. The necessary imports are included without using star imports.\n",
      "\n",
      "```kotlin\n",
      "import kotlinx.coroutines.flow.Flow\n",
      "import kotlinx.coroutines.flow.flow\n",
      "import kotlinx.coroutines.runBlocking\n",
      "import kotlinx.coroutines.flow.collect\n",
      "\n",
      "fun main() = runBlocking {\n",
      "    val numberFlow: Flow<Int> = flow {\n",
      "        for (i in 1..5) {\n",
      "            emit(i) // Emit each number from 1 to 5\n",
      "        }\n",
      "    }\n",
      "\n",
      "    numberFlow.collect() { value ->\n",
      "        println(value) // Print each emitted value\n",
      "    }\n",
      "}\n",
      "```\n",
      "\n",
      "### Explanation:\n",
      "- We import the necessary classes from the `kotlinx.coroutines.flow` package.\n",
      "- The `flow` builder is used to create a flow that emits integers from 1 to 5.\n",
      "- The `runBlocking` function is used to run the coroutine in the main function.\n",
      "- The `collect` function is called on the flow to print each emitted value.\n",
      "\n",
      "Make sure you have the necessary dependencies for Kotlin coroutines in your project to run this code successfully.\n"
     ]
    }
   ],
   "execution_count": 13
  },
  {
   "metadata": {},
   "cell_type": "markdown",
   "source": "### AiService"
  },
  {
   "metadata": {
    "ExecuteTime": {
     "end_time": "2025-04-03T14:11:39.721076Z",
     "start_time": "2025-04-03T14:11:39.570806Z"
    }
   },
   "cell_type": "code",
   "source": [
    "@file:DependsOn(\"dev.langchain4j:langchain4j-reactor:1.0.0-beta2\")\n",
    "@file:DependsOn(\"org.jetbrains.kotlinx:kotlinx-coroutines-reactor:1.10.1\")"
   ],
   "outputs": [],
   "execution_count": 14
  },
  {
   "metadata": {
    "ExecuteTime": {
     "end_time": "2025-04-03T14:11:39.811752Z",
     "start_time": "2025-04-03T14:11:39.725225Z"
    }
   },
   "cell_type": "code",
   "source": [
    "import reactor.core.publisher.Flux\n",
    "\n",
    "interface AssistantThird {\n",
    "    fun chat(message: String): Flux<String>\n",
    "}"
   ],
   "outputs": [],
   "execution_count": 15
  },
  {
   "metadata": {
    "ExecuteTime": {
     "end_time": "2025-04-03T14:11:39.847772Z",
     "start_time": "2025-04-03T14:11:39.815392Z"
    }
   },
   "cell_type": "code",
   "source": "val assistant = AiServices.create(AssistantThird::class.java, streamModel)",
   "outputs": [],
   "execution_count": 16
  },
  {
   "metadata": {
    "ExecuteTime": {
     "end_time": "2025-04-03T14:11:44.282285Z",
     "start_time": "2025-04-03T14:11:39.854417Z"
    }
   },
   "cell_type": "code",
   "source": [
    "import kotlinx.coroutines.reactive.asFlow\n",
    "\n",
    "val response = assistant.chat(\"\"\"\n",
    "Write a main function that creates a flow of five elements 1, 2, 3, 4, and 5, and prints each one of them. Use the collect function without any arguments to do so.\n",
    "Make sure to include all imports, but don’t use star imports.\n",
    "\"\"\".trimIndent()).asFlow()\n",
    "\n",
    "runBlocking {\n",
    "    response.collect {\n",
    "        print(it)\n",
    "    }\n",
    "}"
   ],
   "outputs": [
    {
     "name": "stdout",
     "output_type": "stream",
     "text": [
      "To create a flow of five elements (1, 2, 3, 4, and 5) and print each one of them using the `collect` function, you can use Kotlin's coroutines and flow APIs. Below is a complete Kotlin program that demonstrates this:\n",
      "\n",
      "```kotlin\n",
      "import kotlinx.coroutines.flow.Flow\n",
      "import kotlinx.coroutines.flow.flow\n",
      "import kotlinx.coroutines.runBlocking\n",
      "import kotlinx.coroutines.flow.collect\n",
      "\n",
      "fun main() = runBlocking {\n",
      "    createFlow().collect { value ->\n",
      "        println(value)\n",
      "    }\n",
      "}\n",
      "\n",
      "fun createFlow(): Flow<Int> {\n",
      "    return flow {\n",
      "        for (i in 1..5) {\n",
      "            emit(i)\n",
      "        }\n",
      "    }\n",
      "}\n",
      "```\n",
      "\n",
      "### Explanation:\n",
      "1. **Imports**: The necessary classes from the `kotlinx.coroutines.flow` package are imported explicitly.\n",
      "2. **Main Function**: The `main` function is defined as a coroutine using `runBlocking`, which allows us to call suspend functions.\n",
      "3. **Flow Creation**: The `createFlow` function creates a flow of integers from 1 to 5 using the `flow` builder.\n",
      "4. **Collecting Values**: The `collect` function is called on the flow, which prints each emitted value.\n",
      "\n",
      "To run this code, you need to have the Kotlin Coroutines library included in your project. Make sure to add the necessary dependencies in your build system (e.g., Gradle or Maven)."
     ]
    }
   ],
   "execution_count": 17
  },
  {
   "metadata": {},
   "cell_type": "markdown",
   "source": "## Structured Outputs"
  },
  {
   "metadata": {},
   "cell_type": "markdown",
   "source": "### JSON_MODE"
  },
  {
   "metadata": {
    "ExecuteTime": {
     "end_time": "2025-04-03T14:11:44.443646Z",
     "start_time": "2025-04-03T14:11:44.287703Z"
    }
   },
   "cell_type": "code",
   "source": [
    "import com.fasterxml.jackson.annotation.JsonCreator\n",
    "import com.fasterxml.jackson.annotation.JsonProperty\n",
    "\n",
    "/**\n",
    " * Represents a person with basic personal attributes.\n",
    " *\n",
    " * @property name The name of the person.\n",
    " * @property age The age of the person in years.\n",
    " * @property height The height of the person in meters.\n",
    " * @property married Indicates if the person is married.\n",
    " */\n",
    "data class Person @JsonCreator constructor(\n",
    "    @JsonProperty(\"name\") val name: String,\n",
    "    @JsonProperty(\"age\") val age: Int,\n",
    "    @JsonProperty(\"height\") val height: Double,\n",
    "    @JsonProperty(\"married\") val married: Boolean\n",
    ")\n",
    "\n",
    "interface PersonExtractor {\n",
    "    fun extractPersonFrom(text: String): Person\n",
    "}\n",
    "\n",
    "val jsonModel = OpenAiChatModel.builder()\n",
    "    .apiKey(apiKey)\n",
    "    .modelName(OpenAiChatModelName.GPT_4_O_MINI)\n",
    "    .temperature(0.3)\n",
    "    .responseFormat(\"json_schema\")\n",
    "    .strictJsonSchema(true)\n",
    "    .build()\n",
    "\n",
    "val personExtractor = AiServices.create(PersonExtractor::class.java, jsonModel)"
   ],
   "outputs": [],
   "execution_count": 18
  },
  {
   "metadata": {
    "ExecuteTime": {
     "end_time": "2025-04-03T14:11:45.223070Z",
     "start_time": "2025-04-03T14:11:44.449188Z"
    }
   },
   "cell_type": "code",
   "source": [
    "personExtractor.extractPersonFrom(\n",
    "    \"\"\"\n",
    "        John is 42 years old and lives an independent life.\n",
    "        He stands 1.75 meters tall and carries himself with confidence.\n",
    "        Currently unmarried, he enjoys the freedom to focus on his personal goals and interests.\n",
    "    \"\"\"\n",
    ")"
   ],
   "outputs": [
    {
     "data": {
      "text/plain": [
       "Person(name=John, age=42, height=1.75, married=false)"
      ]
     },
     "execution_count": 19,
     "metadata": {},
     "output_type": "execute_result"
    }
   ],
   "execution_count": 19
  },
  {
   "metadata": {
    "ExecuteTime": {
     "end_time": "2025-04-03T14:11:45.302920Z",
     "start_time": "2025-04-03T14:11:45.229179Z"
    }
   },
   "cell_type": "code",
   "source": [
    "data class Step @JsonCreator constructor(\n",
    "    @JsonProperty(\"explanation\") val explanation: String,\n",
    "    @JsonProperty(\"output\") val output: String\n",
    ")\n",
    "\n",
    "data class MathResponse @JsonCreator constructor(\n",
    "    @JsonProperty(\"steps\") val steps: List<Step>,\n",
    "    @JsonProperty(\"finalAnswer\") val finalAnswer: String\n",
    ")\n",
    "\n",
    "interface MathAssistant {\n",
    "    @SystemMessage(\"You are a helpful math tutor.\")\n",
    "    fun chat(message: String): MathResponse\n",
    "}\n",
    "\n",
    "val assistant = AiServices.create(MathAssistant::class.java, jsonModel)\n"
   ],
   "outputs": [],
   "execution_count": 20
  },
  {
   "metadata": {
    "ExecuteTime": {
     "end_time": "2025-04-03T14:11:48.353183Z",
     "start_time": "2025-04-03T14:11:45.312074Z"
    }
   },
   "cell_type": "code",
   "source": [
    "val response = assistant.chat(\"solve 8x + 31 = 2\")\n",
    "\n",
    "println(response.steps.withIndex().joinToString(\"\\n\") { \"${it.index + 1}. ${it.value.explanation}\" })\n",
    "println(\"Answer:\")\n",
    "println(response.finalAnswer)"
   ],
   "outputs": [
    {
     "name": "stdout",
     "output_type": "stream",
     "text": [
      "1. Subtract 31 from both sides to isolate the term with x.\n",
      "2. This simplifies to 8x = -29.\n",
      "3. Now, divide both sides by 8 to solve for x.\n",
      "4. Simplifying -29 / 8 gives us the final answer.\n",
      "Answer:\n",
      "x = -3.625\n"
     ]
    }
   ],
   "execution_count": 21
  },
  {
   "metadata": {},
   "cell_type": "markdown",
   "source": "### Function calling"
  },
  {
   "metadata": {
    "ExecuteTime": {
     "end_time": "2025-04-03T14:11:48.434406Z",
     "start_time": "2025-04-03T14:11:48.365148Z"
    }
   },
   "cell_type": "code",
   "source": [
    "import dev.langchain4j.agent.tool.Tool\n",
    "\n",
    "class Tools {\n",
    "    @Tool\n",
    "    fun plus(a: Int, b: Int): Int = a + b\n",
    "\n",
    "    @Tool\n",
    "    fun minus(a: Int, b: Int): Int = a - b\n",
    "\n",
    "    @Tool\n",
    "    fun times(a: Int, b: Int): Int = a * b\n",
    "\n",
    "    @Tool\n",
    "    fun div(a: Int, b: Int): Int = a / b\n",
    "}\n",
    "\n",
    "interface MathAssistant {\n",
    "    @SystemMessage(\"You are a helpful math tutor.\")\n",
    "    fun chat(message: String): String\n",
    "}\n",
    "\n",
    "val assistant = AiServices.builder(MathAssistant::class.java)\n",
    "    .chatLanguageModel(model)\n",
    "    .tools(Tools())\n",
    "    .build()"
   ],
   "outputs": [],
   "execution_count": 22
  },
  {
   "metadata": {
    "ExecuteTime": {
     "end_time": "2025-04-03T14:12:08.194641Z",
     "start_time": "2025-04-03T14:11:48.441590Z"
    }
   },
   "cell_type": "code",
   "source": [
    "assistant.chat(\"\"\"\n",
    "Solve this:\n",
    "* (5 + 10) * (20 - 3) / 4\n",
    "* (a + b)^2\n",
    "* ax^2 + bx + c = 0 for a=1, b=-3, c=-4\n",
    "*  S = n * (a1 + an) / 2\n",
    "    n = 10\n",
    "    a1 = 3\n",
    "    an = 20\n",
    "\"\"\")"
   ],
   "outputs": [
    {
     "data": {
      "text/plain": [
       "Let's solve each part step by step:\n",
       "\n",
       "1. **Calculate (5 + 10) * (20 - 3) / 4:**\n",
       "   - \\( 5 + 10 = 15 \\)\n",
       "   - \\( 20 - 3 = 17 \\)\n",
       "   - \\( 15 * 17 = 255 \\)\n",
       "   - \\( 255 / 4 = 63.75 \\)\n",
       "\n",
       "2. **Expand (a + b)^2:**\n",
       "   - \\( (a + b)^2 = a^2 + 2ab + b^2 \\)\n",
       "\n",
       "3. **Solve ax^2 + bx + c = 0 for a=1, b=-3, c=-4:**\n",
       "   - The equation becomes \\( 1x^2 - 3x - 4 = 0 \\).\n",
       "   - The roots can be found using the quadratic formula: \n",
       "     \\[\n",
       "     x = \\frac{-b \\pm \\sqrt{b^2 - 4ac}}{2a}\n",
       "     \\]\n",
       "   - Here, \\( b^2 - 4ac = (-3)^2 - 4(1)(-4) = 9 + 16 = 25 \\).\n",
       "   - Therefore, the roots are:\n",
       "     \\[\n",
       "     x = \\frac{3 \\pm 5}{2}\n",
       "     \\]\n",
       "     - \\( x_1 = \\frac{8}{2} = 4 \\)\n",
       "     - \\( x_2 = \\frac{-2}{2} = -1 \\)\n",
       "\n",
       "4. **Calculate S = n * (a1 + an) / 2:**\n",
       "   - \\( n = 10 \\), \\( a1 = 3 \\), \\( an = 20 \\)\n",
       "   - \\( S = 10 * (3 + 20) / 2 = 10 * 23 / 2 = 115 \\)\n",
       "\n",
       "### Summary of Results:\n",
       "1. \\( (5 + 10) * (20 - 3) / 4 = 63.75 \\)\n",
       "2. \\( (a + b)^2 = a^2 + 2ab + b^2 \\)\n",
       "3. Roots of \\( x^2 - 3x - 4 = 0 \\) are \\( x = 4 \\) and \\( x = -1 \\)\n",
       "4. \\( S = 115 \\)"
      ]
     },
     "execution_count": 23,
     "metadata": {},
     "output_type": "execute_result"
    }
   ],
   "execution_count": 23
  }
 ],
 "metadata": {
  "kernelspec": {
   "display_name": "Kotlin",
   "language": "kotlin",
   "name": "kotlin"
  },
  "language_info": {
   "name": "kotlin",
   "version": "1.9.23",
   "mimetype": "text/x-kotlin",
   "file_extension": ".kt",
   "pygments_lexer": "kotlin",
   "codemirror_mode": "text/x-kotlin",
   "nbconvert_exporter": ""
  },
  "ktnbPluginMetadata": {
   "projectLibraries": false
  }
 },
 "nbformat": 4,
 "nbformat_minor": 0
}
