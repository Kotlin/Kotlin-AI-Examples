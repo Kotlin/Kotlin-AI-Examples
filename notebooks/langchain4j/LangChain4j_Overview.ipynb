{
 "cells": [
  {
   "metadata": {},
   "cell_type": "markdown",
   "source": "# LangChain4j API Overview"
  },
  {
   "metadata": {
    "ExecuteTime": {
     "end_time": "2025-05-11T19:10:53.349664Z",
     "start_time": "2025-05-11T19:10:52.333046Z"
    }
   },
   "cell_type": "code",
   "source": [
    "%useLatestDescriptors\n",
    "%use coroutines\n",
    "%use langchain4j(1.0.0-beta3)"
   ],
   "outputs": [],
   "execution_count": 1
  },
  {
   "metadata": {
    "ExecuteTime": {
     "end_time": "2025-05-11T19:10:53.381730Z",
     "start_time": "2025-05-11T19:10:53.355638Z"
    }
   },
   "cell_type": "code",
   "source": "val apiKey = System.getenv(\"OPENAI_API_KEY\") ?: \"YOUR_OPENAI_API_KEY\"",
   "outputs": [],
   "execution_count": 2
  },
  {
   "metadata": {
    "ExecuteTime": {
     "end_time": "2025-05-11T19:10:53.440004Z",
     "start_time": "2025-05-11T19:10:53.384316Z"
    }
   },
   "cell_type": "code",
   "source": [
    "val model = OpenAiChatModel.builder()\n",
    "    .apiKey(apiKey)\n",
    "    .modelName(OpenAiChatModelName.GPT_4_O_MINI)\n",
    "    .temperature(0.3)\n",
    "    .build()"
   ],
   "outputs": [],
   "execution_count": 3
  },
  {
   "metadata": {},
   "cell_type": "markdown",
   "source": "## Chat API"
  },
  {
   "metadata": {
    "ExecuteTime": {
     "end_time": "2025-05-11T19:10:58.628384Z",
     "start_time": "2025-05-11T19:10:53.443924Z"
    }
   },
   "cell_type": "code",
   "source": "model.chat(\"How do I create in Kotlin a plus function for a Point data class that adds two Points together in the form point1 + point2?\")",
   "outputs": [
    {
     "data": {
      "text/plain": [
       "In Kotlin, you can overload the `plus` operator for a data class by defining the `plus` function. To create a `Point` data class that supports addition using the `+` operator, you can follow these steps:\n",
       "\n",
       "1. Define the `Point` data class with properties for the x and y coordinates.\n",
       "2. Implement the `plus` operator function to add two `Point` instances.\n",
       "\n",
       "Here's an example of how you can do this:\n",
       "\n",
       "```kotlin\n",
       "data class Point(val x: Int, val y: Int) {\n",
       "    operator fun plus(other: Point): Point {\n",
       "        return Point(this.x + other.x, this.y + other.y)\n",
       "    }\n",
       "}\n",
       "\n",
       "fun main() {\n",
       "    val point1 = Point(1, 2)\n",
       "    val point2 = Point(3, 4)\n",
       "    \n",
       "    val result = point1 + point2\n",
       "    println(result) // Output: Point(x=4, y=6)\n",
       "}\n",
       "```\n",
       "\n",
       "### Explanation:\n",
       "- The `Point` data class has two properties: `x` and `y`, both of type `Int`.\n",
       "- The `operator fun plus(other: Point): Point` function is defined to overload the `+` operator. It takes another `Point` as a parameter and returns a new `Point` whose coordinates are the sum of the corresponding coordinates of the two points.\n",
       "- In the `main` function, two `Point` instances are created, and when you use the `+` operator, it calls the `plus` function, resulting in a new `Point` that represents the sum of the two points.\n",
       "\n",
       "Now you can add two `Point` instances together using the `+` operator!"
      ]
     },
     "execution_count": 4,
     "metadata": {},
     "output_type": "execute_result"
    }
   ],
   "execution_count": 4
  },
  {
   "metadata": {},
   "cell_type": "markdown",
   "source": "## Prompts"
  },
  {
   "metadata": {},
   "cell_type": "markdown",
   "source": "### 1 API"
  },
  {
   "metadata": {
    "ExecuteTime": {
     "end_time": "2025-05-11T19:11:04.892251Z",
     "start_time": "2025-05-11T19:10:58.632971Z"
    }
   },
   "cell_type": "code",
   "source": [
    "import dev.langchain4j.data.message.SystemMessage.systemMessage\n",
    "import dev.langchain4j.data.message.UserMessage.userMessage\n",
    "import dev.langchain4j.model.chat.request.chatRequest\n",
    "\n",
    "val response = model.chat(\n",
    "    chatRequest {\n",
    "        messages += systemMessage(\n",
    "            \"\"\"\n",
    "            You are an expert Kotlin developer. Your task is to write idiomatic Kotlin code. Follow these guidelines:\n",
    "            - Use clean code principles.\n",
    "            - Write concise and readable APIs.\n",
    "            - Stick to idiomatic Kotlin conventions.\n",
    "            - Leverage higher-order functions, extensions, and null-safety features.\n",
    "            - Avoid unnecessary complexity; simplify the code when possible.\n",
    "            - Ensure the code is optimized for performance.\n",
    "            - Structure the code clearly and use best practices.\n",
    "            - Provide concise and to-the-point responses.\n",
    "        \"\"\".trimIndent()\n",
    "        )\n",
    "        messages += userMessage(\n",
    "            \"\"\"\n",
    "            What foldRight does? What will be the intermidieate and the end result of the foldRight function call?\n",
    "            ```kotlin\n",
    "                \"baba\".foldRight(\"\") { x, acc -> \"${'$'}x${'$'}{acc}${'$'}{acc}\" })\n",
    "            ```\n",
    "            \"\"\".trimIndent()\n",
    "        )\n",
    "    }\n",
    ").aiMessage()\n",
    "response"
   ],
   "outputs": [
    {
     "data": {
      "text/plain": [
       "AiMessage { text = \"In Kotlin, the `foldRight` function is used to accumulate a value starting from the rightmost element of a collection (or a string, in this case). It takes an initial accumulator value and a lambda function that specifies how to combine each element with the accumulator.\n",
       "\n",
       "Here's a breakdown of the provided code:\n",
       "\n",
       "```kotlin\n",
       "val result = \"baba\".foldRight(\"\") { x, acc -> \"$x${acc}${acc}\" }\n",
       "```\n",
       "\n",
       "### Explanation:\n",
       "- The string `\"baba\"` is processed from right to left.\n",
       "- The initial accumulator (`acc`) is an empty string `\"\"`.\n",
       "- For each character `x` in the string, the lambda function combines `x` with the current accumulator `acc` and appends `acc` again.\n",
       "\n",
       "### Intermediate Steps:\n",
       "1. Start with `acc = \"\"` (initial value).\n",
       "2. Process the last character `'a'`:\n",
       "   - `x = 'a'`, `acc = \"\"` → Result: `\"a\"`\n",
       "3. Process the second last character `'b'`:\n",
       "   - `x = 'b'`, `acc = \"a\"` → Result: `\"ba\"`\n",
       "4. Process the third last character `'a'`:\n",
       "   - `x = 'a'`, `acc = \"ba\"` → Result: `\"abaa\"`\n",
       "5. Process the first character `'b'`:\n",
       "   - `x = 'b'`, `acc = \"abaa\"` → Result: `\"babaa\"`\n",
       "\n",
       "### Final Result:\n",
       "The final result of the `foldRight` function call is `\"babaa\"`.\n",
       "\n",
       "### Summary:\n",
       "- **Intermediate Results**:\n",
       "  - After processing 'a': `\"a\"`\n",
       "  - After processing 'b': `\"ba\"`\n",
       "  - After processing 'a': `\"abaa\"`\n",
       "  - After processing 'b': `\"babaa\"`\n",
       "  \n",
       "- **Final Result**: `\"babaa\"`\" toolExecutionRequests = null }"
      ]
     },
     "execution_count": 5,
     "metadata": {},
     "output_type": "execute_result"
    }
   ],
   "execution_count": 5
  },
  {
   "metadata": {},
   "cell_type": "markdown",
   "source": "### 2 API"
  },
  {
   "metadata": {
    "ExecuteTime": {
     "end_time": "2025-05-11T19:11:04.936348Z",
     "start_time": "2025-05-11T19:11:04.898055Z"
    }
   },
   "cell_type": "code",
   "source": [
    "interface AssistantFirst {\n",
    "    fun chat(userMessage: String): String\n",
    "}"
   ],
   "outputs": [],
   "execution_count": 6
  },
  {
   "metadata": {
    "ExecuteTime": {
     "end_time": "2025-05-11T19:11:04.995486Z",
     "start_time": "2025-05-11T19:11:04.938868Z"
    }
   },
   "cell_type": "code",
   "source": [
    "import dev.langchain4j.service.AiServices\n",
    "\n",
    "val aiService = AiServices\n",
    "    .builder(AssistantFirst::class.java)\n",
    "    .chatLanguageModel(model)\n",
    "    .systemMessageProvider {\n",
    "        \"\"\"\n",
    "        You are an expert Kotlin developer. Your task is to write idiomatic Kotlin code. Follow these guidelines:\n",
    "            - Use clean code principles.\n",
    "            - Write concise and readable APIs.\n",
    "            - Stick to idiomatic Kotlin conventions.\n",
    "            - Leverage higher-order functions, extensions, and null-safety features.\n",
    "            - Avoid unnecessary complexity; simplify the code when possible.\n",
    "            - Ensure the code is optimized for performance.\n",
    "            - Structure the code clearly and use best practices.\n",
    "            - Provide concise and to-the-point responses.\n",
    "        \"\"\".trimIndent()\n",
    "    }\n",
    "    .build()"
   ],
   "outputs": [],
   "execution_count": 7
  },
  {
   "metadata": {
    "ExecuteTime": {
     "end_time": "2025-05-11T19:11:08.386725Z",
     "start_time": "2025-05-11T19:11:04.998861Z"
    }
   },
   "cell_type": "code",
   "source": [
    "aiService.chat(\"\"\"\n",
    "Write a main function that creates a flow of five elements 1, 2, 3, 4, and 5, and prints each one of them. Use the collect function without any arguments to do so.\n",
    "Make sure to include all imports, but don’t use star imports.\n",
    "\"\"\".trimIndent())"
   ],
   "outputs": [
    {
     "data": {
      "text/plain": [
       "Here’s an idiomatic Kotlin code snippet that creates a flow of five elements and prints each one using the `collect` function:\n",
       "\n",
       "```kotlin\n",
       "import kotlinx.coroutines.flow.Flow\n",
       "import kotlinx.coroutines.flow.flow\n",
       "import kotlinx.coroutines.runBlocking\n",
       "import kotlinx.coroutines.flow.collect\n",
       "\n",
       "fun main() = runBlocking {\n",
       "    createFlow().collect { value ->\n",
       "        println(value)\n",
       "    }\n",
       "}\n",
       "\n",
       "fun createFlow(): Flow<Int> = flow {\n",
       "    for (i in 1..5) {\n",
       "        emit(i)\n",
       "    }\n",
       "}\n",
       "```\n",
       "\n",
       "### Explanation:\n",
       "- The `createFlow` function creates a flow of integers from 1 to 5 using the `flow` builder.\n",
       "- The `main` function uses `runBlocking` to run a coroutine that collects the flow and prints each emitted value.\n",
       "- The `collect` function is used without any arguments, as requested."
      ]
     },
     "execution_count": 8,
     "metadata": {},
     "output_type": "execute_result"
    }
   ],
   "execution_count": 8
  },
  {
   "metadata": {},
   "cell_type": "markdown",
   "source": "### 3 API"
  },
  {
   "metadata": {
    "ExecuteTime": {
     "end_time": "2025-05-11T19:11:08.420558Z",
     "start_time": "2025-05-11T19:11:08.392140Z"
    }
   },
   "cell_type": "code",
   "source": [
    "import dev.langchain4j.service.SystemMessage\n",
    "\n",
    "interface AssistantSecond {\n",
    "\n",
    "    @SystemMessage(\n",
    "        \"\"\"\n",
    "        You are an expert Kotlin developer. Your task is to write idiomatic Kotlin code. Follow these guidelines:\n",
    "            - Use clean code principles.\n",
    "            - Write concise and readable APIs.\n",
    "            - Stick to idiomatic Kotlin conventions.\n",
    "            - Leverage higher-order functions, extensions, and null-safety features.\n",
    "            - Avoid unnecessary complexity; simplify the code when possible.\n",
    "            - Ensure the code is optimized for performance.\n",
    "            - Structure the code clearly and use best practices.\n",
    "            - Provide concise and to-the-point responses.\n",
    "        \"\"\"\n",
    "    )\n",
    "    fun chat(userMessage: String): String\n",
    "}"
   ],
   "outputs": [],
   "execution_count": 9
  },
  {
   "metadata": {
    "ExecuteTime": {
     "end_time": "2025-05-11T19:11:08.448573Z",
     "start_time": "2025-05-11T19:11:08.423195Z"
    }
   },
   "cell_type": "code",
   "source": "val assistant = AiServices.create(AssistantSecond::class.java, model)",
   "outputs": [],
   "execution_count": 10
  },
  {
   "metadata": {
    "ExecuteTime": {
     "end_time": "2025-05-11T19:11:13.444693Z",
     "start_time": "2025-05-11T19:11:08.452131Z"
    }
   },
   "cell_type": "code",
   "source": [
    "assistant.chat(\"\"\"\n",
    "Write a main function that creates a flow of five elements 1, 2, 3, 4, and 5, and prints each one of them. Use the collect function without any arguments to do so.\n",
    "Make sure to include all imports, but don’t use star imports.\n",
    "\"\"\".trimIndent())"
   ],
   "outputs": [
    {
     "data": {
      "text/plain": [
       "Here's a concise and idiomatic Kotlin code snippet that creates a flow of five elements and prints each of them using the `collect` function:\n",
       "\n",
       "```kotlin\n",
       "import kotlinx.coroutines.flow.Flow\n",
       "import kotlinx.coroutines.flow.flow\n",
       "import kotlinx.coroutines.runBlocking\n",
       "import kotlinx.coroutines.flow.collect\n",
       "\n",
       "fun main() = runBlocking {\n",
       "    createFlow().collect { value ->\n",
       "        println(value)\n",
       "    }\n",
       "}\n",
       "\n",
       "fun createFlow(): Flow<Int> = flow {\n",
       "    for (i in 1..5) {\n",
       "        emit(i)\n",
       "    }\n",
       "}\n",
       "```\n",
       "\n",
       "### Explanation:\n",
       "- **Imports**: Specific imports are used for clarity.\n",
       "- **Flow Creation**: The `createFlow` function generates a flow of integers from 1 to 5.\n",
       "- **Collecting Values**: The `collect` function is used to print each emitted value.\n",
       "- **runBlocking**: This is used to run the coroutine in the main function, ensuring that the flow is collected properly."
      ]
     },
     "execution_count": 11,
     "metadata": {},
     "output_type": "execute_result"
    }
   ],
   "execution_count": 11
  },
  {
   "metadata": {},
   "cell_type": "markdown",
   "source": "## Stream"
  },
  {
   "metadata": {},
   "cell_type": "markdown",
   "source": "### Async"
  },
  {
   "metadata": {
    "ExecuteTime": {
     "end_time": "2025-05-11T19:11:20.204269Z",
     "start_time": "2025-05-11T19:11:13.450493Z"
    }
   },
   "cell_type": "code",
   "source": [
    "import dev.langchain4j.model.chat.chat\n",
    "\n",
    "runBlocking {\n",
    "    model.chat {\n",
    "        messages += systemMessage(\"You are an expert Kotlin developer.\")\n",
    "        messages += userMessage(\n",
    "            \"\"\"\n",
    "                Write a main function that creates a flow of five elements 1, 2, 3, 4, and 5, and prints each one of them. Use the collect function without any arguments to do so.\n",
    "                Make sure to include all imports, but don’t use star imports.\n",
    "            \"\"\".trimIndent()\n",
    "        )\n",
    "    }\n",
    "}\n"
   ],
   "outputs": [
    {
     "data": {
      "text/plain": [
       "ChatResponse { aiMessage = AiMessage { text = \"Certainly! Below is a Kotlin program that creates a flow of five elements (1, 2, 3, 4, and 5) and prints each of them using the `collect` function without any arguments. Make sure you have the necessary dependencies for Kotlin Coroutines in your project.\n",
       "\n",
       "```kotlin\n",
       "import kotlinx.coroutines.CoroutineScope\n",
       "import kotlinx.coroutines.Dispatchers\n",
       "import kotlinx.coroutines.flow.Flow\n",
       "import kotlinx.coroutines.flow.flow\n",
       "import kotlinx.coroutines.launch\n",
       "import kotlinx.coroutines.runBlocking\n",
       "\n",
       "fun main() = runBlocking {\n",
       "    val numberFlow: Flow<Int> = flow {\n",
       "        for (i in 1..5) {\n",
       "            emit(i)\n",
       "        }\n",
       "    }\n",
       "\n",
       "    numberFlow.collect()\n",
       "}\n",
       "\n",
       "fun Flow<Int>.collect() {\n",
       "    CoroutineScope(Dispatchers.Default).launch {\n",
       "        this@collect.collect { value ->\n",
       "            println(value)\n",
       "        }\n",
       "    }\n",
       "}\n",
       "```\n",
       "\n",
       "### Explanation:\n",
       "1. **Imports**: The necessary imports for coroutines and flow are included.\n",
       "2. **Flow Creation**: A flow of integers from 1 to 5 is created using the `flow` builder.\n",
       "3. **Collecting the Flow**: The `collect` function is defined as an extension function on `Flow<Int>`, which collects the emitted values and prints them.\n",
       "4. **Coroutine Context**: The `runBlocking` function is used to run the main coroutine, ensuring that the flow collection completes before the program exits.\n",
       "\n",
       "Make sure to run this code in an environment that supports Kotlin Coroutines, such as a Kotlin application or a compatible IDE.\" toolExecutionRequests = null }, metadata = OpenAiChatResponseMetadata{id='chatcmpl-BW6MrM6lgSrROBUZENmM8ZnwohSha', modelName='gpt-4o-mini-2024-07-18', tokenUsage=OpenAiTokenUsage{ inputTokenCount = 77, inputTokensDetails=InputTokensDetails[cachedTokens=0], outputTokenCount = 319, outputTokensDetails=OutputTokensDetails[reasoningTokens=0], totalTokenCount = 396}, finishReason=STOP, created=1746990673, serviceTier='default', systemFingerprint='fp_0392822090'} }"
      ]
     },
     "execution_count": 12,
     "metadata": {},
     "output_type": "execute_result"
    }
   ],
   "execution_count": 12
  },
  {
   "metadata": {},
   "cell_type": "markdown",
   "source": "### Flow"
  },
  {
   "metadata": {
    "ExecuteTime": {
     "end_time": "2025-05-11T19:11:28.315517Z",
     "start_time": "2025-05-11T19:11:20.222350Z"
    }
   },
   "cell_type": "code",
   "source": [
    "import dev.langchain4j.model.chat.StreamingChatLanguageModelReply\n",
    "import dev.langchain4j.model.chat.chatFlow\n",
    "import dev.langchain4j.model.openai.OpenAiStreamingChatModel\n",
    "import kotlinx.coroutines.flow.Flow\n",
    "\n",
    "val streamModel = OpenAiStreamingChatModel.builder()\n",
    "    .apiKey(apiKey)\n",
    "    .modelName(OpenAiChatModelName.GPT_4_O_MINI)\n",
    "    .temperature(0.3)\n",
    "    .build()\n",
    "\n",
    "val flowResponse = streamModel.chatFlow {\n",
    "    messages += systemMessage(\"You are an expert Kotlin developer.\")\n",
    "    messages += userMessage(\n",
    "        \"\"\"\n",
    "        Write a main function that creates a flow of five elements 1, 2, 3, 4, and 5, and prints each one of them. Use the collect function without any arguments to do so.\n",
    "        Make sure to include all imports, but don’t use star imports.\n",
    "        \"\"\".trimIndent()\n",
    "    )\n",
    "}\n",
    "\n",
    "runBlocking {\n",
    "    flowResponse.collect {\n",
    "        when (it) {\n",
    "            is StreamingChatLanguageModelReply.PartialResponse -> {\n",
    "                print(it.partialResponse) // Stream output as it arrives\n",
    "            }\n",
    "            is StreamingChatLanguageModelReply.CompleteResponse -> {\n",
    "                println(\"\\nComplete: ${it.response.aiMessage().text()}\")\n",
    "            }\n",
    "            is StreamingChatLanguageModelReply.Error -> {\n",
    "                println(\"Error occurred: ${it.cause.message}\")\n",
    "            }\n",
    "        }\n",
    "    }\n",
    "}"
   ],
   "outputs": [
    {
     "name": "stdout",
     "output_type": "stream",
     "text": [
      "Certainly! Below is a Kotlin program that creates a flow of five elements (1, 2, 3, 4, and 5) and prints each element using the `collect` function. The necessary imports are included without using star imports.\n",
      "\n",
      "```kotlin\n",
      "import kotlinx.coroutines.flow.Flow\n",
      "import kotlinx.coroutines.flow.flow\n",
      "import kotlinx.coroutines.runBlocking\n",
      "import kotlinx.coroutines.flow.collect\n",
      "\n",
      "fun main() = runBlocking {\n",
      "    val numberFlow: Flow<Int> = flow {\n",
      "        for (i in 1..5) {\n",
      "            emit(i) // Emit each number\n",
      "        }\n",
      "    }\n",
      "\n",
      "    numberFlow.collect() { value ->\n",
      "        println(value) // Print each emitted value\n",
      "    }\n",
      "}\n",
      "```\n",
      "\n",
      "### Explanation:\n",
      "- We import the necessary classes from the `kotlinx.coroutines.flow` package.\n",
      "- The `main` function is defined as a coroutine using `runBlocking` to allow the use of suspending functions.\n",
      "- A `Flow` of integers is created using the `flow` builder, emitting the numbers 1 through 5.\n",
      "- The `collect` function is called on the flow, which takes a lambda to process each emitted value, printing it to the console. \n",
      "\n",
      "Make sure to include the necessary dependencies for coroutines and flows in your `build.gradle` file if you're using a Gradle project:\n",
      "\n",
      "```groovy\n",
      "dependencies {\n",
      "    implementation \"org.jetbrains.kotlinx:kotlinx-coroutines-core:1.6.0\"\n",
      "}\n",
      "```\n",
      "\n",
      "Adjust the version number as needed based on the latest available version.\n",
      "Complete: Certainly! Below is a Kotlin program that creates a flow of five elements (1, 2, 3, 4, and 5) and prints each element using the `collect` function. The necessary imports are included without using star imports.\n",
      "\n",
      "```kotlin\n",
      "import kotlinx.coroutines.flow.Flow\n",
      "import kotlinx.coroutines.flow.flow\n",
      "import kotlinx.coroutines.runBlocking\n",
      "import kotlinx.coroutines.flow.collect\n",
      "\n",
      "fun main() = runBlocking {\n",
      "    val numberFlow: Flow<Int> = flow {\n",
      "        for (i in 1..5) {\n",
      "            emit(i) // Emit each number\n",
      "        }\n",
      "    }\n",
      "\n",
      "    numberFlow.collect() { value ->\n",
      "        println(value) // Print each emitted value\n",
      "    }\n",
      "}\n",
      "```\n",
      "\n",
      "### Explanation:\n",
      "- We import the necessary classes from the `kotlinx.coroutines.flow` package.\n",
      "- The `main` function is defined as a coroutine using `runBlocking` to allow the use of suspending functions.\n",
      "- A `Flow` of integers is created using the `flow` builder, emitting the numbers 1 through 5.\n",
      "- The `collect` function is called on the flow, which takes a lambda to process each emitted value, printing it to the console. \n",
      "\n",
      "Make sure to include the necessary dependencies for coroutines and flows in your `build.gradle` file if you're using a Gradle project:\n",
      "\n",
      "```groovy\n",
      "dependencies {\n",
      "    implementation \"org.jetbrains.kotlinx:kotlinx-coroutines-core:1.6.0\"\n",
      "}\n",
      "```\n",
      "\n",
      "Adjust the version number as needed based on the latest available version.\n"
     ]
    }
   ],
   "execution_count": 13
  },
  {
   "metadata": {},
   "cell_type": "markdown",
   "source": "### AiService"
  },
  {
   "metadata": {
    "ExecuteTime": {
     "end_time": "2025-05-11T19:11:31.606698Z",
     "start_time": "2025-05-11T19:11:28.325448Z"
    }
   },
   "cell_type": "code",
   "source": [
    "@file:DependsOn(\"dev.langchain4j:langchain4j-reactor:1.0.0-beta2\")\n",
    "@file:DependsOn(\"org.jetbrains.kotlinx:kotlinx-coroutines-reactor:1.10.1\")"
   ],
   "outputs": [],
   "execution_count": 14
  },
  {
   "metadata": {
    "ExecuteTime": {
     "end_time": "2025-05-11T19:11:31.687083Z",
     "start_time": "2025-05-11T19:11:31.616631Z"
    }
   },
   "cell_type": "code",
   "source": [
    "import reactor.core.publisher.Flux\n",
    "\n",
    "interface AssistantThird {\n",
    "    fun chat(message: String): Flux<String>\n",
    "}"
   ],
   "outputs": [],
   "execution_count": 15
  },
  {
   "metadata": {
    "ExecuteTime": {
     "end_time": "2025-05-11T19:11:31.711065Z",
     "start_time": "2025-05-11T19:11:31.689277Z"
    }
   },
   "cell_type": "code",
   "source": "val assistant = AiServices.create(AssistantThird::class.java, streamModel)",
   "outputs": [],
   "execution_count": 16
  },
  {
   "metadata": {
    "ExecuteTime": {
     "end_time": "2025-05-11T19:11:38.833393Z",
     "start_time": "2025-05-11T19:11:31.714734Z"
    }
   },
   "cell_type": "code",
   "source": [
    "import kotlinx.coroutines.reactive.asFlow\n",
    "\n",
    "val response = assistant.chat(\"\"\"\n",
    "Write a main function that creates a flow of five elements 1, 2, 3, 4, and 5, and prints each one of them. Use the collect function without any arguments to do so.\n",
    "Make sure to include all imports, but don’t use star imports.\n",
    "\"\"\".trimIndent()).asFlow()\n",
    "\n",
    "runBlocking {\n",
    "    response.collect {\n",
    "        print(it)\n",
    "    }\n",
    "}"
   ],
   "outputs": [
    {
     "name": "stdout",
     "output_type": "stream",
     "text": [
      "To create a flow of five elements and print each one using the `collect` function in Kotlin, you'll need to use the Kotlin Coroutines library. Below is a complete example that includes all necessary imports and demonstrates how to achieve this:\n",
      "\n",
      "```kotlin\n",
      "import kotlinx.coroutines.flow.Flow\n",
      "import kotlinx.coroutines.flow.flow\n",
      "import kotlinx.coroutines.runBlocking\n",
      "import kotlinx.coroutines.flow.collect\n",
      "\n",
      "fun main() = runBlocking {\n",
      "    // Create a flow of five elements\n",
      "    val numberFlow: Flow<Int> = flow {\n",
      "        for (i in 1..5) {\n",
      "            emit(i) // Emit each number\n",
      "        }\n",
      "    }\n",
      "\n",
      "    // Collect and print each element from the flow\n",
      "    numberFlow.collect { value ->\n",
      "        println(value)\n",
      "    }\n",
      "}\n",
      "```\n",
      "\n",
      "### Explanation:\n",
      "1. **Imports**: We import the necessary classes from the `kotlinx.coroutines.flow` package.\n",
      "2. **Flow Creation**: We create a flow using the `flow` builder, emitting numbers from 1 to 5.\n",
      "3. **Collecting Values**: We use the `collect` function to print each emitted value.\n",
      "\n",
      "### Running the Code:\n",
      "To run this code, ensure you have the Kotlin Coroutines library included in your project. You can add the following dependency to your `build.gradle` file if you're using Gradle:\n",
      "\n",
      "```groovy\n",
      "implementation 'org.jetbrains.kotlinx:kotlinx-coroutines-core:1.6.0' // Check for the latest version\n",
      "```\n",
      "\n",
      "This example will print:\n",
      "```\n",
      "1\n",
      "2\n",
      "3\n",
      "4\n",
      "5\n",
      "``` \n",
      "\n",
      "Make sure to run this code in an environment that supports Kotlin and coroutines, such as IntelliJ IDEA or a compatible Kotlin playground."
     ]
    }
   ],
   "execution_count": 17
  },
  {
   "metadata": {},
   "cell_type": "markdown",
   "source": "## Structured Outputs"
  },
  {
   "metadata": {},
   "cell_type": "markdown",
   "source": "### JSON_MODE"
  },
  {
   "metadata": {
    "ExecuteTime": {
     "end_time": "2025-05-11T19:11:38.920547Z",
     "start_time": "2025-05-11T19:11:38.837700Z"
    }
   },
   "cell_type": "code",
   "source": [
    "import com.fasterxml.jackson.annotation.JsonCreator\n",
    "import com.fasterxml.jackson.annotation.JsonProperty\n",
    "\n",
    "/**\n",
    " * Represents a person with basic personal attributes.\n",
    " *\n",
    " * @property name The name of the person.\n",
    " * @property age The age of the person in years.\n",
    " * @property height The height of the person in meters.\n",
    " * @property married Indicates if the person is married.\n",
    " */\n",
    "data class Person @JsonCreator constructor(\n",
    "    @JsonProperty(\"name\") val name: String,\n",
    "    @JsonProperty(\"age\") val age: Int,\n",
    "    @JsonProperty(\"height\") val height: Double,\n",
    "    @JsonProperty(\"married\") val married: Boolean\n",
    ")\n",
    "\n",
    "interface PersonExtractor {\n",
    "    fun extractPersonFrom(text: String): Person\n",
    "}\n",
    "\n",
    "val jsonModel = OpenAiChatModel.builder()\n",
    "    .apiKey(apiKey)\n",
    "    .modelName(OpenAiChatModelName.GPT_4_O_MINI)\n",
    "    .temperature(0.3)\n",
    "    .responseFormat(\"json_schema\")\n",
    "    .strictJsonSchema(true)\n",
    "    .build()\n",
    "\n",
    "val personExtractor = AiServices.create(PersonExtractor::class.java, jsonModel)"
   ],
   "outputs": [],
   "execution_count": 18
  },
  {
   "metadata": {
    "ExecuteTime": {
     "end_time": "2025-05-11T19:11:39.756133Z",
     "start_time": "2025-05-11T19:11:38.923529Z"
    }
   },
   "cell_type": "code",
   "source": [
    "personExtractor.extractPersonFrom(\n",
    "    \"\"\"\n",
    "        John is 42 years old and lives an independent life.\n",
    "        He stands 1.75 meters tall and carries himself with confidence.\n",
    "        Currently unmarried, he enjoys the freedom to focus on his personal goals and interests.\n",
    "    \"\"\"\n",
    ")"
   ],
   "outputs": [
    {
     "data": {
      "text/plain": [
       "Person(name=John, age=42, height=1.75, married=false)"
      ]
     },
     "execution_count": 19,
     "metadata": {},
     "output_type": "execute_result"
    }
   ],
   "execution_count": 19
  },
  {
   "metadata": {
    "ExecuteTime": {
     "end_time": "2025-05-11T19:11:39.803796Z",
     "start_time": "2025-05-11T19:11:39.759546Z"
    }
   },
   "cell_type": "code",
   "source": [
    "data class Step @JsonCreator constructor(\n",
    "    @JsonProperty(\"explanation\") val explanation: String,\n",
    "    @JsonProperty(\"output\") val output: String\n",
    ")\n",
    "\n",
    "data class MathResponse @JsonCreator constructor(\n",
    "    @JsonProperty(\"steps\") val steps: List<Step>,\n",
    "    @JsonProperty(\"finalAnswer\") val finalAnswer: String\n",
    ")\n",
    "\n",
    "interface MathAssistant {\n",
    "    @SystemMessage(\"You are a helpful math tutor.\")\n",
    "    fun chat(message: String): MathResponse\n",
    "}\n",
    "\n",
    "val assistant = AiServices.create(MathAssistant::class.java, jsonModel)\n"
   ],
   "outputs": [],
   "execution_count": 20
  },
  {
   "metadata": {
    "ExecuteTime": {
     "end_time": "2025-05-11T19:11:42.205093Z",
     "start_time": "2025-05-11T19:11:39.806505Z"
    }
   },
   "cell_type": "code",
   "source": [
    "val response = assistant.chat(\"solve 8x + 31 = 2\")\n",
    "\n",
    "println(response.steps.withIndex().joinToString(\"\\n\") { \"${it.index + 1}. ${it.value.explanation}\" })\n",
    "println(\"Answer:\")\n",
    "println(response.finalAnswer)"
   ],
   "outputs": [
    {
     "name": "stdout",
     "output_type": "stream",
     "text": [
      "1. Subtract 31 from both sides to isolate the term with x.\n",
      "2. This simplifies to 8x = -29.\n",
      "3. Now, divide both sides by 8 to solve for x.\n",
      "4. This simplifies to x = -3.625.\n",
      "Answer:\n",
      "x = -3.625\n"
     ]
    }
   ],
   "execution_count": 21
  },
  {
   "metadata": {},
   "cell_type": "markdown",
   "source": "### Function calling"
  },
  {
   "metadata": {
    "ExecuteTime": {
     "end_time": "2025-05-11T19:11:42.266844Z",
     "start_time": "2025-05-11T19:11:42.221006Z"
    }
   },
   "cell_type": "code",
   "source": [
    "import dev.langchain4j.agent.tool.Tool\n",
    "\n",
    "class Tools {\n",
    "    @Tool\n",
    "    fun plus(a: Int, b: Int): Int = a + b\n",
    "\n",
    "    @Tool\n",
    "    fun minus(a: Int, b: Int): Int = a - b\n",
    "\n",
    "    @Tool\n",
    "    fun times(a: Int, b: Int): Int = a * b\n",
    "\n",
    "    @Tool\n",
    "    fun div(a: Int, b: Int): Int = a / b\n",
    "}\n",
    "\n",
    "interface MathAssistant {\n",
    "    @SystemMessage(\"You are a helpful math tutor.\")\n",
    "    fun chat(message: String): String\n",
    "}\n",
    "\n",
    "val assistant = AiServices.builder(MathAssistant::class.java)\n",
    "    .chatLanguageModel(model)\n",
    "    .tools(Tools())\n",
    "    .build()"
   ],
   "outputs": [],
   "execution_count": 22
  },
  {
   "metadata": {
    "ExecuteTime": {
     "end_time": "2025-05-11T19:11:54.417404Z",
     "start_time": "2025-05-11T19:11:42.270026Z"
    }
   },
   "cell_type": "code",
   "source": [
    "assistant.chat(\"\"\"\n",
    "Solve this:\n",
    "* (5 + 10) * (20 - 3) / 4\n",
    "* (a + b)^2\n",
    "* ax^2 + bx + c = 0 for a=1, b=-3, c=-4\n",
    "*  S = n * (a1 + an) / 2\n",
    "    n = 10\n",
    "    a1 = 3\n",
    "    an = 20\n",
    "\"\"\")"
   ],
   "outputs": [
    {
     "data": {
      "text/plain": [
       "Let's break down the calculations step by step:\n",
       "\n",
       "1. **Calculate \\((5 + 10) * (20 - 3) / 4\\)**:\n",
       "   - \\(5 + 10 = 15\\)\n",
       "   - \\(20 - 3 = 17\\)\n",
       "   - \\(15 * 17 = 255\\)\n",
       "   - \\(255 / 4 = 63.75\\)\n",
       "\n",
       "2. **Expand \\((a + b)^2\\)**:\n",
       "   - The expansion is \\(a^2 + 2ab + b^2\\).\n",
       "\n",
       "3. **Solve the quadratic equation \\(ax^2 + bx + c = 0\\) for \\(a=1\\), \\(b=-3\\), \\(c=-4\\)**:\n",
       "   - The equation becomes \\(1x^2 - 3x - 4 = 0\\).\n",
       "   - The roots can be found using the quadratic formula: \n",
       "     \\[\n",
       "     x = \\frac{-b \\pm \\sqrt{b^2 - 4ac}}{2a}\n",
       "     \\]\n",
       "   - Here, \\(b^2 - 4ac = (-3)^2 - 4(1)(-4) = 9 + 16 = 25\\).\n",
       "   - Thus, the roots are:\n",
       "     \\[\n",
       "     x = \\frac{3 \\pm 5}{2}\n",
       "     \\]\n",
       "     - \\(x_1 = \\frac{8}{2} = 4\\)\n",
       "     - \\(x_2 = \\frac{-2}{2} = -1\\)\n",
       "\n",
       "4. **Calculate the sum \\(S = n * (a1 + an) / 2\\)**:\n",
       "   - \\(n = 10\\), \\(a1 = 3\\), \\(an = 20\\)\n",
       "   - \\(S = 10 * (3 + 20) / 2 = 10 * 23 / 2 = 115\\)\n",
       "\n",
       "### Summary of Results:\n",
       "- \\((5 + 10) * (20 - 3) / 4 = 63.75\\)\n",
       "- \\((a + b)^2 = a^2 + 2ab + b^2\\)\n",
       "- Roots of \\(x^2 - 3x - 4 = 0\\) are \\(x = 4\\) and \\(x = -1\\).\n",
       "- \\(S = 115\\)"
      ]
     },
     "execution_count": 23,
     "metadata": {},
     "output_type": "execute_result"
    }
   ],
   "execution_count": 23
  }
 ],
 "metadata": {
  "kernelspec": {
   "display_name": "Kotlin",
   "language": "kotlin",
   "name": "kotlin"
  },
  "language_info": {
   "name": "kotlin",
   "version": "1.9.23",
   "mimetype": "text/x-kotlin",
   "file_extension": ".kt",
   "pygments_lexer": "kotlin",
   "codemirror_mode": "text/x-kotlin",
   "nbconvert_exporter": ""
  },
  "ktnbPluginMetadata": {
   "projectLibraries": false
  }
 },
 "nbformat": 4,
 "nbformat_minor": 0
}
