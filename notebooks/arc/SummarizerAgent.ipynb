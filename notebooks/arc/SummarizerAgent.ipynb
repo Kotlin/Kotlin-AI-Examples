{
 "cells": [
  {
   "metadata": {},
   "cell_type": "markdown",
   "source": [
    "# Summarizer Agent\n",
    "\n",
    "In this notebook, we showcase how to create and use a Summarizer Agent that processes external web pages to produce concise summaries. The core idea involves:\n",
    "\n",
    "1. **Filtering the Input**\n",
    "   The agent checks for a web page URL in the user’s initial message. If a valid URL is present, it fetches the HTML content of that page.\n",
    "\n",
    "2. **Preprocessing the Page**\n",
    "   Before summarizing, the agent strips away HTML tags or other unnecessary data for efficient handling.\n",
    "\n",
    "3. **Augmenting the Prompt**\n",
    "   The agent then appends the cleaned-up page text to the user’s question, ensuring all necessary information is effectively included in the conversation.\n",
    "\n",
    "4. **Producing a Short Summary**\n",
    "   With the web page data in place, the agent can generate a concise summary of the page. If the user follows up with more questions about the same page, the agent can incorporate the previously retrieved content to continue the discussion.\n",
    "\n",
    "By following this approach, the Summarizer Agent seamlessly combines downloading content with large language model capabilities, providing succinct answers that capture the essence of the requested web resource."
   ]
  },
  {
   "metadata": {
    "ExecuteTime": {
     "end_time": "2025-02-07T16:42:50.124188Z",
     "start_time": "2025-02-07T16:42:49.207589Z"
    }
   },
   "cell_type": "code",
   "source": [
    "%useLatestDescriptors\n",
    "@file:DependsOn(\"ai.ancf.lmos:arc-langchain4j-client:0.120.0\")\n",
    "@file:DependsOn(\"ai.ancf.lmos:arc-reader-html:0.120.0\")\n",
    "@file:DependsOn(\"dev.langchain4j:langchain4j-open-ai:1.0.0-beta1\")"
   ],
   "outputs": [],
   "execution_count": 3
  },
  {
   "metadata": {
    "ExecuteTime": {
     "end_time": "2025-02-07T16:42:52.563368Z",
     "start_time": "2025-02-07T16:42:52.497961Z"
    }
   },
   "cell_type": "code",
   "source": [
    "import ai.ancf.lmos.arc.agents.llm.ChatCompleter\n",
    "import ai.ancf.lmos.arc.agents.llm.ChatCompletionSettings\n",
    "import ai.ancf.lmos.arc.client.langchain4j.LangChainClient\n",
    "import ai.ancf.lmos.arc.client.langchain4j.LangChainConfig\n",
    "import dev.langchain4j.model.openai.OpenAiChatModel\n",
    "\n",
    "val openAiApiKey = System.getenv(\"OPENAI_API_KEY\") ?: \"YOUR-OPENAI-API-KEY\"\n",
    "\n",
    "val chatCompleterProvider: (String?) -> ChatCompleter = {\n",
    "    LangChainClient(\n",
    "        languageModel = LangChainConfig(\n",
    "            modelName = \"gpt-4\",\n",
    "            url = null,\n",
    "            apiKey = openAiApiKey,\n",
    "            accessKeyId = null,\n",
    "            secretAccessKey = null,\n",
    "        ), clientBuilder = { config, _ ->\n",
    "            OpenAiChatModel.builder()\n",
    "                .modelName(config.modelName)\n",
    "                .apiKey(config.apiKey)\n",
    "                .build()\n",
    "        }\n",
    "    )\n",
    "}"
   ],
   "outputs": [],
   "execution_count": 4
  },
  {
   "metadata": {
    "ExecuteTime": {
     "end_time": "2025-02-07T16:43:10.658020Z",
     "start_time": "2025-02-07T16:43:10.413556Z"
    }
   },
   "cell_type": "code",
   "source": [
    "import ai.ancf.lmos.arc.agents.DSLAgents\n",
    "import ai.ancf.lmos.arc.agents.dsl.extensions.debug\n",
    "import ai.ancf.lmos.arc.agents.dsl.extensions.extractUrl\n",
    "import ai.ancf.lmos.arc.agents.dsl.extensions.html\n",
    "import ai.ancf.lmos.arc.core.getOrThrow\n",
    "\n",
    "val agentName = \"summarizer-agent\"\n",
    "val agentBuilder = DSLAgents.init(chatCompleterProvider).apply {\n",
    "    define {\n",
    "        agent {\n",
    "            name = agentName\n",
    "            description = \"Agent that summarizes web pages.\"\n",
    "            prompt {\n",
    "                \"\"\"\n",
    "                    You are a helpful agent.\n",
    "                    You help customers by summarizing webpages.\n",
    "                    Keep your answer short and concise.\n",
    "                \"\"\"\n",
    "            }\n",
    "            filterInput {\n",
    "                val url = extractUrl(inputMessage).firstOrNull()\n",
    "                if (url != null) {\n",
    "                    debug(\"Loading url: $url\")\n",
    "                    val html = html(url).getOrThrow()\n",
    "                    inputMessage = inputMessage.update(\n",
    "                        \"\"\"\n",
    "                            User question: ${inputMessage.content}\n",
    "                            The webpage $url contains the following text:\n",
    "                            $html\n",
    "                        \"\"\"\n",
    "                    )\n",
    "                }\n",
    "            }\n",
    "        }\n",
    "    }\n",
    "}"
   ],
   "outputs": [],
   "execution_count": 5
  },
  {
   "metadata": {},
   "cell_type": "code",
   "outputs": [
    {
     "data": {
      "text/plain": [
       "[ChatAgent(name='summarizer-agent', description='Agent that summarizes web pages.')]"
      ]
     },
     "execution_count": 6,
     "metadata": {},
     "output_type": "execute_result"
    }
   ],
   "execution_count": 6,
   "source": [
    "val agents = agentBuilder.getAgents()\n",
    "agents"
   ]
  },
  {
   "metadata": {
    "ExecuteTime": {
     "end_time": "2025-02-07T16:46:45.443603Z",
     "start_time": "2025-02-07T16:46:37.735360Z"
    }
   },
   "cell_type": "code",
   "source": [
    "import ai.ancf.lmos.arc.agents.ChatAgent\n",
    "import ai.ancf.lmos.arc.agents.User\n",
    "import ai.ancf.lmos.arc.agents.conversation.Conversation\n",
    "import ai.ancf.lmos.arc.agents.conversation.UserMessage\n",
    "import ai.ancf.lmos.arc.agents.getAgentByName\n",
    "import ai.ancf.lmos.arc.core.getOrNull\n",
    "import kotlinx.coroutines.runBlocking\n",
    "\n",
    "val articleUrl = \"https://blog.jetbrains.com/kotlin/2025/02/kodees-kotlin-roundup-fresh-picks/\"\n",
    "\n",
    "val agent = agentBuilder.getAgentByName(agentName) as ChatAgent? ?: error(\"Agent not found!\")\n",
    "val conversation = Conversation(User(\"userOrClientId\")) + UserMessage(\"Please summarize the following article: $articleUrl\")\n",
    "runBlocking {\n",
    "    agent.execute(conversation).getOrNull()?.transcript?.getOrNull(1)?.content\n",
    "}"
   ],
   "outputs": [
    {
     "data": {
      "text/plain": [
       "The blog post on JetBrains titled \"Kodee’s Kotlin Roundup: Fresh Picks to Begin 2025\" discusses recent developments and updates in the Kotlin language. Highlights include the release of Kotlin 2.1.0 and the subsequent arrival of Kotlin 2.1.20-Beta2, which brings in tooling updates, new language features, and performance improvements. The blog also announces the introduction of klibs.io for easier discovery of Kotlin Multiplatform libraries and the winners of the Kotlin Multiplatform Contest. Additionally, it provides information about Kotlin's presence in the Google Summer of Code 2024 and a program for server-side Kotlin content creators. Finally, it mentions upcoming events, including KotlinConf 2025 and Kotlin workshops on May 21.\n"
      ]
     },
     "execution_count": 9,
     "metadata": {},
     "output_type": "execute_result"
    }
   ],
   "execution_count": 9
  }
 ],
 "metadata": {
  "kernelspec": {
   "display_name": "Kotlin",
   "language": "kotlin",
   "name": "kotlin"
  },
  "language_info": {
   "name": "kotlin",
   "version": "1.9.23",
   "mimetype": "text/x-kotlin",
   "file_extension": ".kt",
   "pygments_lexer": "kotlin",
   "codemirror_mode": "text/x-kotlin",
   "nbconvert_exporter": ""
  }
 },
 "nbformat": 4,
 "nbformat_minor": 0
}
