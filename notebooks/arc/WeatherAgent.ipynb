{
 "cells": [
  {
   "metadata": {},
   "cell_type": "markdown",
   "source": [
    "# Weather Agent\n",
    "\n",
    "In this notebook, demonstrate how to create and use a `meteorologist`\n",
    "agent that retrieves real-time weather data using a \"get_weather\" function.\n",
    "We will define the agent's capabilities and see how it processes user queries to\n",
    "provide accurate and current weather information for a given location."
   ]
  },
  {
   "metadata": {
    "ExecuteTime": {
     "end_time": "2025-02-07T16:23:07.302761Z",
     "start_time": "2025-02-07T16:23:06.966529Z"
    }
   },
   "cell_type": "code",
   "source": [
    "%useLatestDescriptors\n",
    "@file:DependsOn(\"ai.ancf.lmos:arc-langchain4j-client:0.120.0\")\n",
    "@file:DependsOn(\"dev.langchain4j:langchain4j-open-ai:1.0.0-beta1\")"
   ],
   "outputs": [],
   "execution_count": 1
  },
  {
   "metadata": {},
   "cell_type": "markdown",
   "source": [
    "In this cell, we configure our environment with two key variables:\n",
    "* `openAiApiKey` for [OpenAI services](https://platform.openai.com/docs/api-reference/authentication) (required to interact with GPT-based models)\n",
    "* `weatherApiKey` for [WeatherAPI](https://www.weatherapi.com/) (required to fetch real-time weather data)\n",
    "\n",
    "Make sure to replace the placeholder values (e.g., `\"YOUR-OPENAI-API-KEY\"`) with your actual keys before running the notebook."
   ]
  },
  {
   "metadata": {
    "ExecuteTime": {
     "end_time": "2025-02-07T16:23:07.580620Z",
     "start_time": "2025-02-07T16:23:07.425446Z"
    }
   },
   "cell_type": "code",
   "source": [
    "import ai.ancf.lmos.arc.agents.llm.ChatCompleter\n",
    "import ai.ancf.lmos.arc.agents.llm.ChatCompletionSettings\n",
    "import ai.ancf.lmos.arc.client.langchain4j.LangChainClient\n",
    "import ai.ancf.lmos.arc.client.langchain4j.LangChainConfig\n",
    "import dev.langchain4j.model.openai.OpenAiChatModel\n",
    "\n",
    "val openAiApiKey = System.getenv(\"OPENAI_API_KEY\") ?: \"YOUR-OPENAI-API-KEY\"\n",
    "val weatherApiKey = System.getenv(\"WEATHER_API_KEY\") ?: \"YOUR-WEATHERAPI-API-KEY\"\n",
    "\n",
    "val chatCompleterProvider: (String?) -> ChatCompleter = {\n",
    "    LangChainClient(\n",
    "        languageModel = LangChainConfig(\n",
    "            modelName = \"gpt-4\",\n",
    "            url = null,\n",
    "            apiKey = openAiApiKey,\n",
    "            accessKeyId = null,\n",
    "            secretAccessKey = null,\n",
    "        ), clientBuilder = { config, _ ->\n",
    "            OpenAiChatModel.builder()\n",
    "                .modelName(config.modelName)\n",
    "                .apiKey(config.apiKey)\n",
    "                .build()\n",
    "        }\n",
    "    )\n",
    "}"
   ],
   "outputs": [],
   "execution_count": 2
  },
  {
   "metadata": {},
   "cell_type": "markdown",
   "source": [
    "Here, we define a “meteorologist” agent using DSLAgents.\n",
    "This agent has a prompt describing its purpose (to provide weather data) and a custom function,\n",
    "`get_weather`, which fetches real-time weather information.\n",
    "It leverages our defined `weatherApiKey` to make an HTTP request to WeatherAPI.\n",
    "The agent can then respond with up-to-date weather details for any location requested by the user."
   ]
  },
  {
   "metadata": {
    "ExecuteTime": {
     "end_time": "2025-02-07T16:24:59.201143Z",
     "start_time": "2025-02-07T16:24:58.955175Z"
    }
   },
   "cell_type": "code",
   "source": [
    "import ai.ancf.lmos.arc.agents.DSLAgents\n",
    "\n",
    "val agentName = \"meteorologist\"\n",
    "val agentBuilder = DSLAgents.init(chatCompleterProvider).apply {\n",
    "    define {\n",
    "        agent {\n",
    "            name = \"meteorologist\"\n",
    "            description = \"A meteorologist can tell you the current weather in a given location.\"\n",
    "            prompt {\n",
    "                \"\"\"\n",
    "                    You are a professional weather service.\n",
    "                    You provide weather data to you users.\n",
    "                    You have access to real-time weather data with the get_weather function.\n",
    "                    Use 'unknown' if the location is not provided.\n",
    "                    Always state the location used in the response.\n",
    "\n",
    "                    # Instructions\n",
    "                    - Use the get_weather function to get the weather data.\n",
    "                    - Use multiple function calls if more locations are specified.\n",
    "                \"\"\"\n",
    "            }\n",
    "            tools = listOf(\"get_weather\")\n",
    "        }\n",
    "    }\n",
    "\n",
    "    defineFunctions {\n",
    "        function(\n",
    "            name = \"get_weather\",\n",
    "            description = \"Get the weather for a given location\",\n",
    "            params = types(string(\"location\", \"the location\")),\n",
    "        ) { (location) ->\n",
    "            val apiUrl = \"http://api.weatherapi.com/v1/current.json\"\n",
    "            httpGet(\"$apiUrl?key=$weatherApiKey&q=$location\")\n",
    "        }\n",
    "    }\n",
    "}"
   ],
   "outputs": [],
   "execution_count": 3
  },
  {
   "metadata": {
    "ExecuteTime": {
     "end_time": "2025-02-07T16:25:02.111147Z",
     "start_time": "2025-02-07T16:25:02.055025Z"
    }
   },
   "cell_type": "code",
   "source": [
    "val agents = agentBuilder.getAgents()\n",
    "agents"
   ],
   "outputs": [
    {
     "data": {
      "text/plain": [
       "[ChatAgent(name='meteorologist', description='A meteorologist can tell you the current weather in a given location.')]"
      ]
     },
     "execution_count": 4,
     "metadata": {},
     "output_type": "execute_result"
    }
   ],
   "execution_count": 4
  },
  {
   "metadata": {},
   "cell_type": "markdown",
   "source": [
    "Let's retrieve the weather for Berlin by sending the user's question to our \"meteorologist\" agent.\n",
    "We define a new conversation containing the user's message and then execute the conversation, getting the weather data in the agent's response."
   ]
  },
  {
   "metadata": {
    "ExecuteTime": {
     "end_time": "2025-02-07T16:26:20.464622Z",
     "start_time": "2025-02-07T16:26:11.585053Z"
    }
   },
   "cell_type": "code",
   "source": [
    "import ai.ancf.lmos.arc.agents.ChatAgent\n",
    "import ai.ancf.lmos.arc.agents.User\n",
    "import ai.ancf.lmos.arc.agents.conversation.Conversation\n",
    "import ai.ancf.lmos.arc.agents.conversation.UserMessage\n",
    "import ai.ancf.lmos.arc.agents.getAgentByName\n",
    "import ai.ancf.lmos.arc.core.getOrNull\n",
    "import kotlinx.coroutines.runBlocking\n",
    "\n",
    "val agent = agentBuilder.getAgentByName(\"meteorologist\") as ChatAgent? ?: error(\"Agent not found!\")\n",
    "val conversation = Conversation(User(\"userOrClientId\")) + UserMessage(\"What is the weather like in Berlin?\")\n",
    "runBlocking {\n",
    "    agent.execute(conversation).getOrNull()?.transcript?.getOrNull(1)?.content\n",
    "}"
   ],
   "outputs": [
    {
     "data": {
      "text/plain": [
       "The current weather in Berlin, Germany is overcast with a temperature of 3.3°C (37.9°F). The wind is coming from the East at a speed of 18.7 kph (11.6 mph). The air pressure is 1033.0 mb. The humidity level is at 75%. The visibility is 10.0 km (6.0 miles). The UV index is 0.0."
      ]
     },
     "execution_count": 5,
     "metadata": {},
     "output_type": "execute_result"
    }
   ],
   "execution_count": 5
  }
 ],
 "metadata": {
  "kernelspec": {
   "display_name": "Kotlin",
   "language": "kotlin",
   "name": "kotlin"
  },
  "language_info": {
   "name": "kotlin",
   "version": "1.9.23",
   "mimetype": "text/x-kotlin",
   "file_extension": ".kt",
   "pygments_lexer": "kotlin",
   "codemirror_mode": "text/x-kotlin",
   "nbconvert_exporter": ""
  },
  "ktnbPluginMetadata": {
   "projectLibraries": false
  }
 },
 "nbformat": 4,
 "nbformat_minor": 0
}
